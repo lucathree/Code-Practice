{
 "cells": [
  {
   "cell_type": "code",
   "execution_count": 1,
   "metadata": {},
   "outputs": [],
   "source": [
    "import pandas as pd\n",
    "import numpy as np\n",
    "import requests\n",
    "from bs4 import BeautifulSoup"
   ]
  },
  {
   "cell_type": "markdown",
   "metadata": {},
   "source": [
    "# 서울시 버스 노선 정보\n",
    "\n",
    "**사용 데이터**\n",
    "- 서울특별시_노선정보조회 서비스 오픈API (xml)\n",
    "- 서울특별시_정류소정보조회 서비스 오픈API (xml)"
   ]
  },
  {
   "cell_type": "markdown",
   "metadata": {},
   "source": [
    "## 1. 버스번호를 입력하여 버스 정보 가져오기\n",
    "#### 노선 ID 찾기\n",
    "- 발급받은 인증키를 사용하여 API의 노선정보조회 서비스 연결\n",
    "- 버스 노선 번호를 파라미터로 하여 노선ID 반환"
   ]
  },
  {
   "cell_type": "code",
   "execution_count": 13,
   "metadata": {},
   "outputs": [
    {
     "name": "stdout",
     "output_type": "stream",
     "text": [
      "'NoneType' object has no attribute 'string'\n"
     ]
    }
   ],
   "source": [
    "key = \"1vpUi9jK%2B%2FJBVqaJ6TDWANcFxIFeuXBQRAljiZth0kzAvawz7gHoAgqwY3hDOFDi0SAcOe5Vz%2BE3ErfXvypDWw%3D%3D\"\n",
    "def getBusRouteId(busnum):\n",
    "    html = requests.get('http://ws.bus.go.kr/api/rest/busRouteInfo/getBusRouteList?ServiceKey='+key+'&strSrch='+busnum).text\n",
    "    root = BeautifulSoup(html, 'html.parser')\n",
    "    try:\n",
    "        loc = root.find('busrouteid')\n",
    "        return loc.string\n",
    "    except Exception as e:\n",
    "        print(e)\n",
    "\n",
    "getBusRouteId('관악2309')"
   ]
  },
  {
   "cell_type": "markdown",
   "metadata": {},
   "source": [
    "#### 버스 정차 정류소 리스트 출력\n",
    "- 발급받은 인증키를 사용하여 API의 노선별 경유 정류소 조회 서비스 연결\n",
    "- 노선ID를 파라미터로 하여 해당 노선이 정차하는 정류소 리스트를 출력\n",
    "- 노선 운행 방향에 따라 정차하는 정류소가 다르거나 중복되어 표시될 수 있으므로 별도 구분"
   ]
  },
  {
   "cell_type": "code",
   "execution_count": 3,
   "metadata": {
    "scrolled": true
   },
   "outputs": [
    {
     "name": "stdout",
     "output_type": "stream",
     "text": [
      "======= 운행방향: 홍대입구역 =======\n",
      "- 중랑공영차고지.신내역\n",
      "- 신내교회.신내데시앙아파트\n",
      "- 동성프라자앞\n",
      "- 중랑구청\n",
      "- 신현중학교\n",
      "- 엘지아파트앞\n",
      "- 쌍용아파트신내테크노타운앞\n",
      "- 이화연립경동제일교회앞\n",
      "- 중흥초등학교\n",
      "- 지하철7호선중화역2번출구\n",
      "- 지하철7호선중화역3번출구\n",
      "- 중화2동주민센터\n",
      "- 이문동현대아파트앞\n",
      "- 이문동쌍용아파트\n",
      "- 이문동삼익아파트\n",
      "- 종로사약국\n",
      "- 외대역앞\n",
      "- 외대앞\n",
      "- 경희중고\n",
      "- 회기시장\n",
      "- 경희대입구\n",
      "- 서울바이오허브.농촌경제연구원\n",
      "- 한국과학기술원.홍릉초등학교\n",
      "- 국방연구원\n",
      "- 고대앞\n",
      "- 안암전철역\n",
      "- 고려대이공대.고대병원\n",
      "- 안암동주민센터\n",
      "- 보문역\n",
      "- 보문역\n",
      "- 성북구청.성북경찰서\n",
      "- 삼선동주민센터\n",
      "- 삼선교.한성대학교\n",
      "- 혜화역.서울연극센터(장면총리가옥)\n",
      "- 혜화역.서울대병원입구\n",
      "- 방송통신대.이화장\n",
      "- 이화동(이화장)\n",
      "- 원남동\n",
      "- 혜화경찰서\n",
      "- 종로3가.탑골공원\n",
      "- 종로2가\n",
      "- 종로1가\n",
      "- 광화문\n",
      "- 서울역사박물관.경희궁앞\n",
      "- 서대문역사거리\n",
      "- 충정로역\n",
      "- 아현역\n",
      "- 웨딩타운\n",
      "- 이대역\n",
      "- 신촌오거리.2호선신촌역\n",
      "- 신촌오거리.현대백화점\n",
      "- 산울림소극장\n",
      "- 삼진제약\n",
      "- 홍익대학교\n",
      "\n",
      "======= 운행방향: 중랑공영차고지 =======\n",
      "- 홍대입구역사거리\n",
      "- 홍대입구역(가상)\n",
      "- 홍대입구역\n",
      "- 동교동삼거리\n",
      "- 신촌오거리.현대백화점\n",
      "- 신촌오거리.2호선신촌역\n",
      "- 이대역\n",
      "- 웨딩타운\n",
      "- 아현역\n",
      "- 충정로역\n",
      "- 서대문역사거리\n",
      "- 서울역사박물관.경희궁앞\n",
      "- 광화문\n",
      "- 종로1가\n",
      "- 종로2가\n",
      "- 종로3가.탑골공원\n",
      "- 종로4가.종묘\n",
      "- 종로5가.광장시장\n",
      "- 종로5가.효제초등학교\n",
      "- 종로5가.효제동.김상옥의거터\n",
      "- 방송통신대.이화장\n",
      "- 혜화역.마로니에공원\n",
      "- 혜화역.동성중고(장면총리가옥)\n",
      "- 삼선교.한성대학교.조소앙활동터\n",
      "- 돈암초교입구\n",
      "- 삼선동주민센터\n",
      "- 성북구청.성북경찰서\n",
      "- 보문역\n",
      "- 안암동주민센터\n",
      "- 고려대이공대.고대병원\n",
      "- 안암역\n",
      "- 고려대학교앞\n",
      "- 국방연구원\n",
      "- 한국과학기술원.홍릉초등학교\n",
      "- 서울바이오허브.농촌경제연구원\n",
      "- 경희대입구\n",
      "- 회기시장\n",
      "- 경희중고\n",
      "- 외대앞\n",
      "- 외대역앞\n",
      "- 이경시장\n",
      "- 이문1동주민센터\n",
      "- 이문동쌍용아파트\n",
      "- 이문동현대아파트\n",
      "- 중화2동주민센터\n",
      "- 지하철7호선중화역3번출구\n",
      "- 지하철7호선중화역2번출구\n",
      "- 중흥초등학교\n",
      "- 이화연립경동제일교회앞\n",
      "- 쌍용아파트신내테크노타운앞\n",
      "- 엘지아파트앞\n",
      "- 신현중학교\n",
      "- 중랑구청\n",
      "- 동성프라자앞\n",
      "- 신내교회.신내데시앙아파트\n",
      "- 중랑공영차고지\n",
      "- 중랑공영차고지.신내역\n",
      "\n"
     ]
    }
   ],
   "source": [
    "def getStationList(routeid):\n",
    "    html = requests.get('http://ws.bus.go.kr/api/rest/busRouteInfo/getStaionByRoute?ServiceKey='+key+'&busRouteId='+routeid).text\n",
    "    root = BeautifulSoup(html, 'html.parser')\n",
    "    items = root.find_all('itemlist')\n",
    "    direction = root.find_all('direction')\n",
    "    for i in set(direction):\n",
    "        print(f'======= 운행방향: {i.string} =======')\n",
    "        for j in items:\n",
    "            if j.direction == i:\n",
    "                print(f'- {j.stationnm.string}')\n",
    "        print()\n",
    "        \n",
    "getStationList('100100049')"
   ]
  },
  {
   "cell_type": "markdown",
   "metadata": {},
   "source": [
    "#### 버스 첫차, 막차, 배차 시간 출력\n",
    "- 발급받은 인증키를 사용하여 API의 노선 기본정보 항목 조회 서비스 연결\n",
    "- 노선ID를 파라미터로 하여 해당 노선의 첫차시간, 막차시간, 배차간격 출력\n",
    "- 버스시간 정보가 매일 업데이트되며, '2021070404100000' 형태로 정보가 제공되기 때문에 문자열 슬라이싱을 사용"
   ]
  },
  {
   "cell_type": "code",
   "execution_count": 4,
   "metadata": {},
   "outputs": [
    {
     "name": "stdout",
     "output_type": "stream",
     "text": [
      "====== 버스 시간 정보 ======\n",
      "첫차시간: 04시 10분\n",
      "막차시간: 22시 30분\n",
      "배차간격: 8분\n"
     ]
    }
   ],
   "source": [
    "def getBusTime(routeid):\n",
    "    html = requests.get('http://ws.bus.go.kr/api/rest/busRouteInfo/getRouteInfo?ServiceKey='+key+'&busRouteId='+routeid).text\n",
    "    root = BeautifulSoup(html, 'html.parser')\n",
    "    first = root.find('firstbustm')\n",
    "    last = root.find('lastbustm')\n",
    "    term = root.find('term')\n",
    "    print('====== 버스 시간 정보 ======')\n",
    "    print(f'첫차시간: {first.string[8:10]}시 {first.string[10:12]}분')\n",
    "    print(f'막차시간: {last.string[8:10]}시 {last.string[10:12]}분')\n",
    "    print(f'배차간격: {term.string}분')\n",
    "getBusTime('100100049')"
   ]
  },
  {
   "cell_type": "markdown",
   "metadata": {},
   "source": [
    "#### main()"
   ]
  },
  {
   "cell_type": "code",
   "execution_count": 10,
   "metadata": {},
   "outputs": [
    {
     "name": "stdout",
     "output_type": "stream",
     "text": [
      "버스노선 번호 입력:관악34\n"
     ]
    },
    {
     "ename": "AttributeError",
     "evalue": "'NoneType' object has no attribute 'string'",
     "output_type": "error",
     "traceback": [
      "\u001b[1;31m---------------------------------------------------------------------------\u001b[0m",
      "\u001b[1;31mAttributeError\u001b[0m                            Traceback (most recent call last)",
      "\u001b[1;32m<ipython-input-10-d3460b65fbc2>\u001b[0m in \u001b[0;36m<module>\u001b[1;34m\u001b[0m\n\u001b[0;32m      5\u001b[0m     \u001b[0mgetStationList\u001b[0m\u001b[1;33m(\u001b[0m\u001b[0mrouteid\u001b[0m\u001b[1;33m)\u001b[0m\u001b[1;33m\u001b[0m\u001b[1;33m\u001b[0m\u001b[0m\n\u001b[0;32m      6\u001b[0m \u001b[1;33m\u001b[0m\u001b[0m\n\u001b[1;32m----> 7\u001b[1;33m \u001b[0mmain\u001b[0m\u001b[1;33m(\u001b[0m\u001b[1;33m)\u001b[0m\u001b[1;33m\u001b[0m\u001b[1;33m\u001b[0m\u001b[0m\n\u001b[0m",
      "\u001b[1;32m<ipython-input-10-d3460b65fbc2>\u001b[0m in \u001b[0;36mmain\u001b[1;34m()\u001b[0m\n\u001b[0;32m      1\u001b[0m \u001b[1;32mdef\u001b[0m \u001b[0mmain\u001b[0m\u001b[1;33m(\u001b[0m\u001b[1;33m)\u001b[0m\u001b[1;33m:\u001b[0m\u001b[1;33m\u001b[0m\u001b[1;33m\u001b[0m\u001b[0m\n\u001b[0;32m      2\u001b[0m     \u001b[0mbus_num\u001b[0m \u001b[1;33m=\u001b[0m \u001b[0minput\u001b[0m\u001b[1;33m(\u001b[0m\u001b[1;34m'버스노선 번호 입력:'\u001b[0m\u001b[1;33m)\u001b[0m\u001b[1;33m\u001b[0m\u001b[1;33m\u001b[0m\u001b[0m\n\u001b[1;32m----> 3\u001b[1;33m     \u001b[0mrouteid\u001b[0m \u001b[1;33m=\u001b[0m \u001b[0mgetBusRouteId\u001b[0m\u001b[1;33m(\u001b[0m\u001b[0mbus_num\u001b[0m\u001b[1;33m)\u001b[0m\u001b[1;33m\u001b[0m\u001b[1;33m\u001b[0m\u001b[0m\n\u001b[0m\u001b[0;32m      4\u001b[0m     \u001b[0mgetBusTime\u001b[0m\u001b[1;33m(\u001b[0m\u001b[0mrouteid\u001b[0m\u001b[1;33m)\u001b[0m\u001b[1;33m\u001b[0m\u001b[1;33m\u001b[0m\u001b[0m\n\u001b[0;32m      5\u001b[0m     \u001b[0mgetStationList\u001b[0m\u001b[1;33m(\u001b[0m\u001b[0mrouteid\u001b[0m\u001b[1;33m)\u001b[0m\u001b[1;33m\u001b[0m\u001b[1;33m\u001b[0m\u001b[0m\n",
      "\u001b[1;32m<ipython-input-2-7fedcdfcb51c>\u001b[0m in \u001b[0;36mgetBusRouteId\u001b[1;34m(busnum)\u001b[0m\n\u001b[0;32m      4\u001b[0m     \u001b[0mroot\u001b[0m \u001b[1;33m=\u001b[0m \u001b[0mBeautifulSoup\u001b[0m\u001b[1;33m(\u001b[0m\u001b[0mhtml\u001b[0m\u001b[1;33m,\u001b[0m \u001b[1;34m'html.parser'\u001b[0m\u001b[1;33m)\u001b[0m\u001b[1;33m\u001b[0m\u001b[1;33m\u001b[0m\u001b[0m\n\u001b[0;32m      5\u001b[0m     \u001b[0mloc\u001b[0m \u001b[1;33m=\u001b[0m \u001b[0mroot\u001b[0m\u001b[1;33m.\u001b[0m\u001b[0mfind\u001b[0m\u001b[1;33m(\u001b[0m\u001b[1;34m'busrouteid'\u001b[0m\u001b[1;33m)\u001b[0m\u001b[1;33m\u001b[0m\u001b[1;33m\u001b[0m\u001b[0m\n\u001b[1;32m----> 6\u001b[1;33m     \u001b[1;32mreturn\u001b[0m \u001b[0mloc\u001b[0m\u001b[1;33m.\u001b[0m\u001b[0mstring\u001b[0m\u001b[1;33m\u001b[0m\u001b[1;33m\u001b[0m\u001b[0m\n\u001b[0m\u001b[0;32m      7\u001b[0m \u001b[1;33m\u001b[0m\u001b[0m\n\u001b[0;32m      8\u001b[0m \u001b[0mgetBusRouteId\u001b[0m\u001b[1;33m(\u001b[0m\u001b[1;34m'273'\u001b[0m\u001b[1;33m)\u001b[0m\u001b[1;33m\u001b[0m\u001b[1;33m\u001b[0m\u001b[0m\n",
      "\u001b[1;31mAttributeError\u001b[0m: 'NoneType' object has no attribute 'string'"
     ]
    }
   ],
   "source": [
    "def main():\n",
    "    bus_num = input('버스노선 번호 입력:')\n",
    "    routeid = getBusRouteId(bus_num)\n",
    "    getBusTime(routeid)\n",
    "    getStationList(routeid)\n",
    "\n",
    "main()"
   ]
  },
  {
   "cell_type": "markdown",
   "metadata": {},
   "source": [
    "## 2. 정거장명을 입력하여 정차하는 버스 목록 출력\n",
    "#### 정거장이름 검색 후 노선ID 선택\n",
    "- 발급받은 인증키를 사용하여 API의 명칭별 정류소 목록 조회 서비스 연결\n",
    "- 정류소명을 파라미터로 하여 정류소ID 반환\n",
    "- 검색되는 정류소가 여러개일 수 있기 때문에 결과 중 하나를 선택"
   ]
  },
  {
   "cell_type": "code",
   "execution_count": 15,
   "metadata": {},
   "outputs": [
    {
     "name": "stdout",
     "output_type": "stream",
     "text": [
      "====== 검색결과:1 ======  \n",
      "정류소명:뱅뱅사거리\n",
      "고유번호:22005\n",
      "====== 검색결과:2 ======  \n",
      "정류소명:뱅뱅사거리\n",
      "고유번호:22006\n",
      "====== 검색결과:3 ======  \n",
      "정류소명:뱅뱅사거리\n",
      "고유번호:22125\n",
      "====== 검색결과:4 ======  \n",
      "정류소명:뱅뱅사거리\n",
      "고유번호:22126\n",
      "====== 검색결과:5 ======  \n",
      "정류소명:뱅뱅사거리\n",
      "고유번호:22887\n",
      "====== 검색결과:6 ======  \n",
      "정류소명:뱅뱅사거리(경유)\n",
      "고유번호:78037\n",
      "====== 검색결과:7 ======  \n",
      "정류소명:뱅뱅사거리(경유)\n",
      "고유번호:78259\n",
      "====== 검색결과:8 ======  \n",
      "정류소명:뱅뱅사거리.구영동중학교\n",
      "고유번호:23319\n",
      "====== 검색결과:9 ======  \n",
      "정류소명:뱅뱅사거리.역삼동\n",
      "고유번호:23294\n",
      "====== 검색결과:10 ======  \n",
      "정류소명:뱅뱅사거리뱅뱅프라자\n",
      "고유번호:23321\n",
      "\n",
      "찾으시는 정류소의 검색결과 번호를 입력해주세요:4\n"
     ]
    },
    {
     "data": {
      "text/plain": [
       "'22126'"
      ]
     },
     "execution_count": 15,
     "metadata": {},
     "output_type": "execute_result"
    }
   ],
   "source": [
    "key = '1vpUi9jK%2B%2FJBVqaJ6TDWANcFxIFeuXBQRAljiZth0kzAvawz7gHoAgqwY3hDOFDi0SAcOe5Vz%2BE3ErfXvypDWw%3D%3D'\n",
    "def getStationId(name):\n",
    "    html = requests.get('http://ws.bus.go.kr/api/rest/stationinfo/getStationByName?ServiceKey='+key+'&stSrch='+name).text\n",
    "    root = BeautifulSoup(html, 'html.parser')\n",
    "    items = root.find_all('itemlist')\n",
    "    item_num = 1\n",
    "    for i in items:\n",
    "        print(f'====== 검색결과:{item_num} ======  ')\n",
    "        print(f'정류소명:{i.stnm.string}\\n고유번호:{i.arsid.string}')\n",
    "        item_num += 1\n",
    "    s = input('\\n찾으시는 정류소의 검색결과 번호를 입력해주세요:')\n",
    "    try:\n",
    "        res = items[int(s)-1].arsid.string\n",
    "    except Exception as e:\n",
    "        print(e)\n",
    "    else:\n",
    "        return res\n",
    "    \n",
    "getStationId('뱅뱅사거리')"
   ]
  },
  {
   "cell_type": "markdown",
   "metadata": {},
   "source": [
    "#### 정류소에 정차하는 버스 리스트 출력\n",
    "- 발급받은 인증키를 사용하여 API의 명칭별 정류소 목록 조회 서비스 연결\n",
    "- 정류소 고유번호를 파라미터로 하여 해당 정류소에 정차하는 버스 리스트 반환"
   ]
  },
  {
   "cell_type": "code",
   "execution_count": null,
   "metadata": {},
   "outputs": [],
   "source": [
    "def getBusNumber(arsid):\n",
    "    html = requests.get('http://ws.bus.go.kr/api/rest/stationinfo/getRouteByStation?ServiceKey='+key+'&arsId='+arsid).text\n",
    "    root = BeautifulSoup(html, 'html.parser')\n",
    "    items = root.find_all('itemlist')\n",
    "    print('====== 정류소 정차 버스 ======')\n",
    "    for i in items:\n",
    "        print(f'- {i.busroutenm.string}')\n",
    "\n",
    "getBusNumber('22126')"
   ]
  },
  {
   "cell_type": "markdown",
   "metadata": {},
   "source": [
    "#### main()"
   ]
  },
  {
   "cell_type": "code",
   "execution_count": null,
   "metadata": {},
   "outputs": [],
   "source": [
    "def main():\n",
    "    name = input('검색할 정류소 이름:')\n",
    "    arsid = getStationId(name)\n",
    "    print()\n",
    "    getBusNumber(arsid)\n",
    "\n",
    "main()"
   ]
  }
 ],
 "metadata": {
  "kernelspec": {
   "display_name": "Python 3",
   "language": "python",
   "name": "python3"
  },
  "language_info": {
   "codemirror_mode": {
    "name": "ipython",
    "version": 3
   },
   "file_extension": ".py",
   "mimetype": "text/x-python",
   "name": "python",
   "nbconvert_exporter": "python",
   "pygments_lexer": "ipython3",
   "version": "3.7.6"
  }
 },
 "nbformat": 4,
 "nbformat_minor": 4
}
