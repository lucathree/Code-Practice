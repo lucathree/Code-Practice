{
 "cells": [
  {
   "cell_type": "markdown",
   "metadata": {},
   "source": [
    "# tkinter활용한 ui 프로그래밍"
   ]
  },
  {
   "cell_type": "markdown",
   "metadata": {},
   "source": [
    "1. 윈도우 생성: tk.Tk()  \n",
    "2. 위젯 생성: tk.Label(), tk.Button() => 윈도우에 붙일 버튼, 레이블, 입력박스 등 생성  \n",
    "3. 이벤트 핸들러 등록. command 속성에 이벤트 발생시 호출될 함수 등록  \n",
    "4. 생성한 위젯을 윈도우에 붙임 => 위젯.pack()  \n",
    "5. window.mainloop()를 호출하여 ui실행"
   ]
  },
  {
   "cell_type": "code",
   "execution_count": 10,
   "metadata": {},
   "outputs": [],
   "source": [
    "import tkinter as tk\n",
    "\n",
    "def f1():\n",
    "    print('button click')\n",
    "    \n",
    "window = tk.Tk()  #Tk 객체 생성. 기본 윈도우 객체\n",
    "#tk.Label('부모객체', )\n",
    "label = tk.Label(window, text = 'hello', width='100', height='5')#뷰 위젯의 하나인 레이블 객체 생성\n",
    "btn1 = tk.Button(window, text = 'btn1', command=f1)#command: 이벤트 핸들러 등록. \n",
    "label.pack()#위젯(레이블, 버튼...)을 윈도우에 붙임\n",
    "btn1.pack()\n",
    "window.mainloop()#ui 쓰레드 실행하여 화면에 출력"
   ]
  },
  {
   "cell_type": "code",
   "execution_count": 8,
   "metadata": {},
   "outputs": [
    {
     "name": "stdout",
     "output_type": "stream",
     "text": [
      "hello  /  btn1\n",
      "hello  /  btn1\n",
      "hello  /  btn1\n"
     ]
    }
   ],
   "source": [
    "import tkinter as tk\n",
    "\n",
    "def f1():\n",
    "    label_text = label.cget('text') #뷰위젯.cget(속성이름): 속성값 읽음\n",
    "    btn_text = btn1.cget('text')\n",
    "    print(label_text, ' / ', btn_text)\n",
    "    \n",
    "window = tk.Tk()  #Tk 객체 생성. 기본 윈도우 객체\n",
    "#tk.Label('부모객체', )\n",
    "label = tk.Label(window, text = 'hello', width='100', height='5')#뷰 위젯의 하나인 레이블 객체 생성\n",
    "btn1 = tk.Button(window, text = 'btn1', command=f1)#command: 이벤트 핸들러 등록. \n",
    "label.pack()#위젯(레이블, 버튼...)을 윈도우에 붙임\n",
    "btn1.pack()\n",
    "window.mainloop()#ui 쓰레드 실행하여 화면에 출력"
   ]
  },
  {
   "cell_type": "code",
   "execution_count": 11,
   "metadata": {},
   "outputs": [],
   "source": [
    "win = tk.Tk()\n",
    "win.title('window title')\n",
    "win.geometry('300x200+100+100')\n",
    "win.resizable(False, False)\n",
    "\n",
    "b1 = tk.Button(win, text='right', width=10)\n",
    "b1.pack(side='right')#side: 윈도우에 붙일 방향\n",
    "b2 = tk.Button(win, text='left', width=10)\n",
    "b2.pack(side='left')\n",
    "b3 = tk.Button(win, text='top', width=10)\n",
    "b3.pack(side='top')\n",
    "b4 = tk.Button(win, text='bottom', width=10)\n",
    "b4.pack(side='bottom')\n",
    "\n",
    "win.mainloop()"
   ]
  },
  {
   "cell_type": "code",
   "execution_count": 12,
   "metadata": {},
   "outputs": [],
   "source": [
    "win = tk.Tk()\n",
    "win.title('window title')\n",
    "win.geometry('300x200+100+100')\n",
    "win.resizable(False, False)\n",
    "\n",
    "b1 = tk.Button(win, text='1', width=10)\n",
    "b1.grid(row=0, column=0)#grid()격자로 배치\n",
    "b2 = tk.Button(win, text='2', width=10)\n",
    "b2.grid(row=0, column=1)\n",
    "b3 = tk.Button(win, text='3', width=10)\n",
    "b3.grid(row=0, column=2)\n",
    "b4 = tk.Button(win, text='4', width=10)\n",
    "b4.grid(row=1, column=0)\n",
    "b5 = tk.Button(win, text='5', width=10)\n",
    "b5.grid(row=1, column=1)\n",
    "b6 = tk.Button(win, text='6', width=10)\n",
    "b6.grid(row=1, column=2)\n",
    "\n",
    "win.mainloop()"
   ]
  },
  {
   "cell_type": "code",
   "execution_count": 14,
   "metadata": {},
   "outputs": [],
   "source": [
    "win = tk.Tk()\n",
    "win.title('window title')\n",
    "win.geometry('300x200+100+100')\n",
    "win.resizable(False, False)\n",
    "\n",
    "b1 = tk.Button(win, text='1', width=10)\n",
    "b1.place(x=30, y=30)\n",
    "b2 = tk.Button(win, text='2', width=10)\n",
    "b2.place(x=100, y=100)\n",
    "b3 = tk.Button(win, text='3', width=10)\n",
    "b3.place(x=170, y=170)\n",
    "\n",
    "win.mainloop()"
   ]
  },
  {
   "cell_type": "markdown",
   "metadata": {},
   "source": [
    "### 계산기 구현"
   ]
  },
  {
   "cell_type": "code",
   "execution_count": 7,
   "metadata": {},
   "outputs": [
    {
     "name": "stdout",
     "output_type": "stream",
     "text": [
      "1+2*3-2\n",
      "5-1+6*2\n"
     ]
    }
   ],
   "source": [
    "def f1(val):\n",
    "    s = label.cget('text')\n",
    "    s += val #s:12\n",
    "    label.config(text=s)#config():위젯 속성의 값을 읽거나 설정\n",
    "    \n",
    "def calc():\n",
    "    s = label.cget('text') #s:'5-1+6*2'\n",
    "    print(s)\n",
    "    res = eval(s)\n",
    "    label.config(text=str(res))\n",
    "    \n",
    "def clear():\n",
    "    label.config(text='')\n",
    "    \n",
    "win = tk.Tk()#Tk객체 생성=>기본 윈도우와 ui api를 제공하는 객체\n",
    "win.title('window title')\n",
    "win.geometry('300x400+100+100')\n",
    "win.resizable(False, False)\n",
    "\n",
    "#위젯 생성 및 배치\n",
    "label = tk.Label(win, height=4)\n",
    "label.grid(row=0, column=0)\n",
    "\n",
    "b1 = tk.Button(text='1', width=7, height=4, command=lambda:f1('1'))\n",
    "b1.grid(row=1, column=0)\n",
    "b2 = tk.Button(text='2', width=7, height=4, command=lambda:f1('2'))\n",
    "b2.grid(row=1, column=1)\n",
    "b3 = tk.Button(text='3', width=7, height=4, command=lambda:f1('3'))\n",
    "b3.grid(row=1, column=2)\n",
    "b4 = tk.Button(text='+', width=7, height=4, command=lambda:f1('+'))\n",
    "b4.grid(row=1, column=3)\n",
    "b5 = tk.Button(text='4', width=7, height=4, command=lambda:f1('4'))\n",
    "b5.grid(row=2, column=0)\n",
    "b6 = tk.Button(text='5', width=7, height=4, command=lambda:f1('5'))\n",
    "b6.grid(row=2, column=1)\n",
    "b7 = tk.Button(text='6', width=7, height=4, command=lambda:f1('6'))\n",
    "b7.grid(row=2, column=2)\n",
    "b8 = tk.Button(text='-', width=7, height=4, command=lambda:f1('-'))\n",
    "b8.grid(row=2, column=3)\n",
    "b9 = tk.Button(text='7', width=7, height=4, command=lambda:f1('7'))\n",
    "b9.grid(row=3, column=0)\n",
    "b10 = tk.Button(text='8', width=7, height=4, command=lambda:f1('8'))\n",
    "b10.grid(row=3, column=1)\n",
    "b11 = tk.Button(text='9', width=7, height=4, command=lambda:f1('9'))\n",
    "b11.grid(row=3, column=2)\n",
    "b12 = tk.Button(text='*', width=7, height=4, command=lambda:f1('*'))\n",
    "b12.grid(row=3, column=3)\n",
    "b13 = tk.Button(text='0', width=7, height=4, command=lambda:f1('0'))\n",
    "b13.grid(row=4, column=0)\n",
    "b14 = tk.Button(text='C', width=7, height=4, command=clear)\n",
    "b14.grid(row=4, column=1)\n",
    "b15 = tk.Button(text='=', width=7, height=4, command=calc)\n",
    "b15.grid(row=4, column=2)\n",
    "b16 = tk.Button(text='/', width=7, height=4, command=lambda:f1('/'))\n",
    "b16.grid(row=4, column=3)\n",
    "    \n",
    "win.mainloop()\n",
    "    \n"
   ]
  },
  {
   "cell_type": "code",
   "execution_count": 2,
   "metadata": {},
   "outputs": [
    {
     "name": "stdout",
     "output_type": "stream",
     "text": [
      "56-2\n",
      "54852-123\n",
      "54729/3\n"
     ]
    }
   ],
   "source": [
    "import tkinter as tk\n",
    "def f1(val):\n",
    "    s = label.cget('text')\n",
    "    s += val\n",
    "    label.config(text=s)#config():위젯 속성의 값을 읽거나 설정\n",
    "\n",
    "def calc():\n",
    "    s = label.cget('text') #s:'5-1+6*2'\n",
    "    print(s)\n",
    "    res = eval(s)\n",
    "    label.config(text=str(res))\n",
    "    \n",
    "def clear():\n",
    "    label.config(text='')\n",
    "    \n",
    "win = tk.Tk()\n",
    "win.title('window title')\n",
    "win.geometry('300x400+100+100')\n",
    "win.resizable(False, False)\n",
    "label = tk.Label(win, height=4)\n",
    "label.grid(row=0, column=0)\n",
    "\n",
    "nums = [['1', '2', '3','+'],['4','5','6','-'],['7','8','9','*'],['0','C','=','/']]\n",
    "\n",
    "for i in range(0, 4):\n",
    "    for j in range(0, 4):\n",
    "        num = nums[i][j]\n",
    "        if num=='C':\n",
    "            b = tk.Button(text=num, width=7, height=4, command=clear)\n",
    "        elif num=='=':\n",
    "            b = tk.Button(text=num, width=7, height=4, command=calc)\n",
    "        else:\n",
    "            b = tk.Button(text=num, width=7, height=4, command=lambda val=num : f1(val))\n",
    "        b.grid(row=(i+1), column=j)\n",
    "    \n",
    "win.mainloop()"
   ]
  }
 ],
 "metadata": {
  "kernelspec": {
   "display_name": "Python 3",
   "language": "python",
   "name": "python3"
  },
  "language_info": {
   "codemirror_mode": {
    "name": "ipython",
    "version": 3
   },
   "file_extension": ".py",
   "mimetype": "text/x-python",
   "name": "python",
   "nbconvert_exporter": "python",
   "pygments_lexer": "ipython3",
   "version": "3.7.6"
  }
 },
 "nbformat": 4,
 "nbformat_minor": 5
}
