{
 "cells": [
  {
   "cell_type": "markdown",
   "metadata": {},
   "source": [
    "# 이미지 기초 지식"
   ]
  },
  {
   "cell_type": "markdown",
   "metadata": {},
   "source": [
    "*이미지 특정 픽셀 추출  \n",
    "p = img[100, 100]#(100,100)위치의 픽셀 한 개 추출  \n",
    "print(p)  \n",
    "=>[134, 156, 219] #[b, g, r]  "
   ]
  },
  {
   "cell_type": "code",
   "execution_count": 1,
   "metadata": {},
   "outputs": [
    {
     "name": "stdout",
     "output_type": "stream",
     "text": [
      "427 640 3\n"
     ]
    },
    {
     "data": {
      "text/plain": [
       "array([111, 131, 132], dtype=uint8)"
      ]
     },
     "execution_count": 1,
     "metadata": {},
     "output_type": "execute_result"
    }
   ],
   "source": [
    "import cv2\n",
    "img = cv2.imread('a.jpg', 1)\n",
    "h, w, c = img.shape\n",
    "print(h, w, c) #c는 색상 채널 수\n",
    "p = img[100, 100]\n",
    "p  #[b, g, r]"
   ]
  },
  {
   "cell_type": "markdown",
   "metadata": {},
   "source": [
    "*이미지 특정 픽셀의 한 채널(b, g, r)의 값  \n",
    "c = img[100, 100, 0] #0:b, 1:g, 2:r  \n",
    "print(c)  \n",
    "=>134  "
   ]
  },
  {
   "cell_type": "code",
   "execution_count": 2,
   "metadata": {},
   "outputs": [
    {
     "data": {
      "text/plain": [
       "111"
      ]
     },
     "execution_count": 2,
     "metadata": {},
     "output_type": "execute_result"
    }
   ],
   "source": [
    "b_c = img[100, 100, 0]  #blue 색상값. 0:blue, 1:green, 2:red\n",
    "b_c"
   ]
  },
  {
   "cell_type": "markdown",
   "metadata": {},
   "source": [
    "*특정 픽셀 값 변경  \n",
    "img[100, 100] = [255,255,255]#(100,100)위치의 픽셀을 흰색으로 변경  "
   ]
  },
  {
   "cell_type": "code",
   "execution_count": 3,
   "metadata": {},
   "outputs": [],
   "source": [
    "img[100, 100] = [255,255,255]\n",
    "cv2.imshow('img', img)\n",
    "cv2.waitKey(0)\n",
    "cv2.destroyAllWindows()"
   ]
  },
  {
   "cell_type": "markdown",
   "metadata": {},
   "source": [
    "*img.item: 특정 픽셀을 나타내는 속성  \n",
    "img.item(100, 100, 2)# (100,100)위치의 픽셀의 red값 반환  \n",
    "img.itemset((100, 100, 2), 255)#(100,100)위치의 픽셀의 red값을 255로 변경  "
   ]
  },
  {
   "cell_type": "code",
   "execution_count": 4,
   "metadata": {},
   "outputs": [
    {
     "data": {
      "text/plain": [
       "255"
      ]
     },
     "execution_count": 4,
     "metadata": {},
     "output_type": "execute_result"
    }
   ],
   "source": [
    "p2 = img.item(100, 100, 2)\n",
    "p2"
   ]
  },
  {
   "cell_type": "code",
   "execution_count": 5,
   "metadata": {},
   "outputs": [],
   "source": [
    "img.itemset((100, 100, 0), 0)\n",
    "img.itemset((100, 100, 1), 0)\n",
    "img.itemset((100, 100, 2), 0)\n",
    "cv2.imshow('img', img)\n",
    "cv2.waitKey(0)\n",
    "cv2.destroyAllWindows()"
   ]
  },
  {
   "cell_type": "markdown",
   "metadata": {},
   "source": [
    "*img.shape: 세로길이, 가로길이, 채널  \n",
    "h, w, c = img.shape  \n",
    "=>h:세로길이, w:가로길이, c:채널  \n",
    "\n",
    "*img.size: 전체 픽셀 수  \n",
    "*img.dtype: 픽셀표현 데이터 타입  "
   ]
  },
  {
   "cell_type": "code",
   "execution_count": 6,
   "metadata": {},
   "outputs": [
    {
     "data": {
      "text/plain": [
       "(427, 640, 3)"
      ]
     },
     "execution_count": 6,
     "metadata": {},
     "output_type": "execute_result"
    }
   ],
   "source": [
    "img.shape"
   ]
  },
  {
   "cell_type": "code",
   "execution_count": 7,
   "metadata": {},
   "outputs": [
    {
     "data": {
      "text/plain": [
       "819840"
      ]
     },
     "execution_count": 7,
     "metadata": {},
     "output_type": "execute_result"
    }
   ],
   "source": [
    "img.size  # h*w*c"
   ]
  },
  {
   "cell_type": "code",
   "execution_count": 8,
   "metadata": {},
   "outputs": [
    {
     "data": {
      "text/plain": [
       "dtype('uint8')"
      ]
     },
     "execution_count": 8,
     "metadata": {},
     "output_type": "execute_result"
    }
   ],
   "source": [
    "img.dtype  #채널 표현 데이타 타입"
   ]
  },
  {
   "cell_type": "markdown",
   "metadata": {},
   "source": [
    "*roi(region of image): 이미지의 특정 영역 추출  \n",
    "roi = img[h시작점:h끝점, w시작점:w끝점]"
   ]
  },
  {
   "cell_type": "code",
   "execution_count": 9,
   "metadata": {},
   "outputs": [],
   "source": [
    "roi = img[100:200, 100:300]\n",
    "cv2.imshow('roi', roi)\n",
    "cv2.waitKey(0)\n",
    "cv2.destroyAllWindows()"
   ]
  },
  {
   "cell_type": "code",
   "execution_count": 10,
   "metadata": {},
   "outputs": [],
   "source": [
    "img[0:100, 200:400] = roi\n",
    "cv2.imshow('img', img)\n",
    "cv2.waitKey(0)\n",
    "cv2.destroyAllWindows()"
   ]
  },
  {
   "cell_type": "markdown",
   "metadata": {},
   "source": [
    "*이미지 채널 분리  \n",
    "b,g,r = cv2.split(img)  #비용 비쌈  \n",
    "  => 색상분리, 0:blue, 1:green, 2:red  \n",
    "img = cv2.merge((r,g,b))  \n",
    "  => 분리한 색상 다시 역순으로 결합"
   ]
  },
  {
   "cell_type": "code",
   "execution_count": 11,
   "metadata": {},
   "outputs": [],
   "source": [
    "b,g,r = cv2.split(img) #비용 비쌈\n",
    "img = cv2.merge((r,g,b))\n",
    "cv2.imshow('img', img)\n",
    "cv2.waitKey(0)\n",
    "cv2.destroyAllWindows()"
   ]
  },
  {
   "cell_type": "markdown",
   "metadata": {},
   "source": [
    "*cv2.split()이 비싸므로 numpy 인덱싱으로 접근하는것이 효과적이다  \n",
    "b = img[:,:,0]  #blue 채널 추출"
   ]
  },
  {
   "cell_type": "code",
   "execution_count": 12,
   "metadata": {},
   "outputs": [
    {
     "data": {
      "text/plain": [
       "array([[136, 137, 136, ..., 112, 114, 114],\n",
       "       [136, 135, 135, ..., 117, 116, 115],\n",
       "       [133, 132, 131, ..., 117, 116, 116],\n",
       "       ...,\n",
       "       [ 96,  96,  95, ...,  58,  60,  62],\n",
       "       [ 96,  96,  95, ...,  58,  61,  62],\n",
       "       [ 96,  96,  95, ...,  59,  61,  63]], dtype=uint8)"
      ]
     },
     "execution_count": 12,
     "metadata": {},
     "output_type": "execute_result"
    }
   ],
   "source": [
    "img_blue = img[:,:,0]\n",
    "img_blue"
   ]
  },
  {
   "cell_type": "code",
   "execution_count": 13,
   "metadata": {},
   "outputs": [],
   "source": [
    "img[:,:,2] = 0  #이미지에서 빨간색 제거\n",
    "cv2.imshow('img', img)\n",
    "cv2.waitKey(0)\n",
    "cv2.destroyAllWindows()"
   ]
  },
  {
   "cell_type": "markdown",
   "metadata": {},
   "source": [
    "<이미지 복사>  "
   ]
  },
  {
   "cell_type": "code",
   "execution_count": 14,
   "metadata": {},
   "outputs": [],
   "source": [
    "import cv2\n",
    "src = cv2.imread('a.jpg')\n",
    "img1 = src   #얕은 복사\n",
    "img2 = src.copy()   #깊은 복사\n",
    "img1[100:200, 100:200, 2] = 255\n",
    "cv2.imshow('src', src)\n",
    "cv2.imshow('img1', img1)\n",
    "cv2.imshow('img2', img2)\n",
    "cv2.waitKey(0)\n",
    "cv2.destroyAllWindows()"
   ]
  },
  {
   "cell_type": "code",
   "execution_count": 15,
   "metadata": {},
   "outputs": [],
   "source": [
    "img3 = src[100:200, 100:200]\n",
    "img1[100:200, 100:200, 2] = 0\n",
    "cv2.imshow('img3', img3)\n",
    "cv2.waitKey(0)\n",
    "cv2.destroyAllWindows()"
   ]
  },
  {
   "cell_type": "markdown",
   "metadata": {},
   "source": [
    "<이미지 color-space 변환>  \n",
    "cv2.cvtColor(img, type)  \n",
    "type  \n",
    "cv2.COLOR_BGR2GRAY: 칼라를 흑백으로  \n",
    "cv2.COLOR_BGR2RGB: BGR을 RGB로  \n",
    "cv2.COLOR_RGB2BGR: RGB를 BGR로 ..."
   ]
  },
  {
   "cell_type": "code",
   "execution_count": 16,
   "metadata": {},
   "outputs": [],
   "source": [
    "import cv2\n",
    "src = cv2.imread('a.jpg')\n",
    "img1 = cv2.cvtColor(src, cv2.COLOR_BGR2GRAY)\n",
    "img2 = cv2.cvtColor(src, cv2.COLOR_BGR2RGB)\n",
    "img3 = cv2.cvtColor(img2, cv2.COLOR_RGB2BGR)\n",
    "cv2.imshow('src', src)\n",
    "cv2.imshow('img1', img1)\n",
    "cv2.imshow('img2', img2)\n",
    "cv2.imshow('img3', img3)\n",
    "cv2.waitKey(0)\n",
    "cv2.destroyAllWindows()"
   ]
  },
  {
   "cell_type": "code",
   "execution_count": 17,
   "metadata": {},
   "outputs": [],
   "source": [
    "img4 = cv2.cvtColor(img1, cv2.COLOR_GRAY2BGR)  #채널 수 변환은 가능하지만 색이 입혀지지는 않는다\n",
    "src2 = cv2.imread('a.jpg', 1)\n",
    "cv2.imshow('img4', img4)\n",
    "cv2.imshow('src2', src2)\n",
    "cv2.waitKey(0)\n",
    "cv2.destroyAllWindows()"
   ]
  },
  {
   "cell_type": "markdown",
   "metadata": {},
   "source": [
    "숙제: 이미지 붙이기\n",
    "\n",
    "1. 윈도우1: 원본 이미지, 윈도우2: 흰 바탕 이미지\n",
    "2. 원본 이미지를 마우스로 드래그하여 영역을 지정한 뒤 흰 바탕 이미지를 클릭하면 클릭한 위치에 원본 이미지에서 드래그한 영역 이미지를 복사하여 붙임\n",
    "    - 마우스 L버튼 다운 이벤트와 마우스 L버튼 업 이벤트 위치를 계산해서 복사할 영역 선택"
   ]
  }
 ],
 "metadata": {
  "kernelspec": {
   "display_name": "Python 3",
   "language": "python",
   "name": "python3"
  },
  "language_info": {
   "codemirror_mode": {
    "name": "ipython",
    "version": 3
   },
   "file_extension": ".py",
   "mimetype": "text/x-python",
   "name": "python",
   "nbconvert_exporter": "python",
   "pygments_lexer": "ipython3",
   "version": "3.9.5"
  }
 },
 "nbformat": 4,
 "nbformat_minor": 4
}
