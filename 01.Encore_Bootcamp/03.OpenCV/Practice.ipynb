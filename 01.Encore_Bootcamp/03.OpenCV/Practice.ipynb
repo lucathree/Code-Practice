{
 "cells": [
  {
   "cell_type": "code",
   "execution_count": 1,
   "metadata": {},
   "outputs": [],
   "source": [
    "import numpy as np\n",
    "import cv2"
   ]
  },
  {
   "cell_type": "code",
   "execution_count": 4,
   "metadata": {},
   "outputs": [],
   "source": [
    "img_gray = cv2.imread('a.jpg', cv2.IMREAD_GRAYSCALE)\n",
    "cv2.imshow('img', img_gray)\n",
    "cv2.waitKey(0)\n",
    "cv2.destroyAllWindows()"
   ]
  },
  {
   "cell_type": "markdown",
   "metadata": {},
   "source": [
    "#### 이미지 삼등분하기"
   ]
  },
  {
   "cell_type": "code",
   "execution_count": 11,
   "metadata": {},
   "outputs": [],
   "source": [
    "img = cv2.imread('a.jpg', cv2.IMREAD_COLOR)\n",
    "h, w, _ = img.shape\n",
    "arr = [0]*3\n",
    "\n",
    "for i in range(0, 3):\n",
    "    arr[i] = img1 = img[0:h, i*w//3:(i+1)*w//3]\n",
    "    \n",
    "for i in range(0, 3):\n",
    "    cv2.imshow('img'+str(i), arr[i])\n",
    "    #이미지 창 이름을 다르게 해줘야 동시에 여러창을 볼 수 있음. 안 그러면 화면이 켜졌다 꺼지고 마지막 이미지만 보게 됨\n",
    "    \n",
    "cv2.imshow('img', img)\n",
    "\n",
    "cv2.waitKey()\n",
    "cv2.destroyAllWindows()"
   ]
  },
  {
   "cell_type": "markdown",
   "metadata": {},
   "source": [
    "#### 이미지 특정 채널(b, g, r) 추출"
   ]
  },
  {
   "cell_type": "code",
   "execution_count": 12,
   "metadata": {},
   "outputs": [
    {
     "data": {
      "text/plain": [
       "array([[[ 87, 122, 136],\n",
       "        [ 88, 123, 137],\n",
       "        [ 88, 123, 136],\n",
       "        ...,\n",
       "        [ 76, 100, 112],\n",
       "        [ 74, 100, 114],\n",
       "        [ 74, 100, 114]],\n",
       "\n",
       "       [[ 88, 123, 136],\n",
       "        [ 87, 122, 135],\n",
       "        [ 87, 122, 135],\n",
       "        ...,\n",
       "        [ 79, 102, 117],\n",
       "        [ 76, 102, 116],\n",
       "        [ 75, 101, 115]],\n",
       "\n",
       "       [[ 85, 120, 133],\n",
       "        [ 84, 119, 132],\n",
       "        [ 83, 118, 131],\n",
       "        ...,\n",
       "        [ 77, 103, 117],\n",
       "        [ 76, 102, 116],\n",
       "        [ 76, 102, 116]],\n",
       "\n",
       "       ...,\n",
       "\n",
       "       [[120, 101,  96],\n",
       "        [120, 101,  96],\n",
       "        [119, 100,  95],\n",
       "        ...,\n",
       "        [ 84,  65,  58],\n",
       "        [ 86,  67,  60],\n",
       "        [ 90,  68,  62]],\n",
       "\n",
       "       [[120, 101,  96],\n",
       "        [120, 101,  96],\n",
       "        [119, 100,  95],\n",
       "        ...,\n",
       "        [ 84,  65,  58],\n",
       "        [ 87,  68,  61],\n",
       "        [ 90,  68,  62]],\n",
       "\n",
       "       [[120, 101,  96],\n",
       "        [120, 101,  96],\n",
       "        [119, 100,  95],\n",
       "        ...,\n",
       "        [ 85,  66,  59],\n",
       "        [ 87,  68,  61],\n",
       "        [ 91,  69,  63]]], dtype=uint8)"
      ]
     },
     "execution_count": 12,
     "metadata": {},
     "output_type": "execute_result"
    }
   ],
   "source": [
    "img = cv2.imread('a.jpg', cv2.IMREAD_COLOR)\n",
    "img"
   ]
  },
  {
   "cell_type": "code",
   "execution_count": 15,
   "metadata": {},
   "outputs": [],
   "source": [
    "b = img[:,:, 0]  #blue\n",
    "\n",
    "cv2.imshow('b', b)\n",
    "cv2.waitKey(0)\n",
    "cv2.destroyAllWindows()"
   ]
  },
  {
   "cell_type": "code",
   "execution_count": 17,
   "metadata": {},
   "outputs": [],
   "source": [
    "g = img[:,:, 1]  #green\n",
    "\n",
    "cv2.imshow('g', g)\n",
    "cv2.waitKey(0)\n",
    "cv2.destroyAllWindows()"
   ]
  },
  {
   "cell_type": "code",
   "execution_count": null,
   "metadata": {},
   "outputs": [],
   "source": [
    "r = img[:,:, 2]  #green\n",
    "\n",
    "cv2.imshow('r', r)\n",
    "cv2.waitKey(0)\n",
    "cv2.destroyAllWindows()"
   ]
  },
  {
   "cell_type": "markdown",
   "metadata": {},
   "source": [
    "### 바둑판 만들기\n",
    "#### 바둑판 배경 생성"
   ]
  },
  {
   "cell_type": "code",
   "execution_count": 1,
   "metadata": {},
   "outputs": [],
   "source": [
    "import cv2\n",
    "import numpy as np\n",
    "\n",
    "back = np.ones((512, 512), dtype=np.uint8)*255 \n",
    "for i in range(50, 510, 100):\n",
    "    back = cv2.line(back, (i,0), (i,511), (0,0,0), 2)\n",
    "    back = cv2.line(back, (0,i), (511,i), (0,0,0), 2)\n",
    "    \n",
    "cv2.namedWindow('back')\n",
    "cv2.imshow('back', back)\n",
    "\n",
    "cv2.waitKey(0)   #키보드 입력 대기. 입력한 키값 반환\n",
    "cv2.destroyAllWindows()"
   ]
  },
  {
   "cell_type": "code",
   "execution_count": 3,
   "metadata": {},
   "outputs": [],
   "source": [
    "back = np.ones((800, 800), dtype=np.uint8)*255 \n",
    "for i in range(20, 781, 40):\n",
    "    back = cv2.line(back, (i,20), (i,780), (0,0,0), 2)\n",
    "    back = cv2.line(back, (20,i), (780,i), (0,0,0), 2)\n",
    "    \n",
    "#cv2.namedWindow('back')\n",
    "cv2.imshow('back', back)\n",
    "\n",
    "cv2.waitKey(0)   #키보드 입력 대기. 입력한 키값 반환\n",
    "cv2.destroyAllWindows()"
   ]
  },
  {
   "cell_type": "markdown",
   "metadata": {},
   "source": [
    "#### 클릭하면 바둑알 놓기"
   ]
  },
  {
   "cell_type": "code",
   "execution_count": 21,
   "metadata": {},
   "outputs": [],
   "source": [
    "import cv2\n",
    "import numpy as np\n",
    "\n",
    "mode = True#검정\n",
    "\n",
    "back = np.ones((512, 512), dtype=np.uint8)*255 \n",
    "for i in range(50, 510, 100):\n",
    "    back = cv2.line(back, (i,0), (i,511), (0,0,0), 2)\n",
    "    back = cv2.line(back, (0,i), (511,i), (0,0,0), 2)\n",
    "    \n",
    "def draw_circle(event, x, y, flags, param):\n",
    "    global mode\n",
    "    if event == cv2.EVENT_LBUTTONDOWN:\n",
    "        c = 255 #바둑알 색. 흰색\n",
    "        if mode:\n",
    "            c = 0 #검정색\n",
    "            \n",
    "        mode = not mode\n",
    "        cv2.circle(back,(x,y), 20,(c,c,c),-1)\n",
    "        \n",
    "        if mode:#바둑알이 흰색일 때\n",
    "            cv2.circle(back,(x,y), 21,(0,0,0),2)\n",
    "            \n",
    "        cv2.imshow('back', back)\n",
    "\n",
    "cv2.namedWindow('back')\n",
    "cv2.setMouseCallback('back', draw_circle)\n",
    "cv2.imshow('back', back)\n",
    "\n",
    "cv2.waitKey(0)   #키보드 입력 대기. 입력한 키값 반환\n",
    "cv2.destroyAllWindows()"
   ]
  },
  {
   "cell_type": "markdown",
   "metadata": {},
   "source": [
    "#### 바둑알 자동으로 정중앙에 놓기"
   ]
  },
  {
   "cell_type": "code",
   "execution_count": 3,
   "metadata": {},
   "outputs": [],
   "source": [
    "import cv2\n",
    "import numpy as np\n",
    "\n",
    "mode = True#검정\n",
    "\n",
    "back = np.ones((512, 512), dtype=np.uint8)*255 \n",
    "for i in range(50, 510, 100):\n",
    "    back = cv2.line(back, (i,0), (i,511), (0,0,0), 2)\n",
    "    back = cv2.line(back, (0,i), (511,i), (0,0,0), 2)\n",
    "    \n",
    "def draw_circle(event, x, y, flags, param):\n",
    "    global mode\n",
    "    if event == cv2.EVENT_LBUTTONDOWN:\n",
    "        c = 255 #바둑알 색. 흰색\n",
    "        if mode:\n",
    "            c = 0 #검정색\n",
    "        \n",
    "        rx = (x//100)*100+50\n",
    "        ry = (y//100)*100+50\n",
    "        \n",
    "        mode = not mode\n",
    "        cv2.circle(back,(rx,ry), 20,(c,c,c),-1)\n",
    "        \n",
    "        if mode:#바둑알이 흰색일 때\n",
    "            cv2.circle(back,(rx,ry), 21,(0,0,0),2)\n",
    "            \n",
    "        cv2.imshow('back', back)\n",
    "\n",
    "cv2.namedWindow('back')\n",
    "cv2.setMouseCallback('back', draw_circle)\n",
    "cv2.imshow('back', back)\n",
    "\n",
    "cv2.waitKey(0)   #키보드 입력 대기. 입력한 키값 반환\n",
    "cv2.destroyAllWindows()"
   ]
  },
  {
   "cell_type": "code",
   "execution_count": null,
   "metadata": {},
   "outputs": [],
   "source": [
    "import cv2\n",
    "import numpy as np\n",
    "\n",
    "mode = True#검정\n",
    "\n",
    "back = np.ones((760, 760), dtype=np.uint8)*255 \n",
    "for i in range(20, 741, 40):\n",
    "    back = cv2.line(back, (i,20), (i,740), (0,0,0), 2)\n",
    "    back = cv2.line(back, (20,i), (740,i), (0,0,0), 2)\n",
    "    \n",
    "def draw_circle(event, x, y, flags, param):\n",
    "    global mode\n",
    "    if event == cv2.EVENT_LBUTTONDOWN:\n",
    "        c = 255 #바둑알 색. 흰색\n",
    "        if mode:\n",
    "            c = 0 #검정색\n",
    "        \n",
    "        #(220, 220)에 자동으로 찍으려고 할 경우, x,y좌표 범위:200~240\n",
    "        #예를들어 (209, 227)을 눌렀을 경우\n",
    "        \n",
    "        rx = (x//40)*40+20\n",
    "        ry = (y//40)*40+20\n",
    "            \n",
    "        mode = not mode\n",
    "        cv2.circle(back,(rx,ry), 15,(c,c,c),-1)\n",
    "        \n",
    "        if mode:#바둑알이 흰색일 때\n",
    "            cv2.circle(back,(rx,ry), 15,(0,0,0),2)\n",
    "            \n",
    "        cv2.imshow('back', back)\n",
    "\n",
    "cv2.namedWindow('back')\n",
    "cv2.setMouseCallback('back', draw_circle)\n",
    "cv2.imshow('back', back)\n",
    "\n",
    "cv2.waitKey(0)   #키보드 입력 대기. 입력한 키값 반환\n",
    "cv2.destroyAllWindows()"
   ]
  },
  {
   "cell_type": "markdown",
   "metadata": {},
   "source": [
    "#### 이미지 복붙 시키기"
   ]
  },
  {
   "cell_type": "code",
   "execution_count": 3,
   "metadata": {},
   "outputs": [],
   "source": [
    "import cv2\n",
    "import numpy as np\n",
    "\n",
    "src = cv2.imread('a.jpg')\n",
    "board = np.full((427, 640, 3), (255, 255, 255), dtype=np.uint8)\n",
    "cv2.imshow('src', src)\n",
    "cv2.imshow('board', board)\n",
    "\n",
    "sx, sy, ex, ey = 0, 0, 0, 0\n",
    "roi = None\n",
    "\n",
    "def copy_drag(event, x, y, flags, param):\n",
    "    global roi, sx, sy, ex, ey\n",
    "    if event == cv2.EVENT_LBUTTONDOWN:\n",
    "        sx = x\n",
    "        sy = y\n",
    "    elif event == cv2.EVENT_LBUTTONUP:\n",
    "        ex = x\n",
    "        ey = y\n",
    "        roi = src[sy:ey, sx:ex]\n",
    "        \n",
    "def paste(event, x, y, flags, param):\n",
    "    global roi, sx, sy, ex, ey\n",
    "    if event == cv2.EVENT_LBUTTONDOWN:\n",
    "        board[y:y+(ey-sy), x:x+(ex-sx)] = roi\n",
    "        cv2.imshow('board', board)\n",
    "        sx, sy, ex, ey = 0, 0, 0, 0\n",
    "        roi = None\n",
    "        \n",
    "cv2.setMouseCallback('src', copy_drag)\n",
    "cv2.setMouseCallback('board', paste)\n",
    "\n",
    "while True:\n",
    "    if cv2.waitKey(1) & 0xFF == 27:\n",
    "        break\n",
    "cv2.destroyAllWindows()"
   ]
  }
 ],
 "metadata": {
  "kernelspec": {
   "display_name": "Python 3",
   "language": "python",
   "name": "python3"
  },
  "language_info": {
   "codemirror_mode": {
    "name": "ipython",
    "version": 3
   },
   "file_extension": ".py",
   "mimetype": "text/x-python",
   "name": "python",
   "nbconvert_exporter": "python",
   "pygments_lexer": "ipython3",
   "version": "3.7.6"
  }
 },
 "nbformat": 4,
 "nbformat_minor": 4
}
