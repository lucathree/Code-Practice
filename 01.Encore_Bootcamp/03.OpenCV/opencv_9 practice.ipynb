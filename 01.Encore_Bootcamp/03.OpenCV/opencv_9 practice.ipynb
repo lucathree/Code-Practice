{
 "cells": [
  {
   "cell_type": "code",
   "execution_count": 28,
   "id": "ecf217ac",
   "metadata": {},
   "outputs": [
    {
     "name": "stdout",
     "output_type": "stream",
     "text": [
      "7.414213538169861\n"
     ]
    },
    {
     "data": {
      "text/plain": [
       "{'m00': 2.5,\n",
       " 'm10': 424.66666666666663,\n",
       " 'm01': 621.6666666666666,\n",
       " 'm20': 72137.58333333333,\n",
       " 'm11': 105600.20833333333,\n",
       " 'm02': 154588.25,\n",
       " 'm30': 12254067.3,\n",
       " 'm21': 17938132.183333334,\n",
       " 'm12': 26259273.183333334,\n",
       " 'm03': 38441179.800000004,\n",
       " 'mu20': 0.8722222222277196,\n",
       " 'mu11': -0.23611111110949423,\n",
       " 'mu02': 0.4722222222480923,\n",
       " 'mu30': 0.15481481328606606,\n",
       " 'mu21': 0.009259257533528853,\n",
       " 'mu12': -0.12407407518476532,\n",
       " 'mu03': 0.11481481045484543,\n",
       " 'nu20': 0.13955555555643517,\n",
       " 'nu11': -0.03777777777751908,\n",
       " 'nu02': 0.07555555555969479,\n",
       " 'nu30': 0.0156661576165653,\n",
       " 'nu21': 0.00093697098393677,\n",
       " 'nu12': -0.01255541363721073,\n",
       " 'nu03': 0.011618441925050389}"
      ]
     },
     "execution_count": 28,
     "metadata": {},
     "output_type": "execute_result"
    }
   ],
   "source": [
    "import sys\n",
    "import random\n",
    "import numpy as np\n",
    "import cv2\n",
    "\n",
    "src = cv2.imread('img/milkdrop.bmp', cv2.IMREAD_GRAYSCALE)\n",
    "_, src_bin = cv2.threshold(src, 0, 255, cv2.THRESH_OTSU)\n",
    "\n",
    "contours, hierachy = cv2.findContours(src_bin, cv2.RETR_LIST, cv2.CHAIN_APPROX_SIMPLE)\n",
    "\n",
    "cont1 = contours[0]\n",
    "\n",
    "area = cv2.contourArea(cont1)\n",
    "length = cv2.arcLength(cont1, True)\n",
    "print(length)\n",
    "cv2.moments(cont1)"
   ]
  },
  {
   "cell_type": "code",
   "execution_count": 23,
   "id": "a32eaae3",
   "metadata": {},
   "outputs": [],
   "source": [
    "src = cv2.imread('img/milkdrop.bmp', cv2.IMREAD_GRAYSCALE)\n",
    "\n",
    "if src is None:\n",
    "    print('Image load failed!')\n",
    "    sys.exit()\n",
    "\n",
    "_, src_bin = cv2.threshold(src, 0, 255, cv2.THRESH_OTSU)\n",
    "\n",
    "contours, _ = cv2.findContours(src_bin, cv2.RETR_EXTERNAL, cv2.CHAIN_APPROX_SIMPLE)\n",
    "\n",
    "h, w = src.shape[:2]\n",
    "dst = np.zeros((h, w, 3), np.uint8)\n",
    "\n",
    "cv2.drawContours(dst, contours, 5, (0, 255, 0), 1, cv2.LINE_AA)\n",
    "\n",
    "m = cv2.moments(contours[5])\n",
    "x = m['m10']/m['m00']\n",
    "y = m['m01']/m['m00']\n",
    "cv2.circle(dst, (int(x), int(y)), 3, (0, 0, 255), -1)\n",
    "\n",
    "\n",
    "'''\n",
    "for i in range(len(contours)):\n",
    "    points = contours[i]\n",
    "    area = cv2.contourArea(points)\n",
    "    if area > 600:\n",
    "        c = (random.randint(0, 255), random.randint(0, 255), random.randint(0, 255))\n",
    "        cv2.drawContours(dst, contours, i, c, 1, cv2.LINE_AA)\n",
    "        m = cv2.moments(points)\n",
    "        x = m['m10']/m['m00']\n",
    "        y = m['m01']/m['m00']\n",
    "        cv2.circle(dst, (int(x), int(y)), 3, c, -1)\n",
    "'''\n",
    "\n",
    "\n",
    "cv2.imshow('src', src)\n",
    "cv2.imshow('src_bin', src_bin)\n",
    "cv2.imshow('dst', dst)\n",
    "cv2.waitKey()\n",
    "cv2.destroyAllWindows()"
   ]
  }
 ],
 "metadata": {
  "kernelspec": {
   "display_name": "Python 3",
   "language": "python",
   "name": "python3"
  },
  "language_info": {
   "codemirror_mode": {
    "name": "ipython",
    "version": 3
   },
   "file_extension": ".py",
   "mimetype": "text/x-python",
   "name": "python",
   "nbconvert_exporter": "python",
   "pygments_lexer": "ipython3",
   "version": "3.9.5"
  }
 },
 "nbformat": 4,
 "nbformat_minor": 5
}
