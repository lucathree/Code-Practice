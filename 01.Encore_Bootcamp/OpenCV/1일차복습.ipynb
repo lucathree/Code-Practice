{
 "cells": [
  {
   "cell_type": "code",
   "execution_count": 2,
   "metadata": {},
   "outputs": [
    {
     "name": "stdout",
     "output_type": "stream",
     "text": [
      "이미 놓은 자리다. 취소됨\n",
      "이미 놓은 자리다. 취소됨\n",
      "이미 놓은 자리다. 취소됨\n",
      "이미 놓은 자리다. 취소됨\n",
      "이미 놓은 자리다. 취소됨\n",
      "이미 놓은 자리다. 취소됨\n"
     ]
    }
   ],
   "source": [
    "import cv2\n",
    "import numpy as np\n",
    "\n",
    "mode = True#검정\n",
    "points = []\n",
    "\n",
    "back = np.ones((512, 512), dtype=np.uint8)*255 \n",
    "for i in range(50, 510, 100):\n",
    "    back = cv2.line(back, (i,0), (i,511), (0,0,0), 2)\n",
    "    back = cv2.line(back, (0,i), (511,i), (0,0,0), 2)\n",
    "\n",
    "    \n",
    "def makeXY(num):\n",
    "    num1 = num//100\n",
    "    num2 = num%100\n",
    "    num3 = num2-50\n",
    "    if -50<=num3<=50:\n",
    "        p = num1*100+50\n",
    "        return p\n",
    "\n",
    "def draw_circle(event, x, y, flags, param):\n",
    "    global mode\n",
    "    x_ = makeXY(x)\n",
    "    y_ = makeXY(y)\n",
    "    if x_==None or y_==None:\n",
    "        print('정확한 위치를 클릭하시오')\n",
    "        return\n",
    "    if event == cv2.EVENT_LBUTTONDOWN:\n",
    "        c = 255 #바둑알 색. 흰색\n",
    "        if mode:\n",
    "            c = 0 #검정색\n",
    "        \n",
    "        if (x_, y_) in points:\n",
    "            print('이미 놓은 자리다. 취소됨')\n",
    "            return\n",
    "        \n",
    "        mode = not mode\n",
    "        cv2.circle(back,(x_,y_), 20,(c,c,c),-1)\n",
    "        \n",
    "        if mode:#바둑알이 흰색일 때\n",
    "            cv2.circle(back,(x_,y_), 21,(0,0,0),2)\n",
    "           \n",
    "        points.append((x_, y_))\n",
    "        cv2.imshow('back', back)\n",
    "\n",
    "cv2.namedWindow('back')\n",
    "cv2.setMouseCallback('back', draw_circle)\n",
    "cv2.imshow('back', back)\n",
    "\n",
    "cv2.waitKey(0)   #키보드 입력 대기. 입력한 키값 반환\n",
    "cv2.destroyAllWindows()  "
   ]
  },
  {
   "cell_type": "code",
   "execution_count": 40,
   "metadata": {},
   "outputs": [
    {
     "data": {
      "text/plain": [
       "250"
      ]
     },
     "execution_count": 40,
     "metadata": {},
     "output_type": "execute_result"
    }
   ],
   "source": [
    "num = 201\n",
    "num1 = num//100\n",
    "num2 = num-num1*100\n",
    "num3 = num2-50\n",
    "if -49<=num3<=50:\n",
    "    num = num1*100+50\n",
    "    \n",
    "num"
   ]
  },
  {
   "cell_type": "code",
   "execution_count": 1,
   "metadata": {},
   "outputs": [],
   "source": [
    "import cv2\n",
    "import numpy as np\n",
    "\n",
    "img = cv2.imread('a.jpg', cv2.IMREAD_COLOR)\n",
    "cv2.imshow('img', img)\n",
    "cv2.waitKey(0)\n",
    "cv2.destroyAllWindows()"
   ]
  },
  {
   "cell_type": "code",
   "execution_count": 1,
   "metadata": {},
   "outputs": [],
   "source": [
    "import cv2\n",
    "import numpy as np\n",
    "\n",
    "img_gray = cv2.imread('a.jpg', cv2.IMREAD_GRAYSCALE)\n",
    "cv2.imshow('img', img_gray)\n",
    "cv2.waitKey(0)\n",
    "cv2.destroyAllWindows()"
   ]
  },
  {
   "cell_type": "code",
   "execution_count": 9,
   "metadata": {},
   "outputs": [],
   "source": [
    "#그레이 스케일 이미지 파일로 저장. a_gray.jpg\n",
    "cv2.imwrite('a_gray.jpg', img_gray)\n",
    "img = cv2.imread('a_gray.jpg', cv2.IMREAD_GRAYSCALE)\n",
    "cv2.imshow('img', img)\n",
    "cv2.waitKey(0)\n",
    "cv2.destroyAllWindows()"
   ]
  },
  {
   "cell_type": "code",
   "execution_count": 4,
   "metadata": {},
   "outputs": [
    {
     "data": {
      "text/plain": [
       "(427, 640)"
      ]
     },
     "execution_count": 4,
     "metadata": {},
     "output_type": "execute_result"
    }
   ],
   "source": [
    "img.shape"
   ]
  },
  {
   "cell_type": "code",
   "execution_count": 24,
   "metadata": {},
   "outputs": [],
   "source": [
    "#이미지 일부 추출\n",
    "import cv2\n",
    "import numpy as np\n",
    "\n",
    "arr = [0]*3\n",
    "img = cv2.imread('a.jpg', cv2.IMREAD_COLOR)\n",
    "h, w, _ = img.shape\n",
    "\n",
    "for i in range(0, 3):\n",
    "    arr[i] = img[0:h, i*w//3:(i+1)*w//3]\n",
    "    \n",
    "for i in range(0, 3):   \n",
    "    cv2.imshow('img'+str(i), arr[i])\n",
    "    \n",
    "cv2.waitKey(0)\n",
    "cv2.destroyAllWindows()"
   ]
  },
  {
   "cell_type": "code",
   "execution_count": 25,
   "metadata": {},
   "outputs": [
    {
     "data": {
      "text/plain": [
       "array([[[ 87, 122, 135],\n",
       "        [ 88, 123, 136],\n",
       "        [ 88, 123, 136],\n",
       "        ...,\n",
       "        [ 76, 100, 112],\n",
       "        [ 74, 100, 114],\n",
       "        [ 74, 100, 114]],\n",
       "\n",
       "       [[ 88, 123, 136],\n",
       "        [ 87, 122, 135],\n",
       "        [ 87, 122, 135],\n",
       "        ...,\n",
       "        [ 77, 103, 115],\n",
       "        [ 76, 102, 116],\n",
       "        [ 75, 101, 115]],\n",
       "\n",
       "       [[ 85, 120, 133],\n",
       "        [ 84, 119, 132],\n",
       "        [ 83, 119, 129],\n",
       "        ...,\n",
       "        [ 77, 103, 117],\n",
       "        [ 76, 102, 116],\n",
       "        [ 75, 102, 116]],\n",
       "\n",
       "       ...,\n",
       "\n",
       "       [[120, 101,  96],\n",
       "        [120, 101,  96],\n",
       "        [119, 100,  95],\n",
       "        ...,\n",
       "        [ 84,  65,  58],\n",
       "        [ 86,  67,  60],\n",
       "        [ 88,  69,  62]],\n",
       "\n",
       "       [[120, 101,  96],\n",
       "        [120, 101,  96],\n",
       "        [119, 100,  95],\n",
       "        ...,\n",
       "        [ 84,  65,  58],\n",
       "        [ 87,  68,  61],\n",
       "        [ 88,  69,  62]],\n",
       "\n",
       "       [[121, 101,  96],\n",
       "        [121, 101,  96],\n",
       "        [120, 100,  95],\n",
       "        ...,\n",
       "        [ 85,  66,  59],\n",
       "        [ 87,  68,  61],\n",
       "        [ 89,  70,  63]]], dtype=uint8)"
      ]
     },
     "execution_count": 25,
     "metadata": {},
     "output_type": "execute_result"
    }
   ],
   "source": [
    "#이미지 특정 채널(b, g, r) 추출\n",
    "\n",
    "import cv2\n",
    "import numpy as np\n",
    "\n",
    "img = cv2.imread('a.jpg', cv2.IMREAD_COLOR)\n",
    "img"
   ]
  },
  {
   "cell_type": "code",
   "execution_count": 21,
   "metadata": {},
   "outputs": [
    {
     "data": {
      "text/plain": [
       "array([[ 87,  88,  88, ...,  76,  74,  74],\n",
       "       [ 88,  87,  87, ...,  77,  76,  75],\n",
       "       [ 85,  84,  83, ...,  77,  76,  75],\n",
       "       ...,\n",
       "       [120, 120, 119, ...,  84,  86,  88],\n",
       "       [120, 120, 119, ...,  84,  87,  88],\n",
       "       [121, 121, 120, ...,  85,  87,  89]], dtype=uint8)"
      ]
     },
     "execution_count": 21,
     "metadata": {},
     "output_type": "execute_result"
    }
   ],
   "source": [
    "b = img[:,:, 0]#blue\n",
    "b"
   ]
  },
  {
   "cell_type": "code",
   "execution_count": 23,
   "metadata": {},
   "outputs": [
    {
     "data": {
      "text/plain": [
       "array([[122, 123, 123, ..., 100, 100, 100],\n",
       "       [123, 122, 122, ..., 103, 102, 101],\n",
       "       [120, 119, 119, ..., 103, 102, 102],\n",
       "       ...,\n",
       "       [101, 101, 100, ...,  65,  67,  69],\n",
       "       [101, 101, 100, ...,  65,  68,  69],\n",
       "       [101, 101, 100, ...,  66,  68,  70]], dtype=uint8)"
      ]
     },
     "execution_count": 23,
     "metadata": {},
     "output_type": "execute_result"
    }
   ],
   "source": [
    "g = img[:,:, 1]#green\n",
    "g"
   ]
  },
  {
   "cell_type": "code",
   "execution_count": 30,
   "metadata": {},
   "outputs": [
    {
     "data": {
      "text/plain": [
       "array([[135, 136, 136, ..., 112, 114, 114],\n",
       "       [136, 135, 135, ..., 115, 116, 115],\n",
       "       [133, 132, 129, ..., 117, 116, 116],\n",
       "       ...,\n",
       "       [ 96,  96,  95, ...,  58,  60,  62],\n",
       "       [ 96,  96,  95, ...,  58,  61,  62],\n",
       "       [ 96,  96,  95, ...,  59,  61,  63]], dtype=uint8)"
      ]
     },
     "execution_count": 30,
     "metadata": {},
     "output_type": "execute_result"
    }
   ],
   "source": [
    "r = img[:,:, 2]#red\n",
    "r"
   ]
  },
  {
   "cell_type": "code",
   "execution_count": 1,
   "metadata": {},
   "outputs": [
    {
     "ename": "NameError",
     "evalue": "name 'img' is not defined",
     "output_type": "error",
     "traceback": [
      "\u001b[1;31m---------------------------------------------------------------------------\u001b[0m",
      "\u001b[1;31mNameError\u001b[0m                                 Traceback (most recent call last)",
      "\u001b[1;32m<ipython-input-1-b409312d7bbe>\u001b[0m in \u001b[0;36m<module>\u001b[1;34m\u001b[0m\n\u001b[1;32m----> 1\u001b[1;33m \u001b[0mh\u001b[0m\u001b[1;33m,\u001b[0m \u001b[0mw\u001b[0m\u001b[1;33m,\u001b[0m \u001b[0m_\u001b[0m \u001b[1;33m=\u001b[0m \u001b[0mimg\u001b[0m\u001b[1;33m.\u001b[0m\u001b[0mshape\u001b[0m\u001b[1;33m\u001b[0m\u001b[1;33m\u001b[0m\u001b[0m\n\u001b[0m\u001b[0;32m      2\u001b[0m \u001b[0mimg0\u001b[0m \u001b[1;33m=\u001b[0m \u001b[0mnp\u001b[0m\u001b[1;33m.\u001b[0m\u001b[0mzeros\u001b[0m\u001b[1;33m(\u001b[0m\u001b[1;33m(\u001b[0m\u001b[0mh\u001b[0m\u001b[1;33m,\u001b[0m \u001b[0mw\u001b[0m\u001b[1;33m,\u001b[0m \u001b[1;36m3\u001b[0m\u001b[1;33m)\u001b[0m\u001b[1;33m,\u001b[0m \u001b[0mdtype\u001b[0m\u001b[1;33m=\u001b[0m\u001b[0mnp\u001b[0m\u001b[1;33m.\u001b[0m\u001b[0muint8\u001b[0m\u001b[1;33m)\u001b[0m\u001b[1;33m\u001b[0m\u001b[1;33m\u001b[0m\u001b[0m\n\u001b[0;32m      3\u001b[0m \u001b[0mimg0\u001b[0m\u001b[1;33m[\u001b[0m\u001b[1;33m:\u001b[0m\u001b[1;33m,\u001b[0m\u001b[1;33m:\u001b[0m\u001b[1;33m,\u001b[0m \u001b[1;36m2\u001b[0m\u001b[1;33m]\u001b[0m\u001b[1;33m=\u001b[0m\u001b[0mr\u001b[0m\u001b[1;33m\u001b[0m\u001b[1;33m\u001b[0m\u001b[0m\n\u001b[0;32m      4\u001b[0m \u001b[0mimg0\u001b[0m\u001b[1;33m\u001b[0m\u001b[1;33m\u001b[0m\u001b[0m\n",
      "\u001b[1;31mNameError\u001b[0m: name 'img' is not defined"
     ]
    }
   ],
   "source": [
    "h, w, _ = img.shape\n",
    "img0 = np.zeros((h, w, 3), dtype=np.uint8)\n",
    "img0[:,:, 2]=r\n",
    "img0"
   ]
  },
  {
   "cell_type": "code",
   "execution_count": 32,
   "metadata": {},
   "outputs": [],
   "source": [
    "cv2.imshow('img0', img0)\n",
    "    \n",
    "cv2.waitKey(0)\n",
    "cv2.destroyAllWindows()"
   ]
  },
  {
   "cell_type": "code",
   "execution_count": null,
   "metadata": {},
   "outputs": [],
   "source": []
  }
 ],
 "metadata": {
  "kernelspec": {
   "display_name": "Python 3",
   "language": "python",
   "name": "python3"
  },
  "language_info": {
   "codemirror_mode": {
    "name": "ipython",
    "version": 3
   },
   "file_extension": ".py",
   "mimetype": "text/x-python",
   "name": "python",
   "nbconvert_exporter": "python",
   "pygments_lexer": "ipython3",
   "version": "3.7.6"
  }
 },
 "nbformat": 4,
 "nbformat_minor": 5
}
