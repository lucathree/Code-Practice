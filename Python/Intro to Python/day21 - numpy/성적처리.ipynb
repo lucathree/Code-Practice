{
 "cells": [
  {
   "cell_type": "code",
   "execution_count": 1,
   "metadata": {},
   "outputs": [],
   "source": [
    "import numpy as np"
   ]
  },
  {
   "cell_type": "markdown",
   "metadata": {},
   "source": [
    "### 1. 파일 가져와서 리스트에 담기"
   ]
  },
  {
   "cell_type": "code",
   "execution_count": 2,
   "metadata": {},
   "outputs": [
    {
     "data": {
      "text/plain": [
       "[['1', 'aaa', '43', '65', '78'],\n",
       " ['2', 'bbb', '76', '98', '54'],\n",
       " ['3', 'ccc', '98', '67', '54'],\n",
       " ['4', 'ddd', '54', '98', '67'],\n",
       " ['5', 'eee', '98', '65', '34']]"
      ]
     },
     "execution_count": 2,
     "metadata": {},
     "output_type": "execute_result"
    }
   ],
   "source": [
    "file = open('stu_data.txt', 'r')\n",
    "datas = []\n",
    "while True:\n",
    "    s = file.readline()\n",
    "    if s == '':\n",
    "        break\n",
    "    else:\n",
    "        line = s.replace('\\n','')\n",
    "        data = line.split(',')\n",
    "        datas.append(data)\n",
    "file.close()\n",
    "datas"
   ]
  },
  {
   "cell_type": "markdown",
   "metadata": {},
   "source": [
    "### 2. 리스트에 총첨,평균 0으로 초기화"
   ]
  },
  {
   "cell_type": "code",
   "execution_count": 3,
   "metadata": {},
   "outputs": [
    {
     "data": {
      "text/plain": [
       "\"\\nnew_datas = []\\nfor i in datas:\\n    i.append('0')\\n    i.append('0')\\n    new_datas.append(i)\\nnew_datas\\n\""
      ]
     },
     "execution_count": 3,
     "metadata": {},
     "output_type": "execute_result"
    }
   ],
   "source": [
    "\"\"\"\n",
    "new_datas = []\n",
    "for i in datas:\n",
    "    i.append('0')\n",
    "    i.append('0')\n",
    "    new_datas.append(i)\n",
    "new_datas\n",
    "\"\"\""
   ]
  },
  {
   "cell_type": "code",
   "execution_count": 4,
   "metadata": {},
   "outputs": [
    {
     "data": {
      "text/plain": [
       "[['1', 'aaa', '43', '65', '78', '0', '0'],\n",
       " ['2', 'bbb', '76', '98', '54', '0', '0'],\n",
       " ['3', 'ccc', '98', '67', '54', '0', '0'],\n",
       " ['4', 'ddd', '54', '98', '67', '0', '0'],\n",
       " ['5', 'eee', '98', '65', '34', '0', '0']]"
      ]
     },
     "execution_count": 4,
     "metadata": {},
     "output_type": "execute_result"
    }
   ],
   "source": [
    "for i in datas:\n",
    "    for j in range(0,2):\n",
    "        i.append('0')\n",
    "datas"
   ]
  },
  {
   "cell_type": "markdown",
   "metadata": {},
   "source": [
    "### 3. numpy 배열 생성"
   ]
  },
  {
   "cell_type": "code",
   "execution_count": 5,
   "metadata": {},
   "outputs": [
    {
     "data": {
      "text/plain": [
       "array([['1', 'aaa', '43', '65', '78', '0', '0'],\n",
       "       ['2', 'bbb', '76', '98', '54', '0', '0'],\n",
       "       ['3', 'ccc', '98', '67', '54', '0', '0'],\n",
       "       ['4', 'ddd', '54', '98', '67', '0', '0'],\n",
       "       ['5', 'eee', '98', '65', '34', '0', '0']], dtype='<U3')"
      ]
     },
     "execution_count": 5,
     "metadata": {},
     "output_type": "execute_result"
    }
   ],
   "source": [
    "arr = np.array(datas)\n",
    "arr"
   ]
  },
  {
   "cell_type": "markdown",
   "metadata": {},
   "source": [
    "### 4. 학생 번호만 추출, 이름만 추출, 점수 추출"
   ]
  },
  {
   "cell_type": "code",
   "execution_count": 6,
   "metadata": {},
   "outputs": [
    {
     "name": "stdout",
     "output_type": "stream",
     "text": [
      "['1' '2' '3' '4' '5']\n",
      "['aaa' 'bbb' 'ccc' 'ddd' 'eee']\n",
      "[['43' '65' '78']\n",
      " ['76' '98' '54']\n",
      " ['98' '67' '54']\n",
      " ['54' '98' '67']\n",
      " ['98' '65' '34']]\n"
     ]
    }
   ],
   "source": [
    "student_nums = arr[:,0]\n",
    "print(student_nums)\n",
    "\n",
    "student_names = arr[:,1]\n",
    "print(student_names)\n",
    "\n",
    "student_scores = arr[:, 2:5]\n",
    "print(student_scores)"
   ]
  },
  {
   "cell_type": "markdown",
   "metadata": {},
   "source": [
    "### 5. 학생별 총점 계산하여 지정 칸에 할당"
   ]
  },
  {
   "cell_type": "code",
   "execution_count": 7,
   "metadata": {},
   "outputs": [
    {
     "data": {
      "text/plain": [
       "array([186, 228, 219, 219, 197])"
      ]
     },
     "execution_count": 7,
     "metadata": {},
     "output_type": "execute_result"
    }
   ],
   "source": [
    "ss = student_scores.astype(int)\n",
    "totals = ss.sum(axis=1)\n",
    "totals"
   ]
  },
  {
   "cell_type": "code",
   "execution_count": 8,
   "metadata": {},
   "outputs": [
    {
     "data": {
      "text/plain": [
       "array([['1', 'aaa', '43', '65', '78', '186', '0'],\n",
       "       ['2', 'bbb', '76', '98', '54', '228', '0'],\n",
       "       ['3', 'ccc', '98', '67', '54', '219', '0'],\n",
       "       ['4', 'ddd', '54', '98', '67', '219', '0'],\n",
       "       ['5', 'eee', '98', '65', '34', '197', '0']], dtype='<U3')"
      ]
     },
     "execution_count": 8,
     "metadata": {},
     "output_type": "execute_result"
    }
   ],
   "source": [
    "arr[:,5] = totals\n",
    "arr"
   ]
  },
  {
   "cell_type": "markdown",
   "metadata": {},
   "source": [
    "### 6. 학생별 평균 계산하여 지정 칸에 할당"
   ]
  },
  {
   "cell_type": "code",
   "execution_count": 9,
   "metadata": {},
   "outputs": [],
   "source": [
    "avg = totals/3"
   ]
  },
  {
   "cell_type": "code",
   "execution_count": 10,
   "metadata": {},
   "outputs": [
    {
     "data": {
      "text/plain": [
       "array([['1', 'aaa', '43', '65', '78', '186', '62.'],\n",
       "       ['2', 'bbb', '76', '98', '54', '228', '76.'],\n",
       "       ['3', 'ccc', '98', '67', '54', '219', '73.'],\n",
       "       ['4', 'ddd', '54', '98', '67', '219', '73.'],\n",
       "       ['5', 'eee', '98', '65', '34', '197', '65.']], dtype='<U3')"
      ]
     },
     "execution_count": 10,
     "metadata": {},
     "output_type": "execute_result"
    }
   ],
   "source": [
    "arr[:,6] = avg\n",
    "arr"
   ]
  },
  {
   "cell_type": "markdown",
   "metadata": {},
   "source": [
    "### 7. 총점 정렬해서 보기"
   ]
  },
  {
   "cell_type": "code",
   "execution_count": 11,
   "metadata": {},
   "outputs": [
    {
     "data": {
      "text/plain": [
       "array([186, 197, 219, 219, 228])"
      ]
     },
     "execution_count": 11,
     "metadata": {},
     "output_type": "execute_result"
    }
   ],
   "source": [
    "np.sort(totals)"
   ]
  }
 ],
 "metadata": {
  "kernelspec": {
   "display_name": "Python 3",
   "language": "python",
   "name": "python3"
  },
  "language_info": {
   "codemirror_mode": {
    "name": "ipython",
    "version": 3
   },
   "file_extension": ".py",
   "mimetype": "text/x-python",
   "name": "python",
   "nbconvert_exporter": "python",
   "pygments_lexer": "ipython3",
   "version": "3.7.6"
  }
 },
 "nbformat": 4,
 "nbformat_minor": 4
}
