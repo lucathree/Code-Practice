{
 "cells": [
  {
   "cell_type": "markdown",
   "metadata": {},
   "source": [
    "# 카메라 제어"
   ]
  },
  {
   "cell_type": "markdown",
   "metadata": {},
   "source": [
    "1. VideoCapture 객체 생성. 0 이면 Camera와 연결. \n",
    "2. Loop를 돌면서 frame을 읽음.  \n",
    "3. 읽은 frame에 대해서 변환작업을 수행, 화면 출력.  \n",
    "4. VideoCapure Object를 release하고 window를 닫음."
   ]
  },
  {
   "cell_type": "markdown",
   "metadata": {},
   "source": [
    "<사진 찍기>  \n",
    "cap = cv2.VideoCapture(0) - 카메라 오픈  \n",
    "cap.isOpened() - 카메라 오픈 여부를 True, False 반환  \n",
    "cap.set(가로나 세로, 크기) - 3:가로, 4:세로. 영상의 가로, 세로 크기 설정  \n",
    "cap.get(가로나 세로) - 3:가로, 4:세로. 영상의 가로, 세로 크기 반환  \n",
    "ret, frame = cap.read() - 영상 읽음. ret:처리결과(True, False), frame:읽은 영상"
   ]
  },
  {
   "cell_type": "code",
   "execution_count": 1,
   "metadata": {},
   "outputs": [
    {
     "name": "stdout",
     "output_type": "stream",
     "text": [
      "영상 가로 길이: 320.0\n",
      "영상 세로 길이: 240.0\n"
     ]
    }
   ],
   "source": [
    "import cv2\n",
    "import sys\n",
    "\n",
    "cap = cv2.VideoCapture(0)#카메라 오픈\n",
    "\n",
    "if not cap.isOpened():# cap.isOpen():카메라 정상오픈이면 True, 아니면 False\n",
    "    print('카메라 오픈 안됨')\n",
    "    sys.exit(0)\n",
    "\n",
    "cap.set(3, 300) #카메라 영상의 가로 길이를 300으로 변경\n",
    "cap.set(4, 200) #카메라 영상의 세로 길이를 200으로 변경\n",
    "\n",
    "print('영상 가로 길이:', cap.get(3)) #cap.get(3):카메라 영상의 가로 길이 반환\n",
    "print('영상 세로 길이:', cap.get(4)) #cap.get(4):카메라 영상의 세로 길이 반환\n",
    "\n",
    "#카메라 영상 읽기. ret:처리결과(True, False) / frame:읽은 영상\n",
    "ret, frame = cap.read() \n",
    "if ret:\n",
    "    cv2.imwrite('pic1.jpg', frame) #카메라 영상 저장\n",
    "    cv2.imshow('img', frame) #영상을 윈도우에 출력\n",
    "    cv2.waitKey(0)\n",
    "    cap.release()\n",
    "    cv2.destroyAllWindows()"
   ]
  },
  {
   "cell_type": "markdown",
   "metadata": {},
   "source": [
    "<동영상 찍기 - 저장안함>  \n",
    "카메라로 읽은 영상을 그대로 출력"
   ]
  },
  {
   "cell_type": "code",
   "execution_count": 2,
   "metadata": {},
   "outputs": [
    {
     "name": "stdout",
     "output_type": "stream",
     "text": [
      "(240, 320, 3)\n",
      "(240, 320, 3)\n",
      "(240, 320, 3)\n",
      "(240, 320, 3)\n",
      "(240, 320, 3)\n",
      "(240, 320, 3)\n",
      "(240, 320, 3)\n",
      "(240, 320, 3)\n",
      "(240, 320, 3)\n",
      "(240, 320, 3)\n",
      "(240, 320, 3)\n",
      "(240, 320, 3)\n",
      "(240, 320, 3)\n",
      "(240, 320, 3)\n",
      "(240, 320, 3)\n",
      "(240, 320, 3)\n",
      "(240, 320, 3)\n",
      "(240, 320, 3)\n",
      "(240, 320, 3)\n",
      "(240, 320, 3)\n",
      "(240, 320, 3)\n",
      "(240, 320, 3)\n",
      "(240, 320, 3)\n",
      "(240, 320, 3)\n",
      "(240, 320, 3)\n",
      "(240, 320, 3)\n",
      "(240, 320, 3)\n",
      "(240, 320, 3)\n",
      "(240, 320, 3)\n",
      "(240, 320, 3)\n",
      "(240, 320, 3)\n",
      "(240, 320, 3)\n",
      "(240, 320, 3)\n",
      "(240, 320, 3)\n",
      "(240, 320, 3)\n",
      "(240, 320, 3)\n",
      "(240, 320, 3)\n",
      "(240, 320, 3)\n",
      "(240, 320, 3)\n",
      "(240, 320, 3)\n",
      "(240, 320, 3)\n",
      "(240, 320, 3)\n",
      "(240, 320, 3)\n",
      "(240, 320, 3)\n",
      "(240, 320, 3)\n",
      "(240, 320, 3)\n",
      "(240, 320, 3)\n"
     ]
    }
   ],
   "source": [
    "import cv2\n",
    "cap = cv2.VideoCapture(0)#카메라 오픈\n",
    "\n",
    "cap.set(3, 300) \n",
    "cap.set(4, 200)\n",
    "while True:\n",
    "    ret, frame = cap.read()\n",
    "    if ret: #정상 읽기일 때만\n",
    "        cv2.imshow('img', frame) #영상을 윈도우에 출력\n",
    "    k = cv2.waitKey(1)\n",
    "    if k==27: #입력한 키가 esc이면\n",
    "        break\n",
    "cap.release()\n",
    "cv2.destroyAllWindows()\n"
   ]
  },
  {
   "cell_type": "markdown",
   "metadata": {},
   "source": [
    "<동영상 찍기 – 저장>  \n",
    "cv2.VideoWriter('파일명', 코덱종류, 초당 프레임 수, 가로세로 크기) - 영상저장  \n",
    "cv2.VideoWriter_fourcc(*'DIVX') - 사용할 코덱 지정"
   ]
  },
  {
   "cell_type": "code",
   "execution_count": 5,
   "metadata": {},
   "outputs": [
    {
     "name": "stdout",
     "output_type": "stream",
     "text": [
      "(480, 640, 3)\n",
      "(480, 640, 3)\n",
      "(480, 640, 3)\n",
      "(480, 640, 3)\n",
      "(480, 640, 3)\n",
      "(480, 640, 3)\n",
      "(480, 640, 3)\n",
      "(480, 640, 3)\n",
      "(480, 640, 3)\n",
      "(480, 640, 3)\n",
      "(480, 640, 3)\n",
      "(480, 640, 3)\n",
      "(480, 640, 3)\n",
      "(480, 640, 3)\n",
      "(480, 640, 3)\n",
      "(480, 640, 3)\n",
      "(480, 640, 3)\n",
      "(480, 640, 3)\n",
      "(480, 640, 3)\n",
      "(480, 640, 3)\n",
      "(480, 640, 3)\n",
      "(480, 640, 3)\n",
      "(480, 640, 3)\n",
      "(480, 640, 3)\n",
      "(480, 640, 3)\n",
      "(480, 640, 3)\n",
      "(480, 640, 3)\n",
      "(480, 640, 3)\n",
      "(480, 640, 3)\n",
      "(480, 640, 3)\n",
      "(480, 640, 3)\n",
      "(480, 640, 3)\n",
      "(480, 640, 3)\n",
      "(480, 640, 3)\n",
      "(480, 640, 3)\n",
      "(480, 640, 3)\n",
      "(480, 640, 3)\n",
      "(480, 640, 3)\n",
      "(480, 640, 3)\n",
      "(480, 640, 3)\n",
      "(480, 640, 3)\n",
      "(480, 640, 3)\n",
      "(480, 640, 3)\n",
      "(480, 640, 3)\n",
      "(480, 640, 3)\n",
      "(480, 640, 3)\n"
     ]
    }
   ],
   "source": [
    "import cv2\n",
    "cap = cv2.VideoCapture(0) #카메라 오픈\n",
    "codec = cv2.VideoWriter_fourcc(*'DIVX') #사용할 코덱 생성\n",
    "#동영상 작성자 객체 생성\n",
    "out =  cv2.VideoWriter('c.avi', codec, 25.0, (640,480))\n",
    "while cap.isOpened():\t#카메라 정상 오픈일 때 동작\n",
    "    ret, frame = cap.read() #카메라 영상 읽기\n",
    "    print(str(frame.shape))\n",
    "    if ret:#abs읽기가 정상이면\n",
    "        out.write(frame)#동영상 작성\n",
    "        cv2.imshow('frame', frame) #현재 frame을 윈도우에 출력\n",
    "        if cv2.waitKey(1) & 0xFF == ord('q'): #q입력 시 종료 \n",
    "            break\n",
    "    else:\n",
    "        break\n",
    "cap.release()\n",
    "out.release()\n",
    "cv2.destroyAllWindows()\n"
   ]
  },
  {
   "cell_type": "markdown",
   "metadata": {},
   "source": [
    "<찍은 영상 실행>"
   ]
  },
  {
   "cell_type": "code",
   "execution_count": 9,
   "metadata": {},
   "outputs": [],
   "source": [
    "import cv2\n",
    "cap = cv2.VideoCapture('b.avi')#동영상 파일 오픈\n",
    "while cap.isOpened():#동영상 파일이 정상 오픈이면\n",
    "    ret, frame = cap.read()#동영상에서 frame을 읽음\n",
    "    if not ret:\n",
    "        break\n",
    "    cv2.imshow('a.avi', frame)\t#읽은 frame을 윈도우에 출력\n",
    "    if cv2.waitKey(42) & 0xFF == ord('q'): #q입력 시 종료 \n",
    "        break\n",
    "cap.release()\n",
    "cv2.destroyAllWindows()\n"
   ]
  },
  {
   "cell_type": "code",
   "execution_count": null,
   "metadata": {},
   "outputs": [],
   "source": []
  }
 ],
 "metadata": {
  "kernelspec": {
   "display_name": "Python 3",
   "language": "python",
   "name": "python3"
  },
  "language_info": {
   "codemirror_mode": {
    "name": "ipython",
    "version": 3
   },
   "file_extension": ".py",
   "mimetype": "text/x-python",
   "name": "python",
   "nbconvert_exporter": "python",
   "pygments_lexer": "ipython3",
   "version": "3.9.5"
  }
 },
 "nbformat": 4,
 "nbformat_minor": 4
}
