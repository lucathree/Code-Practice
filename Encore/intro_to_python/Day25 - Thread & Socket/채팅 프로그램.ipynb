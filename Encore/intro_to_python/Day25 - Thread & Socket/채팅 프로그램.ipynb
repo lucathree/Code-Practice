{
 "cells": [
  {
   "cell_type": "code",
   "execution_count": null,
   "metadata": {
    "scrolled": true
   },
   "outputs": [
    {
     "name": "stdout",
     "output_type": "stream",
     "text": [
      "chatting server start\n",
      "connected client addr: ('172.30.1.17', 3452)\n",
      "sendMsgAll: member3452님이 입장하셨습니다\n",
      "sendMsgAll: member3452: sdflkj\n",
      "sendMsgAll: member3452: dlk\n",
      "sendMsgAll: member3452: wo\n",
      "sendMsgAll: member3452: 뭔가 이상항\n",
      "sendMsgAll: member3452: 이게 왜 스레딩이 이렇냐\n",
      "sendMsgAll: member3452님이 퇴장하셨습니다\n"
     ]
    }
   ],
   "source": [
    "#채팅서버\n",
    "import socket, threading\n",
    "members=[]\n",
    "\n",
    "def sendMsgAll(msg):#인자로 받은 메시지를 채팅방에 있는 모든 사람에 전송\n",
    "    print('sendMsgAll:', msg)\n",
    "    for i in members:\n",
    "        i.sendall(msg.encode(encoding='utf-8'))\n",
    "            \n",
    "#쓰레드 작업. 클라이언트 하나당 하나 생성됨. 소켓으로 연결된 클라이언트가 전송한 메시지를 받아서 전체에 전달\n",
    "def f1(p, soc):\n",
    "    id = 'member'+str(p)\n",
    "    msg = id+'님이 입장하셨습니다'\n",
    "    sendMsgAll(msg)\n",
    "    \n",
    "    while True:\n",
    "        msg = soc.recv(100)\n",
    "        msg = msg.decode()\n",
    "        if msg=='/end':\n",
    "            msg = id+'님이 퇴장하셨습니다'\n",
    "            soc.sendall('/end'.encode(encoding='utf-8'))\n",
    "            members.remove(soc)#채팅방에서 제거\n",
    "            sendMsgAll(msg)\n",
    "            break\n",
    "        msg = id+': '+msg\n",
    "        sendMsgAll(msg)\n",
    "    \n",
    "def main():\n",
    "    host = '172.30.1.17' #서버 주소\n",
    "    port = 3234             #서버 포트번호\n",
    "\n",
    "    server_socket = socket.socket(socket.AF_INET, socket.SOCK_STREAM)\n",
    "    server_socket.setsockopt(socket.SOL_SOCKET, socket.SO_REUSEADDR, 1)\n",
    "    server_socket.bind((host, port))\n",
    "    server_socket.listen()\n",
    "    print('chatting server start')\n",
    "    \n",
    "    while True:\n",
    "        client_soc, addr = server_socket.accept()#클라이언트 기다림\n",
    "        members.append(client_soc)\n",
    "        print('connected client addr:', addr)\n",
    "        #쓰레드 생성\n",
    "        th = threading.Thread(target=f1, args=(addr[1], client_soc))\n",
    "        th.start()\n",
    "    \n",
    "    print('서버 종료')\n",
    "    server_socket.close()\n",
    "    \n",
    "main()"
   ]
  },
  {
   "cell_type": "markdown",
   "metadata": {},
   "source": [
    "#### 채팅 클라이언트\n",
    "- 스레드로 작업을 분리\n",
    "- th1: 서버가 전송한 메시지 받아서 출력\n",
    "- th2: 메시지를 키보드 입력받아서 서버로 전송."
   ]
  },
  {
   "cell_type": "code",
   "execution_count": null,
   "metadata": {},
   "outputs": [],
   "source": [
    "import socket, threading\n",
    "\n",
    "soc = None\n",
    "\n",
    "def sendMsg():\n",
    "    while True:\n",
    "        msg = input('msg:')\n",
    "        soc.sendall(msg.encode(encoding='utf-8'))\n",
    "        if msg == '/end':\n",
    "            break\n",
    "\n",
    "\n",
    "def recvMsg():\n",
    "    while True:\n",
    "        data = soc.recv(100)\n",
    "        msg = data.decode()  # 읽은 데이터 디코딩\n",
    "        print(msg)\n",
    "        if msg == '/end':\n",
    "            break\n",
    "    soc.close()\n",
    "\n",
    "\n",
    "def main():\n",
    "    global soc\n",
    "    server_ip = '172.30.1.17'\n",
    "    server_port = 3234\n",
    "\n",
    "    soc = socket.socket(socket.AF_INET, socket.SOCK_STREAM)\n",
    "    soc.connect((server_ip, server_port))\n",
    "\n",
    "    th1 = threading.Thread(target=sendMsg)\n",
    "    th1.start()\n",
    "\n",
    "    th2 = threading.Thread(target=recvMsg)\n",
    "    th2.start()\n",
    "\n",
    "\n",
    "main()"
   ]
  }
 ],
 "metadata": {
  "kernelspec": {
   "display_name": "Python 3",
   "language": "python",
   "name": "python3"
  },
  "language_info": {
   "codemirror_mode": {
    "name": "ipython",
    "version": 3
   },
   "file_extension": ".py",
   "mimetype": "text/x-python",
   "name": "python",
   "nbconvert_exporter": "python",
   "pygments_lexer": "ipython3",
   "version": "3.7.6"
  }
 },
 "nbformat": 4,
 "nbformat_minor": 4
}
