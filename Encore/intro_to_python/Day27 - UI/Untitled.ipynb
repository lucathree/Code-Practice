{
 "cells": [
  {
   "cell_type": "markdown",
   "metadata": {},
   "source": [
    "# tkinter를 활용한 UI 프로그래밍"
   ]
  },
  {
   "cell_type": "markdown",
   "metadata": {},
   "source": [
    "1. 윈도우 생성: tk.TK\n",
    "2. 위젯 생성: tk.Label(), tk.Button() ->  윈도우에 붙일 버튼, 레이블, 입력박스 등 생성\n",
    "3. 이벤트 핸들러 등록. command 속성에 이벤트 발생시 호출될 함수 등록\n",
    "4. 생성한 위젯을 윈도우에 붙임 -> .pack()\n",
    "5. window.mainloop()를 호출하여 UI 실행"
   ]
  },
  {
   "cell_type": "code",
   "execution_count": 34,
   "metadata": {},
   "outputs": [],
   "source": [
    "import tkinter as tk"
   ]
  },
  {
   "cell_type": "code",
   "execution_count": 45,
   "metadata": {},
   "outputs": [
    {
     "name": "stdout",
     "output_type": "stream",
     "text": [
      "button click\n"
     ]
    }
   ],
   "source": [
    "window = tk.Tk()  #Tk 객체 생성\n",
    "\n",
    "def f1():  #핸들러 함수  \n",
    "    print('button click')\n",
    "\n",
    "# tk.Label('부모객체',)\n",
    "label = tk.Label(window, text='hello', width='100', height='5')  #뷰 위젯이 하나인 레이블 객체 생성\n",
    "btn1 = tk.Button(window, text='button 1', command=f1)  #command: 이벤트 핸들러 등록\n",
    "label.pack()  #위젯(레이블, 버튼...)을 윈도우에 붙임\n",
    "btn1.pack()\n",
    "\n",
    "window.mainloop()  #UI 스레드를 실행하여 화면에 출력"
   ]
  },
  {
   "cell_type": "code",
   "execution_count": null,
   "metadata": {},
   "outputs": [],
   "source": [
    "window = tk.Tk()  #Tk 객체 생성\n",
    "\n",
    "def f2():  #핸들러 함수  \n",
    "    label.text(cget)\n",
    "\n",
    "# tk.Label('부모객체',)\n",
    "label = tk.Label(window, text='hello', width='100', height='5')  #뷰 위젯이 하나인 레이블 객체 생성\n",
    "btn1 = tk.Button(window, text='button 1', command=f1)  #command: 이벤트 핸들러 등록\n",
    "label.pack()  #위젯(레이블, 버튼...)을 윈도우에 붙임\n",
    "btn1.pack()\n",
    "\n",
    "window.mainloop()"
   ]
  },
  {
   "cell_type": "code",
   "execution_count": 19,
   "metadata": {},
   "outputs": [],
   "source": [
    "win = tk.Tk()  #Tk 객체 생성\n",
    "win.title('window title')\n",
    "win.geometry('300x200+300+100')  #가로300x세로200 픽셀 사이즈 화면을 화면의 왼쪽에서부터 300픽셀, 화면의 위에서부터 100픽셀 떨어진 곳에 표시\n",
    "win.resizable(False, False)  #창화면 사이즈 변경 불가\n",
    "\n",
    "b1 = tk.Button(win, text='right', width=10)  #버튼의 길이는 10픽셀, 안에 내용은 'right'\n",
    "b1.pack(side='right')  #side 속성: 위도우 안에 위젯을 붙일 방향. 버튼 방향 오른쪽\n",
    "b2 = tk.Button(win, text='left', width=10)\n",
    "b2.pack(side='left')\n",
    "b3 = tk.Button(win, text='top', width=10)\n",
    "b3.pack(side='top')\n",
    "b4 = tk.Button(win, text='bottom', width=10)\n",
    "b4.pack(side='bottom')\n",
    "\n",
    "win.mainloop()  #UI 스레드를 실행하여 화면에 출력"
   ]
  },
  {
   "cell_type": "code",
   "execution_count": 20,
   "metadata": {},
   "outputs": [],
   "source": [
    "win = tk.Tk()\n",
    "\n",
    "def f3():\n",
    "    print('button click')\n",
    "\n",
    "win.title('window title')\n",
    "win.geometry('300x200+300+100')\n",
    "win.resizable(False, False)\n",
    "\n",
    "b1 = tk.Button(win, text='1', width=10)\n",
    "b1.grid(row=0, column=0)  #.grid() 테이블의 형태로 컬럼과 로우 값을 받아서 배치\n",
    "b2 = tk.Button(win, text='2', width=10)\n",
    "b2.grid(row=0, column=1)\n",
    "b3 = tk.Button(win, text='3', width=10)\n",
    "b3.grid(row=0, column=2)\n",
    "b4 = tk.Button(win, text='4', width=10)\n",
    "b4.grid(row=1, column=0)\n",
    "b5 = tk.Button(win, text='5', width=10)\n",
    "b5.grid(row=1, column=1)\n",
    "b6 = tk.Button(win, text='6', width=10)\n",
    "b6.grid(row=1, column=2)\n",
    "\n",
    "win.mainloop()  #UI 스레드를 실행하여 화면에 출력"
   ]
  },
  {
   "cell_type": "code",
   "execution_count": 23,
   "metadata": {},
   "outputs": [],
   "source": [
    "win = tk.Tk()\n",
    "win.title('window title')\n",
    "win.geometry('300x200+300+100')\n",
    "win.resizable(False, False)\n",
    "\n",
    "b1 = tk.Button(win, text='1', width=10)\n",
    "b1.place(x=30, y=30)  #.place() : x와 y 위치를 픽셀로 받아서 배치\n",
    "b2 = tk.Button(win, text='2', width=10)\n",
    "b2.place(x=100, y=100)\n",
    "b3 = tk.Button(win, text='3', width=10)\n",
    "b3.place(x=170, y=170)\n",
    "\n",
    "win.mainloop()  #UI 스레드를 실행하여 화면에 출력"
   ]
  },
  {
   "cell_type": "code",
   "execution_count": 28,
   "metadata": {},
   "outputs": [],
   "source": [
    "def main():\n",
    "    win = tk.Tk()\n",
    "    win.title('window title')\n",
    "    win.geometry('300x200+300+100')\n",
    "    win.resizable(False, False)\n",
    "    label = tk.Label(win, text='calc')\n",
    "    label.grid(row=0, column=0)\n",
    "    b1 = tk.Button(text='1', width=7, height=8)\n",
    "    b1.grid(row=1, column=0)\n",
    "    b2 = tk.Button(text='2', width=7, height=8)\n",
    "    b2.grid(row=1, column=1)\n",
    "    b3 = tk.Button(text='3', width=7, height=8)\n",
    "    b3.grid(row=1, column=2)\n",
    "    b4 = tk.Button(text='4', width=7, height=8)\n",
    "    b4.grid(row=1, column=3)\n",
    "    win.mainloop()\n",
    "    \n",
    "main()"
   ]
  },
  {
   "cell_type": "code",
   "execution_count": 31,
   "metadata": {},
   "outputs": [
    {
     "name": "stdout",
     "output_type": "stream",
     "text": [
      "1\n",
      "2\n",
      "3\n",
      "4\n",
      "1\n",
      "2\n",
      "3\n",
      "4\n",
      "3\n",
      "2\n",
      "3\n",
      "4\n"
     ]
    }
   ],
   "source": [
    "def f1(val):\n",
    "    print(val)\n",
    "    \n",
    "def main():\n",
    "    win = tk.Tk()\n",
    "    win.title('window title')\n",
    "    win.geometry('300x200+300+100')\n",
    "    win.resizable(False, False)\n",
    "    label = tk.Label(win, text='calc', height=4)\n",
    "    label.grid(row=0, column=0)\n",
    "    b1 = tk.Button(text='1', width=7, height=4, command=lambda:f1('1'))\n",
    "    b1.grid(row=1, column=0)\n",
    "    b2 = tk.Button(text='2', width=7, height=4, command=lambda:f1('2'))\n",
    "    b2.grid(row=1, column=1)\n",
    "    b3 = tk.Button(text='3', width=7, height=4, command=lambda:f1('3'))\n",
    "    b3.grid(row=1, column=2)\n",
    "    b4 = tk.Button(text='4', width=7, height=4, command=lambda:f1('4'))\n",
    "    b4.grid(row=1, column=3)\n",
    "    win.mainloop()\n",
    "    \n",
    "main()"
   ]
  },
  {
   "cell_type": "code",
   "execution_count": 44,
   "metadata": {},
   "outputs": [
    {
     "name": "stdout",
     "output_type": "stream",
     "text": [
      "\n",
      "1\n"
     ]
    }
   ],
   "source": [
    "def f1(val):\n",
    "    s = label.cget('text')\n",
    "    print(s)\n",
    "    s += val\n",
    "    label.config(text=s)\n",
    "\n",
    "win = tk.Tk()\n",
    "win.title('window title')\n",
    "win.geometry('300x200+300+100')\n",
    "win.resizable(False, False)\n",
    "label = tk.Label(win, height=4)\n",
    "\n",
    "label.grid(row=0, column=0)\n",
    "b1 = tk.Button(text='1', width=7, height=4, command=lambda:f1('1'))\n",
    "b1.grid(row=1, column=0)\n",
    "b2 = tk.Button(text='2', width=7, height=4, command=lambda:f1('2'))\n",
    "b2.grid(row=1, column=1)\n",
    "b3 = tk.Button(text='3', width=7, height=4, command=lambda:f1('3'))\n",
    "b3.grid(row=1, column=2)\n",
    "b4 = tk.Button(text='4', width=7, height=4, command=lambda:f1('4'))\n",
    "b4.grid(row=1, column=3)\n",
    "\n",
    "win.mainloop()"
   ]
  },
  {
   "cell_type": "code",
   "execution_count": 43,
   "metadata": {},
   "outputs": [
    {
     "name": "stdout",
     "output_type": "stream",
     "text": [
      "\n",
      "/\n",
      "//\n",
      "///\n"
     ]
    }
   ],
   "source": [
    "import tkinter as tk\n",
    "def f1(val):\n",
    "    s = label.cget('text')\n",
    "    s += val\n",
    "    label.config(text=s)#config():위젯 속성의 값을 읽거나 설정\n",
    "\n",
    "def calc():\n",
    "    s = label.cget('text') #s:'5-1+6*2'\n",
    "    print(s)\n",
    "    res = eval(s)\n",
    "    label.config(text=str(res))\n",
    "    \n",
    "def clear():\n",
    "    label.config(text='')\n",
    "    \n",
    "win = tk.Tk()\n",
    "win.title('window title')\n",
    "win.geometry('300x400+100+100')\n",
    "win.resizable(False, False)\n",
    "label = tk.Label(win, height=4)\n",
    "label.grid(row=0, column=0)\n",
    "\n",
    "nums = [['1', '2', '3','+'],['4','5','6','-'],['7','8','9','*'],['0','C','=','/']]\n",
    "\n",
    "for i in range(0, 4):\n",
    "    for j in range(0, 4):\n",
    "        num = nums[i][j]\n",
    "        if num=='C':\n",
    "            b = tk.Button(text=num, width=7, height=4, command=clear)\n",
    "        elif num=='=':\n",
    "            b = tk.Button(text=num, width=7, height=4, command=calc)\n",
    "        else:\n",
    "            b = tk.Button(text=num, width=7, height=4, command=lambda val=num : f1(val))\n",
    "        b.grid(row=(i+1), column=j)\n",
    "    \n",
    "win.mainloop()"
   ]
  }
 ],
 "metadata": {
  "kernelspec": {
   "display_name": "Python 3",
   "language": "python",
   "name": "python3"
  },
  "language_info": {
   "codemirror_mode": {
    "name": "ipython",
    "version": 3
   },
   "file_extension": ".py",
   "mimetype": "text/x-python",
   "name": "python",
   "nbconvert_exporter": "python",
   "pygments_lexer": "ipython3",
   "version": "3.7.6"
  }
 },
 "nbformat": 4,
 "nbformat_minor": 4
}
