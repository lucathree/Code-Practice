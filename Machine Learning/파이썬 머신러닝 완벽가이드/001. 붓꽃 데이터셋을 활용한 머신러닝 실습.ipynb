{
 "cells": [
  {
   "cell_type": "markdown",
   "id": "7548ef4a",
   "metadata": {},
   "source": [
    "### 라이브러리 호출"
   ]
  },
  {
   "cell_type": "code",
   "execution_count": 1,
   "id": "83979918",
   "metadata": {},
   "outputs": [],
   "source": [
    "import numpy as np\n",
    "import pandas as pd\n",
    "import matplotlib.pyplot as plt\n",
    "from sklearn.datasets import load_iris"
   ]
  },
  {
   "cell_type": "markdown",
   "id": "9e0e059a",
   "metadata": {},
   "source": [
    "# 머신러닝 프로세스\n",
    "## 1. 데이터 확인/전처리"
   ]
  },
  {
   "cell_type": "markdown",
   "id": "310257a7",
   "metadata": {},
   "source": [
    "### - 붓꽃 데이터 불러오기"
   ]
  },
  {
   "cell_type": "code",
   "execution_count": 2,
   "id": "71d96be0",
   "metadata": {},
   "outputs": [
    {
     "name": "stdout",
     "output_type": "stream",
     "text": [
      "<class 'sklearn.utils.Bunch'>\n"
     ]
    },
    {
     "data": {
      "text/plain": [
       "{'data': array([[5.1, 3.5, 1.4, 0.2],\n",
       "        [4.9, 3. , 1.4, 0.2],\n",
       "        [4.7, 3.2, 1.3, 0.2],\n",
       "        [4.6, 3.1, 1.5, 0.2],\n",
       "        [5. , 3.6, 1.4, 0.2],\n",
       "        [5.4, 3.9, 1.7, 0.4],\n",
       "        [4.6, 3.4, 1.4, 0.3],\n",
       "        [5. , 3.4, 1.5, 0.2],\n",
       "        [4.4, 2.9, 1.4, 0.2],\n",
       "        [4.9, 3.1, 1.5, 0.1],\n",
       "        [5.4, 3.7, 1.5, 0.2],\n",
       "        [4.8, 3.4, 1.6, 0.2],\n",
       "        [4.8, 3. , 1.4, 0.1],\n",
       "        [4.3, 3. , 1.1, 0.1],\n",
       "        [5.8, 4. , 1.2, 0.2],\n",
       "        [5.7, 4.4, 1.5, 0.4],\n",
       "        [5.4, 3.9, 1.3, 0.4],\n",
       "        [5.1, 3.5, 1.4, 0.3],\n",
       "        [5.7, 3.8, 1.7, 0.3],\n",
       "        [5.1, 3.8, 1.5, 0.3],\n",
       "        [5.4, 3.4, 1.7, 0.2],\n",
       "        [5.1, 3.7, 1.5, 0.4],\n",
       "        [4.6, 3.6, 1. , 0.2],\n",
       "        [5.1, 3.3, 1.7, 0.5],\n",
       "        [4.8, 3.4, 1.9, 0.2],\n",
       "        [5. , 3. , 1.6, 0.2],\n",
       "        [5. , 3.4, 1.6, 0.4],\n",
       "        [5.2, 3.5, 1.5, 0.2],\n",
       "        [5.2, 3.4, 1.4, 0.2],\n",
       "        [4.7, 3.2, 1.6, 0.2],\n",
       "        [4.8, 3.1, 1.6, 0.2],\n",
       "        [5.4, 3.4, 1.5, 0.4],\n",
       "        [5.2, 4.1, 1.5, 0.1],\n",
       "        [5.5, 4.2, 1.4, 0.2],\n",
       "        [4.9, 3.1, 1.5, 0.2],\n",
       "        [5. , 3.2, 1.2, 0.2],\n",
       "        [5.5, 3.5, 1.3, 0.2],\n",
       "        [4.9, 3.6, 1.4, 0.1],\n",
       "        [4.4, 3. , 1.3, 0.2],\n",
       "        [5.1, 3.4, 1.5, 0.2],\n",
       "        [5. , 3.5, 1.3, 0.3],\n",
       "        [4.5, 2.3, 1.3, 0.3],\n",
       "        [4.4, 3.2, 1.3, 0.2],\n",
       "        [5. , 3.5, 1.6, 0.6],\n",
       "        [5.1, 3.8, 1.9, 0.4],\n",
       "        [4.8, 3. , 1.4, 0.3],\n",
       "        [5.1, 3.8, 1.6, 0.2],\n",
       "        [4.6, 3.2, 1.4, 0.2],\n",
       "        [5.3, 3.7, 1.5, 0.2],\n",
       "        [5. , 3.3, 1.4, 0.2],\n",
       "        [7. , 3.2, 4.7, 1.4],\n",
       "        [6.4, 3.2, 4.5, 1.5],\n",
       "        [6.9, 3.1, 4.9, 1.5],\n",
       "        [5.5, 2.3, 4. , 1.3],\n",
       "        [6.5, 2.8, 4.6, 1.5],\n",
       "        [5.7, 2.8, 4.5, 1.3],\n",
       "        [6.3, 3.3, 4.7, 1.6],\n",
       "        [4.9, 2.4, 3.3, 1. ],\n",
       "        [6.6, 2.9, 4.6, 1.3],\n",
       "        [5.2, 2.7, 3.9, 1.4],\n",
       "        [5. , 2. , 3.5, 1. ],\n",
       "        [5.9, 3. , 4.2, 1.5],\n",
       "        [6. , 2.2, 4. , 1. ],\n",
       "        [6.1, 2.9, 4.7, 1.4],\n",
       "        [5.6, 2.9, 3.6, 1.3],\n",
       "        [6.7, 3.1, 4.4, 1.4],\n",
       "        [5.6, 3. , 4.5, 1.5],\n",
       "        [5.8, 2.7, 4.1, 1. ],\n",
       "        [6.2, 2.2, 4.5, 1.5],\n",
       "        [5.6, 2.5, 3.9, 1.1],\n",
       "        [5.9, 3.2, 4.8, 1.8],\n",
       "        [6.1, 2.8, 4. , 1.3],\n",
       "        [6.3, 2.5, 4.9, 1.5],\n",
       "        [6.1, 2.8, 4.7, 1.2],\n",
       "        [6.4, 2.9, 4.3, 1.3],\n",
       "        [6.6, 3. , 4.4, 1.4],\n",
       "        [6.8, 2.8, 4.8, 1.4],\n",
       "        [6.7, 3. , 5. , 1.7],\n",
       "        [6. , 2.9, 4.5, 1.5],\n",
       "        [5.7, 2.6, 3.5, 1. ],\n",
       "        [5.5, 2.4, 3.8, 1.1],\n",
       "        [5.5, 2.4, 3.7, 1. ],\n",
       "        [5.8, 2.7, 3.9, 1.2],\n",
       "        [6. , 2.7, 5.1, 1.6],\n",
       "        [5.4, 3. , 4.5, 1.5],\n",
       "        [6. , 3.4, 4.5, 1.6],\n",
       "        [6.7, 3.1, 4.7, 1.5],\n",
       "        [6.3, 2.3, 4.4, 1.3],\n",
       "        [5.6, 3. , 4.1, 1.3],\n",
       "        [5.5, 2.5, 4. , 1.3],\n",
       "        [5.5, 2.6, 4.4, 1.2],\n",
       "        [6.1, 3. , 4.6, 1.4],\n",
       "        [5.8, 2.6, 4. , 1.2],\n",
       "        [5. , 2.3, 3.3, 1. ],\n",
       "        [5.6, 2.7, 4.2, 1.3],\n",
       "        [5.7, 3. , 4.2, 1.2],\n",
       "        [5.7, 2.9, 4.2, 1.3],\n",
       "        [6.2, 2.9, 4.3, 1.3],\n",
       "        [5.1, 2.5, 3. , 1.1],\n",
       "        [5.7, 2.8, 4.1, 1.3],\n",
       "        [6.3, 3.3, 6. , 2.5],\n",
       "        [5.8, 2.7, 5.1, 1.9],\n",
       "        [7.1, 3. , 5.9, 2.1],\n",
       "        [6.3, 2.9, 5.6, 1.8],\n",
       "        [6.5, 3. , 5.8, 2.2],\n",
       "        [7.6, 3. , 6.6, 2.1],\n",
       "        [4.9, 2.5, 4.5, 1.7],\n",
       "        [7.3, 2.9, 6.3, 1.8],\n",
       "        [6.7, 2.5, 5.8, 1.8],\n",
       "        [7.2, 3.6, 6.1, 2.5],\n",
       "        [6.5, 3.2, 5.1, 2. ],\n",
       "        [6.4, 2.7, 5.3, 1.9],\n",
       "        [6.8, 3. , 5.5, 2.1],\n",
       "        [5.7, 2.5, 5. , 2. ],\n",
       "        [5.8, 2.8, 5.1, 2.4],\n",
       "        [6.4, 3.2, 5.3, 2.3],\n",
       "        [6.5, 3. , 5.5, 1.8],\n",
       "        [7.7, 3.8, 6.7, 2.2],\n",
       "        [7.7, 2.6, 6.9, 2.3],\n",
       "        [6. , 2.2, 5. , 1.5],\n",
       "        [6.9, 3.2, 5.7, 2.3],\n",
       "        [5.6, 2.8, 4.9, 2. ],\n",
       "        [7.7, 2.8, 6.7, 2. ],\n",
       "        [6.3, 2.7, 4.9, 1.8],\n",
       "        [6.7, 3.3, 5.7, 2.1],\n",
       "        [7.2, 3.2, 6. , 1.8],\n",
       "        [6.2, 2.8, 4.8, 1.8],\n",
       "        [6.1, 3. , 4.9, 1.8],\n",
       "        [6.4, 2.8, 5.6, 2.1],\n",
       "        [7.2, 3. , 5.8, 1.6],\n",
       "        [7.4, 2.8, 6.1, 1.9],\n",
       "        [7.9, 3.8, 6.4, 2. ],\n",
       "        [6.4, 2.8, 5.6, 2.2],\n",
       "        [6.3, 2.8, 5.1, 1.5],\n",
       "        [6.1, 2.6, 5.6, 1.4],\n",
       "        [7.7, 3. , 6.1, 2.3],\n",
       "        [6.3, 3.4, 5.6, 2.4],\n",
       "        [6.4, 3.1, 5.5, 1.8],\n",
       "        [6. , 3. , 4.8, 1.8],\n",
       "        [6.9, 3.1, 5.4, 2.1],\n",
       "        [6.7, 3.1, 5.6, 2.4],\n",
       "        [6.9, 3.1, 5.1, 2.3],\n",
       "        [5.8, 2.7, 5.1, 1.9],\n",
       "        [6.8, 3.2, 5.9, 2.3],\n",
       "        [6.7, 3.3, 5.7, 2.5],\n",
       "        [6.7, 3. , 5.2, 2.3],\n",
       "        [6.3, 2.5, 5. , 1.9],\n",
       "        [6.5, 3. , 5.2, 2. ],\n",
       "        [6.2, 3.4, 5.4, 2.3],\n",
       "        [5.9, 3. , 5.1, 1.8]]),\n",
       " 'target': array([0, 0, 0, 0, 0, 0, 0, 0, 0, 0, 0, 0, 0, 0, 0, 0, 0, 0, 0, 0, 0, 0,\n",
       "        0, 0, 0, 0, 0, 0, 0, 0, 0, 0, 0, 0, 0, 0, 0, 0, 0, 0, 0, 0, 0, 0,\n",
       "        0, 0, 0, 0, 0, 0, 1, 1, 1, 1, 1, 1, 1, 1, 1, 1, 1, 1, 1, 1, 1, 1,\n",
       "        1, 1, 1, 1, 1, 1, 1, 1, 1, 1, 1, 1, 1, 1, 1, 1, 1, 1, 1, 1, 1, 1,\n",
       "        1, 1, 1, 1, 1, 1, 1, 1, 1, 1, 1, 1, 2, 2, 2, 2, 2, 2, 2, 2, 2, 2,\n",
       "        2, 2, 2, 2, 2, 2, 2, 2, 2, 2, 2, 2, 2, 2, 2, 2, 2, 2, 2, 2, 2, 2,\n",
       "        2, 2, 2, 2, 2, 2, 2, 2, 2, 2, 2, 2, 2, 2, 2, 2, 2, 2]),\n",
       " 'frame': None,\n",
       " 'target_names': array(['setosa', 'versicolor', 'virginica'], dtype='<U10'),\n",
       " 'DESCR': '.. _iris_dataset:\\n\\nIris plants dataset\\n--------------------\\n\\n**Data Set Characteristics:**\\n\\n    :Number of Instances: 150 (50 in each of three classes)\\n    :Number of Attributes: 4 numeric, predictive attributes and the class\\n    :Attribute Information:\\n        - sepal length in cm\\n        - sepal width in cm\\n        - petal length in cm\\n        - petal width in cm\\n        - class:\\n                - Iris-Setosa\\n                - Iris-Versicolour\\n                - Iris-Virginica\\n                \\n    :Summary Statistics:\\n\\n    ============== ==== ==== ======= ===== ====================\\n                    Min  Max   Mean    SD   Class Correlation\\n    ============== ==== ==== ======= ===== ====================\\n    sepal length:   4.3  7.9   5.84   0.83    0.7826\\n    sepal width:    2.0  4.4   3.05   0.43   -0.4194\\n    petal length:   1.0  6.9   3.76   1.76    0.9490  (high!)\\n    petal width:    0.1  2.5   1.20   0.76    0.9565  (high!)\\n    ============== ==== ==== ======= ===== ====================\\n\\n    :Missing Attribute Values: None\\n    :Class Distribution: 33.3% for each of 3 classes.\\n    :Creator: R.A. Fisher\\n    :Donor: Michael Marshall (MARSHALL%PLU@io.arc.nasa.gov)\\n    :Date: July, 1988\\n\\nThe famous Iris database, first used by Sir R.A. Fisher. The dataset is taken\\nfrom Fisher\\'s paper. Note that it\\'s the same as in R, but not as in the UCI\\nMachine Learning Repository, which has two wrong data points.\\n\\nThis is perhaps the best known database to be found in the\\npattern recognition literature.  Fisher\\'s paper is a classic in the field and\\nis referenced frequently to this day.  (See Duda & Hart, for example.)  The\\ndata set contains 3 classes of 50 instances each, where each class refers to a\\ntype of iris plant.  One class is linearly separable from the other 2; the\\nlatter are NOT linearly separable from each other.\\n\\n.. topic:: References\\n\\n   - Fisher, R.A. \"The use of multiple measurements in taxonomic problems\"\\n     Annual Eugenics, 7, Part II, 179-188 (1936); also in \"Contributions to\\n     Mathematical Statistics\" (John Wiley, NY, 1950).\\n   - Duda, R.O., & Hart, P.E. (1973) Pattern Classification and Scene Analysis.\\n     (Q327.D83) John Wiley & Sons.  ISBN 0-471-22361-1.  See page 218.\\n   - Dasarathy, B.V. (1980) \"Nosing Around the Neighborhood: A New System\\n     Structure and Classification Rule for Recognition in Partially Exposed\\n     Environments\".  IEEE Transactions on Pattern Analysis and Machine\\n     Intelligence, Vol. PAMI-2, No. 1, 67-71.\\n   - Gates, G.W. (1972) \"The Reduced Nearest Neighbor Rule\".  IEEE Transactions\\n     on Information Theory, May 1972, 431-433.\\n   - See also: 1988 MLC Proceedings, 54-64.  Cheeseman et al\"s AUTOCLASS II\\n     conceptual clustering system finds 3 classes in the data.\\n   - Many, many more ...',\n",
       " 'feature_names': ['sepal length (cm)',\n",
       "  'sepal width (cm)',\n",
       "  'petal length (cm)',\n",
       "  'petal width (cm)'],\n",
       " 'filename': 'iris.csv',\n",
       " 'data_module': 'sklearn.datasets.data'}"
      ]
     },
     "execution_count": 2,
     "metadata": {},
     "output_type": "execute_result"
    }
   ],
   "source": [
    "iris = load_iris()\n",
    "print(type(iris))\n",
    "iris"
   ]
  },
  {
   "cell_type": "markdown",
   "id": "f5c432c0",
   "metadata": {},
   "source": [
    "### - 데이터 확인"
   ]
  },
  {
   "cell_type": "code",
   "execution_count": 3,
   "id": "731c110a",
   "metadata": {},
   "outputs": [
    {
     "data": {
      "text/plain": [
       "dict_keys(['data', 'target', 'frame', 'target_names', 'DESCR', 'feature_names', 'filename', 'data_module'])"
      ]
     },
     "execution_count": 3,
     "metadata": {},
     "output_type": "execute_result"
    }
   ],
   "source": [
    "iris.keys()"
   ]
  },
  {
   "cell_type": "code",
   "execution_count": 4,
   "id": "0c93b4af",
   "metadata": {},
   "outputs": [
    {
     "name": "stdout",
     "output_type": "stream",
     "text": [
      "(150, 4)\n"
     ]
    },
    {
     "data": {
      "text/plain": [
       "array([[5.1, 3.5, 1.4, 0.2],\n",
       "       [4.9, 3. , 1.4, 0.2],\n",
       "       [4.7, 3.2, 1.3, 0.2],\n",
       "       [4.6, 3.1, 1.5, 0.2],\n",
       "       [5. , 3.6, 1.4, 0.2]])"
      ]
     },
     "execution_count": 4,
     "metadata": {},
     "output_type": "execute_result"
    }
   ],
   "source": [
    "print(iris.data.shape)\n",
    "iris.data[:5]"
   ]
  },
  {
   "cell_type": "code",
   "execution_count": 5,
   "id": "812560ea",
   "metadata": {},
   "outputs": [
    {
     "data": {
      "text/plain": [
       "array([0, 0, 0, 0, 0, 0, 0, 0, 0, 0, 0, 0, 0, 0, 0, 0, 0, 0, 0, 0, 0, 0,\n",
       "       0, 0, 0, 0, 0, 0, 0, 0, 0, 0, 0, 0, 0, 0, 0, 0, 0, 0, 0, 0, 0, 0,\n",
       "       0, 0, 0, 0, 0, 0, 1, 1, 1, 1, 1, 1, 1, 1, 1, 1, 1, 1, 1, 1, 1, 1,\n",
       "       1, 1, 1, 1, 1, 1, 1, 1, 1, 1, 1, 1, 1, 1, 1, 1, 1, 1, 1, 1, 1, 1,\n",
       "       1, 1, 1, 1, 1, 1, 1, 1, 1, 1, 1, 1, 2, 2, 2, 2, 2, 2, 2, 2, 2, 2,\n",
       "       2, 2, 2, 2, 2, 2, 2, 2, 2, 2, 2, 2, 2, 2, 2, 2, 2, 2, 2, 2, 2, 2,\n",
       "       2, 2, 2, 2, 2, 2, 2, 2, 2, 2, 2, 2, 2, 2, 2, 2, 2, 2])"
      ]
     },
     "execution_count": 5,
     "metadata": {},
     "output_type": "execute_result"
    }
   ],
   "source": [
    "iris.target"
   ]
  },
  {
   "cell_type": "code",
   "execution_count": 6,
   "id": "3080a79b",
   "metadata": {},
   "outputs": [
    {
     "data": {
      "text/plain": [
       "array(['setosa', 'versicolor', 'virginica'], dtype='<U10')"
      ]
     },
     "execution_count": 6,
     "metadata": {},
     "output_type": "execute_result"
    }
   ],
   "source": [
    "iris.target_names"
   ]
  },
  {
   "cell_type": "code",
   "execution_count": 7,
   "id": "943b0617",
   "metadata": {},
   "outputs": [
    {
     "data": {
      "text/plain": [
       "['sepal length (cm)',\n",
       " 'sepal width (cm)',\n",
       " 'petal length (cm)',\n",
       " 'petal width (cm)']"
      ]
     },
     "execution_count": 7,
     "metadata": {},
     "output_type": "execute_result"
    }
   ],
   "source": [
    "iris.feature_names"
   ]
  },
  {
   "cell_type": "markdown",
   "id": "fbc90f14",
   "metadata": {},
   "source": [
    "**데이터 프레임으로 변환**"
   ]
  },
  {
   "cell_type": "code",
   "execution_count": 8,
   "id": "892007a1",
   "metadata": {},
   "outputs": [
    {
     "data": {
      "text/html": [
       "<div>\n",
       "<style scoped>\n",
       "    .dataframe tbody tr th:only-of-type {\n",
       "        vertical-align: middle;\n",
       "    }\n",
       "\n",
       "    .dataframe tbody tr th {\n",
       "        vertical-align: top;\n",
       "    }\n",
       "\n",
       "    .dataframe thead th {\n",
       "        text-align: right;\n",
       "    }\n",
       "</style>\n",
       "<table border=\"1\" class=\"dataframe\">\n",
       "  <thead>\n",
       "    <tr style=\"text-align: right;\">\n",
       "      <th></th>\n",
       "      <th>sepal length (cm)</th>\n",
       "      <th>sepal width (cm)</th>\n",
       "      <th>petal length (cm)</th>\n",
       "      <th>petal width (cm)</th>\n",
       "    </tr>\n",
       "  </thead>\n",
       "  <tbody>\n",
       "    <tr>\n",
       "      <th>0</th>\n",
       "      <td>5.1</td>\n",
       "      <td>3.5</td>\n",
       "      <td>1.4</td>\n",
       "      <td>0.2</td>\n",
       "    </tr>\n",
       "    <tr>\n",
       "      <th>1</th>\n",
       "      <td>4.9</td>\n",
       "      <td>3.0</td>\n",
       "      <td>1.4</td>\n",
       "      <td>0.2</td>\n",
       "    </tr>\n",
       "    <tr>\n",
       "      <th>2</th>\n",
       "      <td>4.7</td>\n",
       "      <td>3.2</td>\n",
       "      <td>1.3</td>\n",
       "      <td>0.2</td>\n",
       "    </tr>\n",
       "    <tr>\n",
       "      <th>3</th>\n",
       "      <td>4.6</td>\n",
       "      <td>3.1</td>\n",
       "      <td>1.5</td>\n",
       "      <td>0.2</td>\n",
       "    </tr>\n",
       "    <tr>\n",
       "      <th>4</th>\n",
       "      <td>5.0</td>\n",
       "      <td>3.6</td>\n",
       "      <td>1.4</td>\n",
       "      <td>0.2</td>\n",
       "    </tr>\n",
       "    <tr>\n",
       "      <th>...</th>\n",
       "      <td>...</td>\n",
       "      <td>...</td>\n",
       "      <td>...</td>\n",
       "      <td>...</td>\n",
       "    </tr>\n",
       "    <tr>\n",
       "      <th>145</th>\n",
       "      <td>6.7</td>\n",
       "      <td>3.0</td>\n",
       "      <td>5.2</td>\n",
       "      <td>2.3</td>\n",
       "    </tr>\n",
       "    <tr>\n",
       "      <th>146</th>\n",
       "      <td>6.3</td>\n",
       "      <td>2.5</td>\n",
       "      <td>5.0</td>\n",
       "      <td>1.9</td>\n",
       "    </tr>\n",
       "    <tr>\n",
       "      <th>147</th>\n",
       "      <td>6.5</td>\n",
       "      <td>3.0</td>\n",
       "      <td>5.2</td>\n",
       "      <td>2.0</td>\n",
       "    </tr>\n",
       "    <tr>\n",
       "      <th>148</th>\n",
       "      <td>6.2</td>\n",
       "      <td>3.4</td>\n",
       "      <td>5.4</td>\n",
       "      <td>2.3</td>\n",
       "    </tr>\n",
       "    <tr>\n",
       "      <th>149</th>\n",
       "      <td>5.9</td>\n",
       "      <td>3.0</td>\n",
       "      <td>5.1</td>\n",
       "      <td>1.8</td>\n",
       "    </tr>\n",
       "  </tbody>\n",
       "</table>\n",
       "<p>150 rows × 4 columns</p>\n",
       "</div>"
      ],
      "text/plain": [
       "     sepal length (cm)  sepal width (cm)  petal length (cm)  petal width (cm)\n",
       "0                  5.1               3.5                1.4               0.2\n",
       "1                  4.9               3.0                1.4               0.2\n",
       "2                  4.7               3.2                1.3               0.2\n",
       "3                  4.6               3.1                1.5               0.2\n",
       "4                  5.0               3.6                1.4               0.2\n",
       "..                 ...               ...                ...               ...\n",
       "145                6.7               3.0                5.2               2.3\n",
       "146                6.3               2.5                5.0               1.9\n",
       "147                6.5               3.0                5.2               2.0\n",
       "148                6.2               3.4                5.4               2.3\n",
       "149                5.9               3.0                5.1               1.8\n",
       "\n",
       "[150 rows x 4 columns]"
      ]
     },
     "execution_count": 8,
     "metadata": {},
     "output_type": "execute_result"
    }
   ],
   "source": [
    "df = pd.DataFrame(data=iris.data, columns=iris.feature_names)\n",
    "df"
   ]
  },
  {
   "cell_type": "code",
   "execution_count": 9,
   "id": "9cb6ea3a",
   "metadata": {},
   "outputs": [
    {
     "data": {
      "text/html": [
       "<div>\n",
       "<style scoped>\n",
       "    .dataframe tbody tr th:only-of-type {\n",
       "        vertical-align: middle;\n",
       "    }\n",
       "\n",
       "    .dataframe tbody tr th {\n",
       "        vertical-align: top;\n",
       "    }\n",
       "\n",
       "    .dataframe thead th {\n",
       "        text-align: right;\n",
       "    }\n",
       "</style>\n",
       "<table border=\"1\" class=\"dataframe\">\n",
       "  <thead>\n",
       "    <tr style=\"text-align: right;\">\n",
       "      <th></th>\n",
       "      <th>sepal length (cm)</th>\n",
       "      <th>sepal width (cm)</th>\n",
       "      <th>petal length (cm)</th>\n",
       "      <th>petal width (cm)</th>\n",
       "      <th>label</th>\n",
       "    </tr>\n",
       "  </thead>\n",
       "  <tbody>\n",
       "    <tr>\n",
       "      <th>0</th>\n",
       "      <td>5.1</td>\n",
       "      <td>3.5</td>\n",
       "      <td>1.4</td>\n",
       "      <td>0.2</td>\n",
       "      <td>0</td>\n",
       "    </tr>\n",
       "    <tr>\n",
       "      <th>1</th>\n",
       "      <td>4.9</td>\n",
       "      <td>3.0</td>\n",
       "      <td>1.4</td>\n",
       "      <td>0.2</td>\n",
       "      <td>0</td>\n",
       "    </tr>\n",
       "    <tr>\n",
       "      <th>2</th>\n",
       "      <td>4.7</td>\n",
       "      <td>3.2</td>\n",
       "      <td>1.3</td>\n",
       "      <td>0.2</td>\n",
       "      <td>0</td>\n",
       "    </tr>\n",
       "    <tr>\n",
       "      <th>3</th>\n",
       "      <td>4.6</td>\n",
       "      <td>3.1</td>\n",
       "      <td>1.5</td>\n",
       "      <td>0.2</td>\n",
       "      <td>0</td>\n",
       "    </tr>\n",
       "    <tr>\n",
       "      <th>4</th>\n",
       "      <td>5.0</td>\n",
       "      <td>3.6</td>\n",
       "      <td>1.4</td>\n",
       "      <td>0.2</td>\n",
       "      <td>0</td>\n",
       "    </tr>\n",
       "  </tbody>\n",
       "</table>\n",
       "</div>"
      ],
      "text/plain": [
       "   sepal length (cm)  sepal width (cm)  petal length (cm)  petal width (cm)  \\\n",
       "0                5.1               3.5                1.4               0.2   \n",
       "1                4.9               3.0                1.4               0.2   \n",
       "2                4.7               3.2                1.3               0.2   \n",
       "3                4.6               3.1                1.5               0.2   \n",
       "4                5.0               3.6                1.4               0.2   \n",
       "\n",
       "   label  \n",
       "0      0  \n",
       "1      0  \n",
       "2      0  \n",
       "3      0  \n",
       "4      0  "
      ]
     },
     "execution_count": 9,
     "metadata": {},
     "output_type": "execute_result"
    }
   ],
   "source": [
    "df['label'] = iris.target\n",
    "df.head()"
   ]
  },
  {
   "cell_type": "markdown",
   "id": "08611403",
   "metadata": {},
   "source": [
    "### - 학습 데이터, 테스트 데이터 분리"
   ]
  },
  {
   "cell_type": "code",
   "execution_count": 10,
   "id": "ddcf8dfd",
   "metadata": {},
   "outputs": [],
   "source": [
    "from sklearn.model_selection import train_test_split"
   ]
  },
  {
   "cell_type": "code",
   "execution_count": 11,
   "id": "0cd13ade",
   "metadata": {},
   "outputs": [],
   "source": [
    "x_train, x_test, y_train, y_test = train_test_split(iris.data, iris.target, test_size=0.4)"
   ]
  },
  {
   "cell_type": "code",
   "execution_count": 12,
   "id": "77402058",
   "metadata": {},
   "outputs": [
    {
     "data": {
      "text/plain": [
       "(90, 4)"
      ]
     },
     "execution_count": 12,
     "metadata": {},
     "output_type": "execute_result"
    }
   ],
   "source": [
    "x_train.shape"
   ]
  },
  {
   "cell_type": "code",
   "execution_count": 13,
   "id": "700911bd",
   "metadata": {},
   "outputs": [
    {
     "data": {
      "text/plain": [
       "(60, 4)"
      ]
     },
     "execution_count": 13,
     "metadata": {},
     "output_type": "execute_result"
    }
   ],
   "source": [
    "x_test.shape"
   ]
  },
  {
   "cell_type": "markdown",
   "id": "5424b1be",
   "metadata": {},
   "source": [
    "## 2. 모델 학습"
   ]
  },
  {
   "cell_type": "markdown",
   "id": "458e6dd6",
   "metadata": {},
   "source": [
    "**scikit-learn 모듈 호출**"
   ]
  },
  {
   "cell_type": "code",
   "execution_count": 14,
   "id": "e559eba5",
   "metadata": {},
   "outputs": [],
   "source": [
    "from sklearn.tree import DecisionTreeClassifier\n",
    "from sklearn.ensemble import RandomForestClassifier\n",
    "from sklearn.linear_model import LogisticRegression"
   ]
  },
  {
   "cell_type": "code",
   "execution_count": 15,
   "id": "fc068add",
   "metadata": {},
   "outputs": [],
   "source": [
    "dt_clf = DecisionTreeClassifier()\n",
    "rf_clf = RandomForestClassifier()\n",
    "lr_clf = LogisticRegression()"
   ]
  },
  {
   "cell_type": "markdown",
   "id": "b4325e24",
   "metadata": {},
   "source": [
    "**학습**"
   ]
  },
  {
   "cell_type": "code",
   "execution_count": 16,
   "id": "677b37b2",
   "metadata": {},
   "outputs": [
    {
     "data": {
      "text/plain": [
       "LogisticRegression()"
      ]
     },
     "execution_count": 16,
     "metadata": {},
     "output_type": "execute_result"
    }
   ],
   "source": [
    "dt_clf.fit(x_train, y_train)\n",
    "rf_clf.fit(x_train, y_train)\n",
    "lr_clf.fit(x_train, y_train)"
   ]
  },
  {
   "cell_type": "markdown",
   "id": "3197e1ab",
   "metadata": {},
   "source": [
    "## 3.예측 수행"
   ]
  },
  {
   "cell_type": "code",
   "execution_count": 17,
   "id": "838acc7e",
   "metadata": {},
   "outputs": [],
   "source": [
    "dt_pred = dt_clf.predict(x_test)\n",
    "rf_pred = rf_clf.predict(x_test)\n",
    "lf_pred = lr_clf.predict(x_test)"
   ]
  },
  {
   "cell_type": "code",
   "execution_count": 18,
   "id": "81c270b9",
   "metadata": {},
   "outputs": [
    {
     "data": {
      "text/plain": [
       "array([0, 1, 0, 2, 0, 0, 0, 0, 0, 0, 1, 1, 1, 1, 2, 2, 2, 0, 2, 0, 1, 0,\n",
       "       2, 2, 1, 0, 0, 0, 1, 1, 0, 1, 1, 1, 0, 1, 1, 1, 2, 0, 0, 1, 0, 0,\n",
       "       0, 2, 1, 0, 1, 1, 2, 0, 1, 2, 0, 0, 2, 2, 1, 2])"
      ]
     },
     "execution_count": 18,
     "metadata": {},
     "output_type": "execute_result"
    }
   ],
   "source": [
    "dt_pred"
   ]
  },
  {
   "cell_type": "code",
   "execution_count": 19,
   "id": "a70e6d03",
   "metadata": {},
   "outputs": [
    {
     "data": {
      "text/plain": [
       "array([0, 1, 0, 2, 0, 0, 0, 0, 0, 0, 1, 1, 1, 1, 2, 2, 2, 0, 2, 0, 1, 0,\n",
       "       2, 2, 1, 0, 0, 0, 1, 1, 0, 1, 1, 1, 0, 1, 1, 1, 2, 0, 0, 1, 0, 0,\n",
       "       0, 2, 1, 0, 1, 1, 2, 0, 1, 1, 0, 0, 2, 2, 1, 2])"
      ]
     },
     "execution_count": 19,
     "metadata": {},
     "output_type": "execute_result"
    }
   ],
   "source": [
    "rf_pred"
   ]
  },
  {
   "cell_type": "code",
   "execution_count": 20,
   "id": "f80ccadd",
   "metadata": {},
   "outputs": [
    {
     "data": {
      "text/plain": [
       "array([0, 1, 0, 2, 0, 0, 0, 0, 0, 0, 1, 1, 1, 1, 2, 2, 2, 0, 2, 0, 1, 0,\n",
       "       2, 2, 1, 0, 0, 0, 1, 1, 0, 1, 1, 1, 0, 1, 2, 1, 2, 0, 0, 1, 0, 0,\n",
       "       0, 2, 1, 0, 1, 1, 2, 0, 1, 1, 0, 0, 2, 2, 1, 2])"
      ]
     },
     "execution_count": 20,
     "metadata": {},
     "output_type": "execute_result"
    }
   ],
   "source": [
    "lf_pred"
   ]
  },
  {
   "cell_type": "markdown",
   "id": "80e7fee8",
   "metadata": {},
   "source": [
    "## 4. 평가"
   ]
  },
  {
   "cell_type": "code",
   "execution_count": 21,
   "id": "8d59b601",
   "metadata": {},
   "outputs": [],
   "source": [
    "from sklearn.metrics import accuracy_score"
   ]
  },
  {
   "cell_type": "code",
   "execution_count": 22,
   "id": "24da7ae0",
   "metadata": {},
   "outputs": [
    {
     "name": "stdout",
     "output_type": "stream",
     "text": [
      "의사결정트리 정확도:0.95\n",
      "랜덤포레스트 정확도:0.9666666666666667\n",
      "로지스틱회귀 정확도:0.9833333333333333\n"
     ]
    }
   ],
   "source": [
    "print(f'의사결정트리 정확도:{accuracy_score(y_test, dt_pred)}')\n",
    "print(f'랜덤포레스트 정확도:{accuracy_score(y_test, rf_pred)}')\n",
    "print(f'로지스틱회귀 정확도:{accuracy_score(y_test, lf_pred)}')"
   ]
  },
  {
   "cell_type": "markdown",
   "id": "a87ddd4c",
   "metadata": {},
   "source": [
    "### Kfold 교차검증"
   ]
  },
  {
   "cell_type": "code",
   "execution_count": 23,
   "id": "13de2036",
   "metadata": {},
   "outputs": [],
   "source": [
    "from sklearn.model_selection import KFold"
   ]
  },
  {
   "cell_type": "code",
   "execution_count": 24,
   "id": "86c3d0cd",
   "metadata": {},
   "outputs": [
    {
     "name": "stdout",
     "output_type": "stream",
     "text": [
      "의사결정트리 KFold 1번째 정확도: 0.8666666666666667 학습데이터 사이즈:120\n",
      "학습 데이터 인덱스: [  0   1   2   3   4   7   8   9  10  11  12  15  16  17  18  19  20  21\n",
      "  22  23  24  25  27  28  30  31  32  34  35  36  37  38  39  40  42  43\n",
      "  44  45  46  47  48  51  52  53  54  55  56  57  58  59  60  61  62  63\n",
      "  64  65  66  68  69  70  71  72  73  75  76  77  78  79  81  84  85  86\n",
      "  87  88  89  90  91  92  95  96  97  98  99 100 101 104 105 107 108 109\n",
      " 110 111 112 116 117 118 120 121 123 124 125 126 127 129 130 131 135 136\n",
      " 137 138 139 141 142 143 144 145 146 147 148 149]\n",
      "\n",
      "의사결정트리 KFold 2번째 정확도: 0.9333333333333333 학습데이터 사이즈:120\n",
      "학습 데이터 인덱스: [  0   1   2   3   4   5   6   7  10  11  12  13  14  17  18  19  21  22\n",
      "  23  24  25  26  27  28  29  30  31  32  33  34  35  37  39  40  41  45\n",
      "  46  47  49  50  51  52  53  54  55  56  58  59  60  63  65  66  67  68\n",
      "  69  70  71  73  74  78  80  81  82  83  84  85  86  87  89  90  91  92\n",
      "  93  94  95  96  97  98 100 101 102 103 104 105 106 107 108 109 110 111\n",
      " 112 113 114 115 116 117 118 119 120 121 122 123 124 126 128 131 132 133\n",
      " 134 135 136 137 138 139 140 141 143 145 146 147]\n",
      "\n",
      "의사결정트리 KFold 3번째 정확도: 0.9666666666666667 학습데이터 사이즈:120\n",
      "학습 데이터 인덱스: [  0   1   3   5   6   7   8   9  10  11  13  14  15  16  17  18  19  20\n",
      "  21  22  24  25  26  28  29  32  33  35  36  37  38  40  41  42  43  44\n",
      "  46  48  49  50  51  52  54  55  56  57  58  59  60  61  62  63  64  67\n",
      "  68  72  73  74  75  76  77  78  79  80  81  82  83  84  85  88  90  92\n",
      "  93  94  95  97  98  99 100 101 102 103 105 106 108 109 113 114 115 116\n",
      " 117 118 119 121 122 123 124 125 126 127 128 129 130 131 132 133 134 137\n",
      " 138 139 140 141 142 143 144 145 146 147 148 149]\n",
      "\n",
      "의사결정트리 KFold 4번째 정확도: 1.0 학습데이터 사이즈:120\n",
      "학습 데이터 인덱스: [  0   1   2   4   5   6   8   9  10  11  12  13  14  15  16  19  20  23\n",
      "  25  26  27  28  29  30  31  33  34  35  36  37  38  39  40  41  42  43\n",
      "  44  45  47  48  49  50  51  53  54  57  59  60  61  62  64  65  66  67\n",
      "  69  70  71  72  74  75  76  77  79  80  81  82  83  84  86  87  88  89\n",
      "  91  92  93  94  95  96  97  99 102 103 104 105 106 107 110 111 112 113\n",
      " 114 115 117 118 119 120 121 122 124 125 126 127 128 129 130 131 132 133\n",
      " 134 135 136 137 138 140 142 144 146 147 148 149]\n",
      "\n",
      "의사결정트리 KFold 5번째 정확도: 0.9333333333333333 학습데이터 사이즈:120\n",
      "학습 데이터 인덱스: [  2   3   4   5   6   7   8   9  12  13  14  15  16  17  18  20  21  22\n",
      "  23  24  26  27  29  30  31  32  33  34  36  38  39  41  42  43  44  45\n",
      "  46  47  48  49  50  52  53  55  56  57  58  61  62  63  64  65  66  67\n",
      "  68  69  70  71  72  73  74  75  76  77  78  79  80  82  83  85  86  87\n",
      "  88  89  90  91  93  94  96  98  99 100 101 102 103 104 106 107 108 109\n",
      " 110 111 112 113 114 115 116 119 120 122 123 125 127 128 129 130 132 133\n",
      " 134 135 136 139 140 141 142 143 144 145 148 149]\n",
      "\n",
      "**의사결정트리 평균 검증 정확도: 0.9400000000000001\n",
      "\n",
      "\n",
      "랜덤포레스트 KFold 1번째 정확도: 0.8666666666666667 학습데이터 사이즈:120\n",
      "학습 데이터 인덱스: [  0   1   2   3   4   7   8   9  10  11  12  15  16  17  18  19  20  21\n",
      "  22  23  24  25  27  28  30  31  32  34  35  36  37  38  39  40  42  43\n",
      "  44  45  46  47  48  51  52  53  54  55  56  57  58  59  60  61  62  63\n",
      "  64  65  66  68  69  70  71  72  73  75  76  77  78  79  81  84  85  86\n",
      "  87  88  89  90  91  92  95  96  97  98  99 100 101 104 105 107 108 109\n",
      " 110 111 112 116 117 118 120 121 123 124 125 126 127 129 130 131 135 136\n",
      " 137 138 139 141 142 143 144 145 146 147 148 149]\n",
      "\n",
      "랜덤포레스트 KFold 2번째 정확도: 0.9333333333333333 학습데이터 사이즈:120\n",
      "학습 데이터 인덱스: [  0   1   2   3   4   5   6   7  10  11  12  13  14  17  18  19  21  22\n",
      "  23  24  25  26  27  28  29  30  31  32  33  34  35  37  39  40  41  45\n",
      "  46  47  49  50  51  52  53  54  55  56  58  59  60  63  65  66  67  68\n",
      "  69  70  71  73  74  78  80  81  82  83  84  85  86  87  89  90  91  92\n",
      "  93  94  95  96  97  98 100 101 102 103 104 105 106 107 108 109 110 111\n",
      " 112 113 114 115 116 117 118 119 120 121 122 123 124 126 128 131 132 133\n",
      " 134 135 136 137 138 139 140 141 143 145 146 147]\n",
      "\n",
      "랜덤포레스트 KFold 3번째 정확도: 0.9666666666666667 학습데이터 사이즈:120\n",
      "학습 데이터 인덱스: [  0   1   3   5   6   7   8   9  10  11  13  14  15  16  17  18  19  20\n",
      "  21  22  24  25  26  28  29  32  33  35  36  37  38  40  41  42  43  44\n",
      "  46  48  49  50  51  52  54  55  56  57  58  59  60  61  62  63  64  67\n",
      "  68  72  73  74  75  76  77  78  79  80  81  82  83  84  85  88  90  92\n",
      "  93  94  95  97  98  99 100 101 102 103 105 106 108 109 113 114 115 116\n",
      " 117 118 119 121 122 123 124 125 126 127 128 129 130 131 132 133 134 137\n",
      " 138 139 140 141 142 143 144 145 146 147 148 149]\n",
      "\n",
      "랜덤포레스트 KFold 4번째 정확도: 1.0 학습데이터 사이즈:120\n",
      "학습 데이터 인덱스: [  0   1   2   4   5   6   8   9  10  11  12  13  14  15  16  19  20  23\n",
      "  25  26  27  28  29  30  31  33  34  35  36  37  38  39  40  41  42  43\n",
      "  44  45  47  48  49  50  51  53  54  57  59  60  61  62  64  65  66  67\n",
      "  69  70  71  72  74  75  76  77  79  80  81  82  83  84  86  87  88  89\n",
      "  91  92  93  94  95  96  97  99 102 103 104 105 106 107 110 111 112 113\n",
      " 114 115 117 118 119 120 121 122 124 125 126 127 128 129 130 131 132 133\n",
      " 134 135 136 137 138 140 142 144 146 147 148 149]\n",
      "\n",
      "랜덤포레스트 KFold 5번째 정확도: 0.9666666666666667 학습데이터 사이즈:120\n",
      "학습 데이터 인덱스: [  2   3   4   5   6   7   8   9  12  13  14  15  16  17  18  20  21  22\n",
      "  23  24  26  27  29  30  31  32  33  34  36  38  39  41  42  43  44  45\n",
      "  46  47  48  49  50  52  53  55  56  57  58  61  62  63  64  65  66  67\n",
      "  68  69  70  71  72  73  74  75  76  77  78  79  80  82  83  85  86  87\n",
      "  88  89  90  91  93  94  96  98  99 100 101 102 103 104 106 107 108 109\n",
      " 110 111 112 113 114 115 116 119 120 122 123 125 127 128 129 130 132 133\n",
      " 134 135 136 139 140 141 142 143 144 145 148 149]\n",
      "\n",
      "**랜덤포레스트 평균 검증 정확도: 0.9466666666666667\n",
      "\n",
      "\n",
      "로지스틱회귀 KFold 1번째 정확도: 0.8666666666666667 학습데이터 사이즈:120\n",
      "학습 데이터 인덱스: [  0   1   2   3   4   7   8   9  10  11  12  15  16  17  18  19  20  21\n",
      "  22  23  24  25  27  28  30  31  32  34  35  36  37  38  39  40  42  43\n",
      "  44  45  46  47  48  51  52  53  54  55  56  57  58  59  60  61  62  63\n",
      "  64  65  66  68  69  70  71  72  73  75  76  77  78  79  81  84  85  86\n",
      "  87  88  89  90  91  92  95  96  97  98  99 100 101 104 105 107 108 109\n",
      " 110 111 112 116 117 118 120 121 123 124 125 126 127 129 130 131 135 136\n",
      " 137 138 139 141 142 143 144 145 146 147 148 149]\n",
      "\n",
      "로지스틱회귀 KFold 2번째 정확도: 0.9666666666666667 학습데이터 사이즈:120\n",
      "학습 데이터 인덱스: [  0   1   2   3   4   5   6   7  10  11  12  13  14  17  18  19  21  22\n",
      "  23  24  25  26  27  28  29  30  31  32  33  34  35  37  39  40  41  45\n",
      "  46  47  49  50  51  52  53  54  55  56  58  59  60  63  65  66  67  68\n",
      "  69  70  71  73  74  78  80  81  82  83  84  85  86  87  89  90  91  92\n",
      "  93  94  95  96  97  98 100 101 102 103 104 105 106 107 108 109 110 111\n",
      " 112 113 114 115 116 117 118 119 120 121 122 123 124 126 128 131 132 133\n",
      " 134 135 136 137 138 139 140 141 143 145 146 147]\n",
      "\n",
      "로지스틱회귀 KFold 3번째 정확도: 0.9666666666666667 학습데이터 사이즈:120\n",
      "학습 데이터 인덱스: [  0   1   3   5   6   7   8   9  10  11  13  14  15  16  17  18  19  20\n",
      "  21  22  24  25  26  28  29  32  33  35  36  37  38  40  41  42  43  44\n",
      "  46  48  49  50  51  52  54  55  56  57  58  59  60  61  62  63  64  67\n",
      "  68  72  73  74  75  76  77  78  79  80  81  82  83  84  85  88  90  92\n",
      "  93  94  95  97  98  99 100 101 102 103 105 106 108 109 113 114 115 116\n",
      " 117 118 119 121 122 123 124 125 126 127 128 129 130 131 132 133 134 137\n",
      " 138 139 140 141 142 143 144 145 146 147 148 149]\n",
      "\n",
      "로지스틱회귀 KFold 4번째 정확도: 1.0 학습데이터 사이즈:120\n",
      "학습 데이터 인덱스: [  0   1   2   4   5   6   8   9  10  11  12  13  14  15  16  19  20  23\n",
      "  25  26  27  28  29  30  31  33  34  35  36  37  38  39  40  41  42  43\n",
      "  44  45  47  48  49  50  51  53  54  57  59  60  61  62  64  65  66  67\n",
      "  69  70  71  72  74  75  76  77  79  80  81  82  83  84  86  87  88  89\n",
      "  91  92  93  94  95  96  97  99 102 103 104 105 106 107 110 111 112 113\n",
      " 114 115 117 118 119 120 121 122 124 125 126 127 128 129 130 131 132 133\n",
      " 134 135 136 137 138 140 142 144 146 147 148 149]\n",
      "\n",
      "로지스틱회귀 KFold 5번째 정확도: 0.9666666666666667 학습데이터 사이즈:120\n",
      "학습 데이터 인덱스: [  2   3   4   5   6   7   8   9  12  13  14  15  16  17  18  20  21  22\n",
      "  23  24  26  27  29  30  31  32  33  34  36  38  39  41  42  43  44  45\n",
      "  46  47  48  49  50  52  53  55  56  57  58  61  62  63  64  65  66  67\n",
      "  68  69  70  71  72  73  74  75  76  77  78  79  80  82  83  85  86  87\n",
      "  88  89  90  91  93  94  96  98  99 100 101 102 103 104 106 107 108 109\n",
      " 110 111 112 113 114 115 116 119 120 122 123 125 127 128 129 130 132 133\n",
      " 134 135 136 139 140 141 142 143 144 145 148 149]\n",
      "\n",
      "**로지스틱회귀 평균 검증 정확도: 0.9533333333333334\n",
      "\n",
      "\n"
     ]
    }
   ],
   "source": [
    "def kfolding(name, model, feature, label):\n",
    "    kf = KFold(n_splits=5, shuffle=True, random_state=77).split(feature)\n",
    "    n = 1\n",
    "    accuracy = []\n",
    "    for train_index, test_index in kf:\n",
    "        x_train, y_train = feature[train_index], label[train_index]\n",
    "        x_test, y_test = feature[test_index], label[test_index]\n",
    "        model.fit(x_train, y_train)\n",
    "        pred = model.predict(x_test)\n",
    "        acc = accuracy_score(y_test, pred)\n",
    "        print(f'{name} KFold {n}번째 정확도: {acc} 학습데이터 사이즈:{len(x_train)}')\n",
    "        print(f'학습 데이터 인덱스: {train_index}')\n",
    "        print()\n",
    "        accuracy.append(acc)\n",
    "        n+=1\n",
    "    print(f'**{name} 평균 검증 정확도: {np.mean(accuracy)}')\n",
    "    print('\\n')\n",
    "        \n",
    "kfolding('의사결정트리', dt_clf, iris.data, iris.target)\n",
    "kfolding('랜덤포레스트', rf_clf, iris.data, iris.target)\n",
    "kfolding('로지스틱회귀', lr_clf, iris.data, iris.target)"
   ]
  },
  {
   "cell_type": "markdown",
   "id": "ee33f7e8",
   "metadata": {},
   "source": [
    "### Stratified KFold"
   ]
  },
  {
   "cell_type": "code",
   "execution_count": 25,
   "id": "7c17675a",
   "metadata": {},
   "outputs": [],
   "source": [
    "from sklearn.model_selection import StratifiedKFold "
   ]
  },
  {
   "cell_type": "code",
   "execution_count": 26,
   "id": "13c22d41",
   "metadata": {},
   "outputs": [
    {
     "name": "stdout",
     "output_type": "stream",
     "text": [
      "의사결정트리 StratifiedKFold 1번째 정확도: 0.8666666666666667 학습데이터 사이즈:120\n",
      "학습 데이터 인덱스: [  0   1   2   3   4   5   6   7   8  10  11  12  13  14  15  19  20  22\n",
      "  24  26  27  28  30  33  34  35  36  37  38  39  40  41  42  43  44  45\n",
      "  46  47  48  49  51  52  53  54  55  56  57  58  59  61  62  63  66  67\n",
      "  68  69  70  71  72  74  75  76  77  78  79  80  81  82  83  84  87  88\n",
      "  89  91  92  93  95  96  98  99 100 102 103 104 105 107 108 109 110 111\n",
      " 112 113 114 115 117 118 119 120 121 122 123 124 125 127 128 130 131 133\n",
      " 134 136 137 140 141 142 143 144 145 146 147 148]\n",
      "\n",
      "의사결정트리 StratifiedKFold 2번째 정확도: 1.0 학습데이터 사이즈:120\n",
      "학습 데이터 인덱스: [  1   3   4   5   6   7   9  10  11  12  13  14  16  17  18  19  20  21\n",
      "  22  23  24  25  26  29  30  31  32  36  37  38  40  41  42  43  44  45\n",
      "  46  47  48  49  50  51  52  54  57  58  59  60  61  62  63  64  65  66\n",
      "  67  69  70  71  72  73  74  75  76  77  81  82  83  85  86  87  89  90\n",
      "  91  93  94  95  96  97  98  99 101 102 103 104 105 106 107 108 109 110\n",
      " 111 115 116 117 118 119 120 121 123 124 126 127 128 129 130 131 132 133\n",
      " 135 136 138 139 140 141 142 143 144 145 146 149]\n",
      "\n",
      "의사결정트리 StratifiedKFold 3번째 정확도: 0.9666666666666667 학습데이터 사이즈:120\n",
      "학습 데이터 인덱스: [  0   1   2   3   4   6   7   8   9  10  12  13  15  16  17  18  19  21\n",
      "  23  24  25  27  28  29  31  32  33  34  35  36  37  38  39  40  41  42\n",
      "  44  45  46  48  50  53  54  55  56  57  58  59  60  61  62  63  64  65\n",
      "  67  68  69  72  73  74  76  77  78  79  80  81  82  83  84  85  86  88\n",
      "  90  91  92  94  95  96  97  99 100 101 104 106 107 108 110 111 112 113\n",
      " 114 115 116 117 118 119 120 122 123 124 125 126 127 128 129 130 131 132\n",
      " 133 134 135 137 138 139 140 141 144 147 148 149]\n",
      "\n",
      "의사결정트리 StratifiedKFold 4번째 정확도: 0.9666666666666667 학습데이터 사이즈:120\n",
      "학습 데이터 인덱스: [  0   1   2   3   5   8   9  10  11  12  14  15  16  17  18  20  21  22\n",
      "  23  24  25  26  27  28  29  30  31  32  33  34  35  36  38  39  42  43\n",
      "  45  46  47  49  50  51  52  53  54  55  56  58  59  60  61  63  64  65\n",
      "  66  68  69  70  71  72  73  75  78  79  80  82  83  84  85  86  87  88\n",
      "  89  90  92  93  94  96  97  98 100 101 102 103 105 106 109 110 112 113\n",
      " 114 116 118 119 121 122 123 124 125 126 127 128 129 130 131 132 134 135\n",
      " 136 137 138 139 141 142 143 145 146 147 148 149]\n",
      "\n",
      "의사결정트리 StratifiedKFold 5번째 정확도: 0.9333333333333333 학습데이터 사이즈:120\n",
      "학습 데이터 인덱스: [  0   2   4   5   6   7   8   9  11  13  14  15  16  17  18  19  20  21\n",
      "  22  23  25  26  27  28  29  30  31  32  33  34  35  37  39  40  41  43\n",
      "  44  47  48  49  50  51  52  53  55  56  57  60  62  64  65  66  67  68\n",
      "  70  71  73  74  75  76  77  78  79  80  81  84  85  86  87  88  89  90\n",
      "  91  92  93  94  95  97  98  99 100 101 102 103 104 105 106 107 108 109\n",
      " 111 112 113 114 115 116 117 120 121 122 125 126 129 132 133 134 135 136\n",
      " 137 138 139 140 142 143 144 145 146 147 148 149]\n",
      "\n",
      "**의사결정트리 평균 검증 정확도: 0.9466666666666667\n",
      "\n",
      "\n",
      "랜덤포레스트 StratifiedKFold 1번째 정확도: 0.9 학습데이터 사이즈:120\n",
      "학습 데이터 인덱스: [  0   1   2   3   4   5   6   7   8  10  11  12  13  14  15  19  20  22\n",
      "  24  26  27  28  30  33  34  35  36  37  38  39  40  41  42  43  44  45\n",
      "  46  47  48  49  51  52  53  54  55  56  57  58  59  61  62  63  66  67\n",
      "  68  69  70  71  72  74  75  76  77  78  79  80  81  82  83  84  87  88\n",
      "  89  91  92  93  95  96  98  99 100 102 103 104 105 107 108 109 110 111\n",
      " 112 113 114 115 117 118 119 120 121 122 123 124 125 127 128 130 131 133\n",
      " 134 136 137 140 141 142 143 144 145 146 147 148]\n",
      "\n",
      "랜덤포레스트 StratifiedKFold 2번째 정확도: 1.0 학습데이터 사이즈:120\n",
      "학습 데이터 인덱스: [  1   3   4   5   6   7   9  10  11  12  13  14  16  17  18  19  20  21\n",
      "  22  23  24  25  26  29  30  31  32  36  37  38  40  41  42  43  44  45\n",
      "  46  47  48  49  50  51  52  54  57  58  59  60  61  62  63  64  65  66\n",
      "  67  69  70  71  72  73  74  75  76  77  81  82  83  85  86  87  89  90\n",
      "  91  93  94  95  96  97  98  99 101 102 103 104 105 106 107 108 109 110\n",
      " 111 115 116 117 118 119 120 121 123 124 126 127 128 129 130 131 132 133\n",
      " 135 136 138 139 140 141 142 143 144 145 146 149]\n",
      "\n",
      "랜덤포레스트 StratifiedKFold 3번째 정확도: 0.9666666666666667 학습데이터 사이즈:120\n",
      "학습 데이터 인덱스: [  0   1   2   3   4   6   7   8   9  10  12  13  15  16  17  18  19  21\n",
      "  23  24  25  27  28  29  31  32  33  34  35  36  37  38  39  40  41  42\n",
      "  44  45  46  48  50  53  54  55  56  57  58  59  60  61  62  63  64  65\n",
      "  67  68  69  72  73  74  76  77  78  79  80  81  82  83  84  85  86  88\n",
      "  90  91  92  94  95  96  97  99 100 101 104 106 107 108 110 111 112 113\n",
      " 114 115 116 117 118 119 120 122 123 124 125 126 127 128 129 130 131 132\n",
      " 133 134 135 137 138 139 140 141 144 147 148 149]\n",
      "\n",
      "랜덤포레스트 StratifiedKFold 4번째 정확도: 0.9333333333333333 학습데이터 사이즈:120\n",
      "학습 데이터 인덱스: [  0   1   2   3   5   8   9  10  11  12  14  15  16  17  18  20  21  22\n",
      "  23  24  25  26  27  28  29  30  31  32  33  34  35  36  38  39  42  43\n",
      "  45  46  47  49  50  51  52  53  54  55  56  58  59  60  61  63  64  65\n",
      "  66  68  69  70  71  72  73  75  78  79  80  82  83  84  85  86  87  88\n",
      "  89  90  92  93  94  96  97  98 100 101 102 103 105 106 109 110 112 113\n",
      " 114 116 118 119 121 122 123 124 125 126 127 128 129 130 131 132 134 135\n",
      " 136 137 138 139 141 142 143 145 146 147 148 149]\n",
      "\n",
      "랜덤포레스트 StratifiedKFold 5번째 정확도: 0.9666666666666667 학습데이터 사이즈:120\n",
      "학습 데이터 인덱스: [  0   2   4   5   6   7   8   9  11  13  14  15  16  17  18  19  20  21\n",
      "  22  23  25  26  27  28  29  30  31  32  33  34  35  37  39  40  41  43\n",
      "  44  47  48  49  50  51  52  53  55  56  57  60  62  64  65  66  67  68\n",
      "  70  71  73  74  75  76  77  78  79  80  81  84  85  86  87  88  89  90\n",
      "  91  92  93  94  95  97  98  99 100 101 102 103 104 105 106 107 108 109\n",
      " 111 112 113 114 115 116 117 120 121 122 125 126 129 132 133 134 135 136\n",
      " 137 138 139 140 142 143 144 145 146 147 148 149]\n",
      "\n",
      "**랜덤포레스트 평균 검증 정확도: 0.9533333333333334\n",
      "\n",
      "\n",
      "로지스틱회귀 StratifiedKFold 1번째 정확도: 0.9 학습데이터 사이즈:120\n",
      "학습 데이터 인덱스: [  0   1   2   3   4   5   6   7   8  10  11  12  13  14  15  19  20  22\n",
      "  24  26  27  28  30  33  34  35  36  37  38  39  40  41  42  43  44  45\n",
      "  46  47  48  49  51  52  53  54  55  56  57  58  59  61  62  63  66  67\n",
      "  68  69  70  71  72  74  75  76  77  78  79  80  81  82  83  84  87  88\n",
      "  89  91  92  93  95  96  98  99 100 102 103 104 105 107 108 109 110 111\n",
      " 112 113 114 115 117 118 119 120 121 122 123 124 125 127 128 130 131 133\n",
      " 134 136 137 140 141 142 143 144 145 146 147 148]\n",
      "\n",
      "로지스틱회귀 StratifiedKFold 2번째 정확도: 1.0 학습데이터 사이즈:120\n",
      "학습 데이터 인덱스: [  1   3   4   5   6   7   9  10  11  12  13  14  16  17  18  19  20  21\n",
      "  22  23  24  25  26  29  30  31  32  36  37  38  40  41  42  43  44  45\n",
      "  46  47  48  49  50  51  52  54  57  58  59  60  61  62  63  64  65  66\n",
      "  67  69  70  71  72  73  74  75  76  77  81  82  83  85  86  87  89  90\n",
      "  91  93  94  95  96  97  98  99 101 102 103 104 105 106 107 108 109 110\n",
      " 111 115 116 117 118 119 120 121 123 124 126 127 128 129 130 131 132 133\n",
      " 135 136 138 139 140 141 142 143 144 145 146 149]\n",
      "\n",
      "로지스틱회귀 StratifiedKFold 3번째 정확도: 0.9666666666666667 학습데이터 사이즈:120\n",
      "학습 데이터 인덱스: [  0   1   2   3   4   6   7   8   9  10  12  13  15  16  17  18  19  21\n",
      "  23  24  25  27  28  29  31  32  33  34  35  36  37  38  39  40  41  42\n",
      "  44  45  46  48  50  53  54  55  56  57  58  59  60  61  62  63  64  65\n",
      "  67  68  69  72  73  74  76  77  78  79  80  81  82  83  84  85  86  88\n",
      "  90  91  92  94  95  96  97  99 100 101 104 106 107 108 110 111 112 113\n",
      " 114 115 116 117 118 119 120 122 123 124 125 126 127 128 129 130 131 132\n",
      " 133 134 135 137 138 139 140 141 144 147 148 149]\n",
      "\n",
      "로지스틱회귀 StratifiedKFold 4번째 정확도: 0.9666666666666667 학습데이터 사이즈:120\n",
      "학습 데이터 인덱스: [  0   1   2   3   5   8   9  10  11  12  14  15  16  17  18  20  21  22\n",
      "  23  24  25  26  27  28  29  30  31  32  33  34  35  36  38  39  42  43\n",
      "  45  46  47  49  50  51  52  53  54  55  56  58  59  60  61  63  64  65\n",
      "  66  68  69  70  71  72  73  75  78  79  80  82  83  84  85  86  87  88\n",
      "  89  90  92  93  94  96  97  98 100 101 102 103 105 106 109 110 112 113\n",
      " 114 116 118 119 121 122 123 124 125 126 127 128 129 130 131 132 134 135\n",
      " 136 137 138 139 141 142 143 145 146 147 148 149]\n",
      "\n",
      "로지스틱회귀 StratifiedKFold 5번째 정확도: 0.9666666666666667 학습데이터 사이즈:120\n",
      "학습 데이터 인덱스: [  0   2   4   5   6   7   8   9  11  13  14  15  16  17  18  19  20  21\n",
      "  22  23  25  26  27  28  29  30  31  32  33  34  35  37  39  40  41  43\n",
      "  44  47  48  49  50  51  52  53  55  56  57  60  62  64  65  66  67  68\n",
      "  70  71  73  74  75  76  77  78  79  80  81  84  85  86  87  88  89  90\n",
      "  91  92  93  94  95  97  98  99 100 101 102 103 104 105 106 107 108 109\n",
      " 111 112 113 114 115 116 117 120 121 122 125 126 129 132 133 134 135 136\n",
      " 137 138 139 140 142 143 144 145 146 147 148 149]\n",
      "\n",
      "**로지스틱회귀 평균 검증 정확도: 0.96\n",
      "\n",
      "\n"
     ]
    },
    {
     "name": "stderr",
     "output_type": "stream",
     "text": [
      "c:\\users\\clee0\\miniconda3\\lib\\site-packages\\sklearn\\linear_model\\_logistic.py:814: ConvergenceWarning: lbfgs failed to converge (status=1):\n",
      "STOP: TOTAL NO. of ITERATIONS REACHED LIMIT.\n",
      "\n",
      "Increase the number of iterations (max_iter) or scale the data as shown in:\n",
      "    https://scikit-learn.org/stable/modules/preprocessing.html\n",
      "Please also refer to the documentation for alternative solver options:\n",
      "    https://scikit-learn.org/stable/modules/linear_model.html#logistic-regression\n",
      "  n_iter_i = _check_optimize_result(\n",
      "c:\\users\\clee0\\miniconda3\\lib\\site-packages\\sklearn\\linear_model\\_logistic.py:814: ConvergenceWarning: lbfgs failed to converge (status=1):\n",
      "STOP: TOTAL NO. of ITERATIONS REACHED LIMIT.\n",
      "\n",
      "Increase the number of iterations (max_iter) or scale the data as shown in:\n",
      "    https://scikit-learn.org/stable/modules/preprocessing.html\n",
      "Please also refer to the documentation for alternative solver options:\n",
      "    https://scikit-learn.org/stable/modules/linear_model.html#logistic-regression\n",
      "  n_iter_i = _check_optimize_result(\n",
      "c:\\users\\clee0\\miniconda3\\lib\\site-packages\\sklearn\\linear_model\\_logistic.py:814: ConvergenceWarning: lbfgs failed to converge (status=1):\n",
      "STOP: TOTAL NO. of ITERATIONS REACHED LIMIT.\n",
      "\n",
      "Increase the number of iterations (max_iter) or scale the data as shown in:\n",
      "    https://scikit-learn.org/stable/modules/preprocessing.html\n",
      "Please also refer to the documentation for alternative solver options:\n",
      "    https://scikit-learn.org/stable/modules/linear_model.html#logistic-regression\n",
      "  n_iter_i = _check_optimize_result(\n",
      "c:\\users\\clee0\\miniconda3\\lib\\site-packages\\sklearn\\linear_model\\_logistic.py:814: ConvergenceWarning: lbfgs failed to converge (status=1):\n",
      "STOP: TOTAL NO. of ITERATIONS REACHED LIMIT.\n",
      "\n",
      "Increase the number of iterations (max_iter) or scale the data as shown in:\n",
      "    https://scikit-learn.org/stable/modules/preprocessing.html\n",
      "Please also refer to the documentation for alternative solver options:\n",
      "    https://scikit-learn.org/stable/modules/linear_model.html#logistic-regression\n",
      "  n_iter_i = _check_optimize_result(\n"
     ]
    }
   ],
   "source": [
    "def skfolding(name, model, feature, label):\n",
    "    skf = StratifiedKFold(n_splits=5, shuffle=True, random_state=77).split(feature, label)\n",
    "    n = 1\n",
    "    accuracy = []\n",
    "    for train_index, test_index in skf:\n",
    "        x_train, y_train = feature[train_index], label[train_index]\n",
    "        x_test, y_test = feature[test_index], label[test_index]\n",
    "        model.fit(x_train, y_train)\n",
    "        pred = model.predict(x_test)\n",
    "        acc = accuracy_score(y_test, pred)\n",
    "        print(f'{name} StratifiedKFold {n}번째 정확도: {acc} 학습데이터 사이즈:{len(x_train)}')\n",
    "        print(f'학습 데이터 인덱스: {train_index}')\n",
    "        print()\n",
    "        accuracy.append(acc)\n",
    "        n+=1\n",
    "    print(f'**{name} 평균 검증 정확도: {np.mean(accuracy)}')\n",
    "    print('\\n')\n",
    "        \n",
    "skfolding('의사결정트리', dt_clf, iris.data, iris.target)\n",
    "skfolding('랜덤포레스트', rf_clf, iris.data, iris.target)\n",
    "skfolding('로지스틱회귀', lr_clf, iris.data, iris.target)"
   ]
  },
  {
   "cell_type": "markdown",
   "id": "825c2ece",
   "metadata": {},
   "source": [
    "### cross_val_score를 이용한 교차검증"
   ]
  },
  {
   "cell_type": "code",
   "execution_count": 27,
   "id": "0d51857e",
   "metadata": {},
   "outputs": [],
   "source": [
    "from sklearn.model_selection import cross_val_score"
   ]
  },
  {
   "cell_type": "code",
   "execution_count": 28,
   "id": "13688fa4",
   "metadata": {},
   "outputs": [
    {
     "name": "stdout",
     "output_type": "stream",
     "text": [
      "교차검증별 정확도: [0.96666667 0.96666667 0.9        0.96666667 1.        ]\n",
      "교차검증 평균 정확도:0.9600000000000002\n",
      "\n",
      "교차검증별 정확도: [0.96666667 0.96666667 0.93333333 0.93333333 1.        ]\n",
      "교차검증 평균 정확도:0.96\n",
      "\n",
      "교차검증별 정확도: [0.96666667 1.         0.93333333 0.96666667 1.        ]\n",
      "교차검증 평균 정확도:0.9733333333333334\n",
      "\n"
     ]
    },
    {
     "name": "stderr",
     "output_type": "stream",
     "text": [
      "c:\\users\\clee0\\miniconda3\\lib\\site-packages\\sklearn\\linear_model\\_logistic.py:814: ConvergenceWarning: lbfgs failed to converge (status=1):\n",
      "STOP: TOTAL NO. of ITERATIONS REACHED LIMIT.\n",
      "\n",
      "Increase the number of iterations (max_iter) or scale the data as shown in:\n",
      "    https://scikit-learn.org/stable/modules/preprocessing.html\n",
      "Please also refer to the documentation for alternative solver options:\n",
      "    https://scikit-learn.org/stable/modules/linear_model.html#logistic-regression\n",
      "  n_iter_i = _check_optimize_result(\n"
     ]
    }
   ],
   "source": [
    "for i in [dt_clf, rf_clf, lr_clf]:\n",
    "    scores = cross_val_score(i, iris.data, iris.target, scoring='accuracy', cv=5)\n",
    "    print(f'교차검증별 정확도: {scores}')\n",
    "    print(f'교차검증 평균 정확도:{np.mean(scores)}')\n",
    "    print()"
   ]
  },
  {
   "cell_type": "markdown",
   "id": "6a2f3bb3",
   "metadata": {},
   "source": [
    "### 결정 트리 시각화"
   ]
  },
  {
   "cell_type": "code",
   "execution_count": 29,
   "id": "665b6b3e",
   "metadata": {},
   "outputs": [],
   "source": [
    "import graphviz\n",
    "from sklearn.tree import export_graphviz"
   ]
  },
  {
   "cell_type": "code",
   "execution_count": 30,
   "id": "d57783b0",
   "metadata": {},
   "outputs": [],
   "source": [
    "export_graphviz(dt_clf,\n",
    "                out_file='tree.dot',\n",
    "                max_depth=None,\n",
    "                feature_names=iris.feature_names,\n",
    "                class_names=iris.target_names,\n",
    "                filled=True)"
   ]
  },
  {
   "cell_type": "code",
   "execution_count": 31,
   "id": "33d0afab",
   "metadata": {},
   "outputs": [
    {
     "data": {
      "image/svg+xml": [
       "<?xml version=\"1.0\" encoding=\"UTF-8\" standalone=\"no\"?>\n",
       "<!DOCTYPE svg PUBLIC \"-//W3C//DTD SVG 1.1//EN\"\n",
       " \"http://www.w3.org/Graphics/SVG/1.1/DTD/svg11.dtd\">\n",
       "<!-- Generated by graphviz version 2.50.0 (20211204.2007)\n",
       " -->\n",
       "<!-- Title: Tree Pages: 1 -->\n",
       "<svg width=\"764pt\" height=\"671pt\"\n",
       " viewBox=\"0.00 0.00 764.00 671.00\" xmlns=\"http://www.w3.org/2000/svg\" xmlns:xlink=\"http://www.w3.org/1999/xlink\">\n",
       "<g id=\"graph0\" class=\"graph\" transform=\"scale(1 1) rotate(0) translate(4 667)\">\n",
       "<title>Tree</title>\n",
       "<polygon fill=\"white\" stroke=\"transparent\" points=\"-4,4 -4,-667 760,-667 760,4 -4,4\"/>\n",
       "<!-- 0 -->\n",
       "<g id=\"node1\" class=\"node\">\n",
       "<title>0</title>\n",
       "<polygon fill=\"#ffffff\" stroke=\"black\" points=\"451.5,-663 277.5,-663 277.5,-580 451.5,-580 451.5,-663\"/>\n",
       "<text text-anchor=\"middle\" x=\"364.5\" y=\"-647.8\" font-family=\"Helvetica,sans-Serif\" font-size=\"14.00\">petal length (cm) &lt;= 2.45</text>\n",
       "<text text-anchor=\"middle\" x=\"364.5\" y=\"-632.8\" font-family=\"Helvetica,sans-Serif\" font-size=\"14.00\">gini = 0.667</text>\n",
       "<text text-anchor=\"middle\" x=\"364.5\" y=\"-617.8\" font-family=\"Helvetica,sans-Serif\" font-size=\"14.00\">samples = 120</text>\n",
       "<text text-anchor=\"middle\" x=\"364.5\" y=\"-602.8\" font-family=\"Helvetica,sans-Serif\" font-size=\"14.00\">value = [40, 40, 40]</text>\n",
       "<text text-anchor=\"middle\" x=\"364.5\" y=\"-587.8\" font-family=\"Helvetica,sans-Serif\" font-size=\"14.00\">class = setosa</text>\n",
       "</g>\n",
       "<!-- 1 -->\n",
       "<g id=\"node2\" class=\"node\">\n",
       "<title>1</title>\n",
       "<polygon fill=\"#e58139\" stroke=\"black\" points=\"344,-536.5 223,-536.5 223,-468.5 344,-468.5 344,-536.5\"/>\n",
       "<text text-anchor=\"middle\" x=\"283.5\" y=\"-521.3\" font-family=\"Helvetica,sans-Serif\" font-size=\"14.00\">gini = 0.0</text>\n",
       "<text text-anchor=\"middle\" x=\"283.5\" y=\"-506.3\" font-family=\"Helvetica,sans-Serif\" font-size=\"14.00\">samples = 40</text>\n",
       "<text text-anchor=\"middle\" x=\"283.5\" y=\"-491.3\" font-family=\"Helvetica,sans-Serif\" font-size=\"14.00\">value = [40, 0, 0]</text>\n",
       "<text text-anchor=\"middle\" x=\"283.5\" y=\"-476.3\" font-family=\"Helvetica,sans-Serif\" font-size=\"14.00\">class = setosa</text>\n",
       "</g>\n",
       "<!-- 0&#45;&gt;1 -->\n",
       "<g id=\"edge1\" class=\"edge\">\n",
       "<title>0&#45;&gt;1</title>\n",
       "<path fill=\"none\" stroke=\"black\" d=\"M336.4,-579.91C328.61,-568.65 320.14,-556.42 312.3,-545.11\"/>\n",
       "<polygon fill=\"black\" stroke=\"black\" points=\"315.03,-542.9 306.46,-536.67 309.28,-546.88 315.03,-542.9\"/>\n",
       "<text text-anchor=\"middle\" x=\"301.99\" y=\"-557.56\" font-family=\"Helvetica,sans-Serif\" font-size=\"14.00\">True</text>\n",
       "</g>\n",
       "<!-- 2 -->\n",
       "<g id=\"node3\" class=\"node\">\n",
       "<title>2</title>\n",
       "<polygon fill=\"#ffffff\" stroke=\"black\" points=\"530.5,-544 362.5,-544 362.5,-461 530.5,-461 530.5,-544\"/>\n",
       "<text text-anchor=\"middle\" x=\"446.5\" y=\"-528.8\" font-family=\"Helvetica,sans-Serif\" font-size=\"14.00\">petal width (cm) &lt;= 1.75</text>\n",
       "<text text-anchor=\"middle\" x=\"446.5\" y=\"-513.8\" font-family=\"Helvetica,sans-Serif\" font-size=\"14.00\">gini = 0.5</text>\n",
       "<text text-anchor=\"middle\" x=\"446.5\" y=\"-498.8\" font-family=\"Helvetica,sans-Serif\" font-size=\"14.00\">samples = 80</text>\n",
       "<text text-anchor=\"middle\" x=\"446.5\" y=\"-483.8\" font-family=\"Helvetica,sans-Serif\" font-size=\"14.00\">value = [0, 40, 40]</text>\n",
       "<text text-anchor=\"middle\" x=\"446.5\" y=\"-468.8\" font-family=\"Helvetica,sans-Serif\" font-size=\"14.00\">class = versicolor</text>\n",
       "</g>\n",
       "<!-- 0&#45;&gt;2 -->\n",
       "<g id=\"edge2\" class=\"edge\">\n",
       "<title>0&#45;&gt;2</title>\n",
       "<path fill=\"none\" stroke=\"black\" d=\"M392.95,-579.91C399.18,-571.01 405.84,-561.51 412.28,-552.33\"/>\n",
       "<polygon fill=\"black\" stroke=\"black\" points=\"415.23,-554.22 418.1,-544.02 409.5,-550.2 415.23,-554.22\"/>\n",
       "<text text-anchor=\"middle\" x=\"422.43\" y=\"-564.94\" font-family=\"Helvetica,sans-Serif\" font-size=\"14.00\">False</text>\n",
       "</g>\n",
       "<!-- 3 -->\n",
       "<g id=\"node4\" class=\"node\">\n",
       "<title>3</title>\n",
       "<polygon fill=\"#4de88e\" stroke=\"black\" points=\"437.5,-425 263.5,-425 263.5,-342 437.5,-342 437.5,-425\"/>\n",
       "<text text-anchor=\"middle\" x=\"350.5\" y=\"-409.8\" font-family=\"Helvetica,sans-Serif\" font-size=\"14.00\">petal length (cm) &lt;= 5.05</text>\n",
       "<text text-anchor=\"middle\" x=\"350.5\" y=\"-394.8\" font-family=\"Helvetica,sans-Serif\" font-size=\"14.00\">gini = 0.169</text>\n",
       "<text text-anchor=\"middle\" x=\"350.5\" y=\"-379.8\" font-family=\"Helvetica,sans-Serif\" font-size=\"14.00\">samples = 43</text>\n",
       "<text text-anchor=\"middle\" x=\"350.5\" y=\"-364.8\" font-family=\"Helvetica,sans-Serif\" font-size=\"14.00\">value = [0, 39, 4]</text>\n",
       "<text text-anchor=\"middle\" x=\"350.5\" y=\"-349.8\" font-family=\"Helvetica,sans-Serif\" font-size=\"14.00\">class = versicolor</text>\n",
       "</g>\n",
       "<!-- 2&#45;&gt;3 -->\n",
       "<g id=\"edge3\" class=\"edge\">\n",
       "<title>2&#45;&gt;3</title>\n",
       "<path fill=\"none\" stroke=\"black\" d=\"M413.19,-460.91C405.75,-451.83 397.78,-442.12 390.11,-432.77\"/>\n",
       "<polygon fill=\"black\" stroke=\"black\" points=\"392.8,-430.53 383.75,-425.02 387.39,-434.97 392.8,-430.53\"/>\n",
       "</g>\n",
       "<!-- 10 -->\n",
       "<g id=\"node11\" class=\"node\">\n",
       "<title>10</title>\n",
       "<polygon fill=\"#843ee6\" stroke=\"black\" points=\"629.5,-425 455.5,-425 455.5,-342 629.5,-342 629.5,-425\"/>\n",
       "<text text-anchor=\"middle\" x=\"542.5\" y=\"-409.8\" font-family=\"Helvetica,sans-Serif\" font-size=\"14.00\">petal length (cm) &lt;= 4.85</text>\n",
       "<text text-anchor=\"middle\" x=\"542.5\" y=\"-394.8\" font-family=\"Helvetica,sans-Serif\" font-size=\"14.00\">gini = 0.053</text>\n",
       "<text text-anchor=\"middle\" x=\"542.5\" y=\"-379.8\" font-family=\"Helvetica,sans-Serif\" font-size=\"14.00\">samples = 37</text>\n",
       "<text text-anchor=\"middle\" x=\"542.5\" y=\"-364.8\" font-family=\"Helvetica,sans-Serif\" font-size=\"14.00\">value = [0, 1, 36]</text>\n",
       "<text text-anchor=\"middle\" x=\"542.5\" y=\"-349.8\" font-family=\"Helvetica,sans-Serif\" font-size=\"14.00\">class = virginica</text>\n",
       "</g>\n",
       "<!-- 2&#45;&gt;10 -->\n",
       "<g id=\"edge10\" class=\"edge\">\n",
       "<title>2&#45;&gt;10</title>\n",
       "<path fill=\"none\" stroke=\"black\" d=\"M479.81,-460.91C487.25,-451.83 495.22,-442.12 502.89,-432.77\"/>\n",
       "<polygon fill=\"black\" stroke=\"black\" points=\"505.61,-434.97 509.25,-425.02 500.2,-430.53 505.61,-434.97\"/>\n",
       "</g>\n",
       "<!-- 4 -->\n",
       "<g id=\"node5\" class=\"node\">\n",
       "<title>4</title>\n",
       "<polygon fill=\"#3ee684\" stroke=\"black\" points=\"283.5,-306 105.5,-306 105.5,-223 283.5,-223 283.5,-306\"/>\n",
       "<text text-anchor=\"middle\" x=\"194.5\" y=\"-290.8\" font-family=\"Helvetica,sans-Serif\" font-size=\"14.00\">sepal length (cm) &lt;= 4.95</text>\n",
       "<text text-anchor=\"middle\" x=\"194.5\" y=\"-275.8\" font-family=\"Helvetica,sans-Serif\" font-size=\"14.00\">gini = 0.049</text>\n",
       "<text text-anchor=\"middle\" x=\"194.5\" y=\"-260.8\" font-family=\"Helvetica,sans-Serif\" font-size=\"14.00\">samples = 40</text>\n",
       "<text text-anchor=\"middle\" x=\"194.5\" y=\"-245.8\" font-family=\"Helvetica,sans-Serif\" font-size=\"14.00\">value = [0, 39, 1]</text>\n",
       "<text text-anchor=\"middle\" x=\"194.5\" y=\"-230.8\" font-family=\"Helvetica,sans-Serif\" font-size=\"14.00\">class = versicolor</text>\n",
       "</g>\n",
       "<!-- 3&#45;&gt;4 -->\n",
       "<g id=\"edge4\" class=\"edge\">\n",
       "<title>3&#45;&gt;4</title>\n",
       "<path fill=\"none\" stroke=\"black\" d=\"M296.38,-341.91C283.55,-332.29 269.77,-321.95 256.62,-312.09\"/>\n",
       "<polygon fill=\"black\" stroke=\"black\" points=\"258.63,-309.22 248.53,-306.02 254.43,-314.82 258.63,-309.22\"/>\n",
       "</g>\n",
       "<!-- 9 -->\n",
       "<g id=\"node10\" class=\"node\">\n",
       "<title>9</title>\n",
       "<polygon fill=\"#8139e5\" stroke=\"black\" points=\"417.5,-298.5 301.5,-298.5 301.5,-230.5 417.5,-230.5 417.5,-298.5\"/>\n",
       "<text text-anchor=\"middle\" x=\"359.5\" y=\"-283.3\" font-family=\"Helvetica,sans-Serif\" font-size=\"14.00\">gini = 0.0</text>\n",
       "<text text-anchor=\"middle\" x=\"359.5\" y=\"-268.3\" font-family=\"Helvetica,sans-Serif\" font-size=\"14.00\">samples = 3</text>\n",
       "<text text-anchor=\"middle\" x=\"359.5\" y=\"-253.3\" font-family=\"Helvetica,sans-Serif\" font-size=\"14.00\">value = [0, 0, 3]</text>\n",
       "<text text-anchor=\"middle\" x=\"359.5\" y=\"-238.3\" font-family=\"Helvetica,sans-Serif\" font-size=\"14.00\">class = virginica</text>\n",
       "</g>\n",
       "<!-- 3&#45;&gt;9 -->\n",
       "<g id=\"edge9\" class=\"edge\">\n",
       "<title>3&#45;&gt;9</title>\n",
       "<path fill=\"none\" stroke=\"black\" d=\"M353.62,-341.91C354.45,-331.2 355.34,-319.62 356.17,-308.78\"/>\n",
       "<polygon fill=\"black\" stroke=\"black\" points=\"359.67,-308.91 356.95,-298.67 352.69,-308.37 359.67,-308.91\"/>\n",
       "</g>\n",
       "<!-- 5 -->\n",
       "<g id=\"node6\" class=\"node\">\n",
       "<title>5</title>\n",
       "<polygon fill=\"#ffffff\" stroke=\"black\" points=\"217.5,-187 49.5,-187 49.5,-104 217.5,-104 217.5,-187\"/>\n",
       "<text text-anchor=\"middle\" x=\"133.5\" y=\"-171.8\" font-family=\"Helvetica,sans-Serif\" font-size=\"14.00\">petal width (cm) &lt;= 1.35</text>\n",
       "<text text-anchor=\"middle\" x=\"133.5\" y=\"-156.8\" font-family=\"Helvetica,sans-Serif\" font-size=\"14.00\">gini = 0.5</text>\n",
       "<text text-anchor=\"middle\" x=\"133.5\" y=\"-141.8\" font-family=\"Helvetica,sans-Serif\" font-size=\"14.00\">samples = 2</text>\n",
       "<text text-anchor=\"middle\" x=\"133.5\" y=\"-126.8\" font-family=\"Helvetica,sans-Serif\" font-size=\"14.00\">value = [0, 1, 1]</text>\n",
       "<text text-anchor=\"middle\" x=\"133.5\" y=\"-111.8\" font-family=\"Helvetica,sans-Serif\" font-size=\"14.00\">class = versicolor</text>\n",
       "</g>\n",
       "<!-- 4&#45;&gt;5 -->\n",
       "<g id=\"edge5\" class=\"edge\">\n",
       "<title>4&#45;&gt;5</title>\n",
       "<path fill=\"none\" stroke=\"black\" d=\"M173.34,-222.91C168.79,-214.2 163.95,-204.9 159.25,-195.89\"/>\n",
       "<polygon fill=\"black\" stroke=\"black\" points=\"162.35,-194.27 154.63,-187.02 156.15,-197.51 162.35,-194.27\"/>\n",
       "</g>\n",
       "<!-- 8 -->\n",
       "<g id=\"node9\" class=\"node\">\n",
       "<title>8</title>\n",
       "<polygon fill=\"#39e581\" stroke=\"black\" points=\"363,-179.5 236,-179.5 236,-111.5 363,-111.5 363,-179.5\"/>\n",
       "<text text-anchor=\"middle\" x=\"299.5\" y=\"-164.3\" font-family=\"Helvetica,sans-Serif\" font-size=\"14.00\">gini = 0.0</text>\n",
       "<text text-anchor=\"middle\" x=\"299.5\" y=\"-149.3\" font-family=\"Helvetica,sans-Serif\" font-size=\"14.00\">samples = 38</text>\n",
       "<text text-anchor=\"middle\" x=\"299.5\" y=\"-134.3\" font-family=\"Helvetica,sans-Serif\" font-size=\"14.00\">value = [0, 38, 0]</text>\n",
       "<text text-anchor=\"middle\" x=\"299.5\" y=\"-119.3\" font-family=\"Helvetica,sans-Serif\" font-size=\"14.00\">class = versicolor</text>\n",
       "</g>\n",
       "<!-- 4&#45;&gt;8 -->\n",
       "<g id=\"edge8\" class=\"edge\">\n",
       "<title>4&#45;&gt;8</title>\n",
       "<path fill=\"none\" stroke=\"black\" d=\"M230.93,-222.91C241.33,-211.32 252.66,-198.7 263.05,-187.11\"/>\n",
       "<polygon fill=\"black\" stroke=\"black\" points=\"265.66,-189.45 269.73,-179.67 260.45,-184.77 265.66,-189.45\"/>\n",
       "</g>\n",
       "<!-- 6 -->\n",
       "<g id=\"node7\" class=\"node\">\n",
       "<title>6</title>\n",
       "<polygon fill=\"#39e581\" stroke=\"black\" points=\"127,-68 0,-68 0,0 127,0 127,-68\"/>\n",
       "<text text-anchor=\"middle\" x=\"63.5\" y=\"-52.8\" font-family=\"Helvetica,sans-Serif\" font-size=\"14.00\">gini = 0.0</text>\n",
       "<text text-anchor=\"middle\" x=\"63.5\" y=\"-37.8\" font-family=\"Helvetica,sans-Serif\" font-size=\"14.00\">samples = 1</text>\n",
       "<text text-anchor=\"middle\" x=\"63.5\" y=\"-22.8\" font-family=\"Helvetica,sans-Serif\" font-size=\"14.00\">value = [0, 1, 0]</text>\n",
       "<text text-anchor=\"middle\" x=\"63.5\" y=\"-7.8\" font-family=\"Helvetica,sans-Serif\" font-size=\"14.00\">class = versicolor</text>\n",
       "</g>\n",
       "<!-- 5&#45;&gt;6 -->\n",
       "<g id=\"edge6\" class=\"edge\">\n",
       "<title>5&#45;&gt;6</title>\n",
       "<path fill=\"none\" stroke=\"black\" d=\"M107.43,-103.73C101.84,-94.97 95.91,-85.7 90.29,-76.91\"/>\n",
       "<polygon fill=\"black\" stroke=\"black\" points=\"93.12,-74.84 84.79,-68.3 87.22,-78.61 93.12,-74.84\"/>\n",
       "</g>\n",
       "<!-- 7 -->\n",
       "<g id=\"node8\" class=\"node\">\n",
       "<title>7</title>\n",
       "<polygon fill=\"#8139e5\" stroke=\"black\" points=\"261.5,-68 145.5,-68 145.5,0 261.5,0 261.5,-68\"/>\n",
       "<text text-anchor=\"middle\" x=\"203.5\" y=\"-52.8\" font-family=\"Helvetica,sans-Serif\" font-size=\"14.00\">gini = 0.0</text>\n",
       "<text text-anchor=\"middle\" x=\"203.5\" y=\"-37.8\" font-family=\"Helvetica,sans-Serif\" font-size=\"14.00\">samples = 1</text>\n",
       "<text text-anchor=\"middle\" x=\"203.5\" y=\"-22.8\" font-family=\"Helvetica,sans-Serif\" font-size=\"14.00\">value = [0, 0, 1]</text>\n",
       "<text text-anchor=\"middle\" x=\"203.5\" y=\"-7.8\" font-family=\"Helvetica,sans-Serif\" font-size=\"14.00\">class = virginica</text>\n",
       "</g>\n",
       "<!-- 5&#45;&gt;7 -->\n",
       "<g id=\"edge7\" class=\"edge\">\n",
       "<title>5&#45;&gt;7</title>\n",
       "<path fill=\"none\" stroke=\"black\" d=\"M159.57,-103.73C165.16,-94.97 171.09,-85.7 176.71,-76.91\"/>\n",
       "<polygon fill=\"black\" stroke=\"black\" points=\"179.78,-78.61 182.21,-68.3 173.88,-74.84 179.78,-78.61\"/>\n",
       "</g>\n",
       "<!-- 11 -->\n",
       "<g id=\"node12\" class=\"node\">\n",
       "<title>11</title>\n",
       "<polygon fill=\"#c09cf2\" stroke=\"black\" points=\"616.5,-306 452.5,-306 452.5,-223 616.5,-223 616.5,-306\"/>\n",
       "<text text-anchor=\"middle\" x=\"534.5\" y=\"-290.8\" font-family=\"Helvetica,sans-Serif\" font-size=\"14.00\">sepal width (cm) &lt;= 3.1</text>\n",
       "<text text-anchor=\"middle\" x=\"534.5\" y=\"-275.8\" font-family=\"Helvetica,sans-Serif\" font-size=\"14.00\">gini = 0.444</text>\n",
       "<text text-anchor=\"middle\" x=\"534.5\" y=\"-260.8\" font-family=\"Helvetica,sans-Serif\" font-size=\"14.00\">samples = 3</text>\n",
       "<text text-anchor=\"middle\" x=\"534.5\" y=\"-245.8\" font-family=\"Helvetica,sans-Serif\" font-size=\"14.00\">value = [0, 1, 2]</text>\n",
       "<text text-anchor=\"middle\" x=\"534.5\" y=\"-230.8\" font-family=\"Helvetica,sans-Serif\" font-size=\"14.00\">class = virginica</text>\n",
       "</g>\n",
       "<!-- 10&#45;&gt;11 -->\n",
       "<g id=\"edge11\" class=\"edge\">\n",
       "<title>10&#45;&gt;11</title>\n",
       "<path fill=\"none\" stroke=\"black\" d=\"M539.72,-341.91C539.15,-333.56 538.55,-324.67 537.95,-316.02\"/>\n",
       "<polygon fill=\"black\" stroke=\"black\" points=\"541.44,-315.76 537.27,-306.02 534.46,-316.24 541.44,-315.76\"/>\n",
       "</g>\n",
       "<!-- 14 -->\n",
       "<g id=\"node15\" class=\"node\">\n",
       "<title>14</title>\n",
       "<polygon fill=\"#8139e5\" stroke=\"black\" points=\"756,-298.5 635,-298.5 635,-230.5 756,-230.5 756,-298.5\"/>\n",
       "<text text-anchor=\"middle\" x=\"695.5\" y=\"-283.3\" font-family=\"Helvetica,sans-Serif\" font-size=\"14.00\">gini = 0.0</text>\n",
       "<text text-anchor=\"middle\" x=\"695.5\" y=\"-268.3\" font-family=\"Helvetica,sans-Serif\" font-size=\"14.00\">samples = 34</text>\n",
       "<text text-anchor=\"middle\" x=\"695.5\" y=\"-253.3\" font-family=\"Helvetica,sans-Serif\" font-size=\"14.00\">value = [0, 0, 34]</text>\n",
       "<text text-anchor=\"middle\" x=\"695.5\" y=\"-238.3\" font-family=\"Helvetica,sans-Serif\" font-size=\"14.00\">class = virginica</text>\n",
       "</g>\n",
       "<!-- 10&#45;&gt;14 -->\n",
       "<g id=\"edge14\" class=\"edge\">\n",
       "<title>10&#45;&gt;14</title>\n",
       "<path fill=\"none\" stroke=\"black\" d=\"M595.58,-341.91C611.31,-329.88 628.5,-316.73 644.12,-304.79\"/>\n",
       "<polygon fill=\"black\" stroke=\"black\" points=\"646.31,-307.52 652.13,-298.67 642.06,-301.96 646.31,-307.52\"/>\n",
       "</g>\n",
       "<!-- 12 -->\n",
       "<g id=\"node13\" class=\"node\">\n",
       "<title>12</title>\n",
       "<polygon fill=\"#8139e5\" stroke=\"black\" points=\"544.5,-179.5 428.5,-179.5 428.5,-111.5 544.5,-111.5 544.5,-179.5\"/>\n",
       "<text text-anchor=\"middle\" x=\"486.5\" y=\"-164.3\" font-family=\"Helvetica,sans-Serif\" font-size=\"14.00\">gini = 0.0</text>\n",
       "<text text-anchor=\"middle\" x=\"486.5\" y=\"-149.3\" font-family=\"Helvetica,sans-Serif\" font-size=\"14.00\">samples = 2</text>\n",
       "<text text-anchor=\"middle\" x=\"486.5\" y=\"-134.3\" font-family=\"Helvetica,sans-Serif\" font-size=\"14.00\">value = [0, 0, 2]</text>\n",
       "<text text-anchor=\"middle\" x=\"486.5\" y=\"-119.3\" font-family=\"Helvetica,sans-Serif\" font-size=\"14.00\">class = virginica</text>\n",
       "</g>\n",
       "<!-- 11&#45;&gt;12 -->\n",
       "<g id=\"edge12\" class=\"edge\">\n",
       "<title>11&#45;&gt;12</title>\n",
       "<path fill=\"none\" stroke=\"black\" d=\"M517.85,-222.91C513.36,-211.98 508.5,-200.14 503.98,-189.11\"/>\n",
       "<polygon fill=\"black\" stroke=\"black\" points=\"507.14,-187.59 500.11,-179.67 500.66,-190.25 507.14,-187.59\"/>\n",
       "</g>\n",
       "<!-- 13 -->\n",
       "<g id=\"node14\" class=\"node\">\n",
       "<title>13</title>\n",
       "<polygon fill=\"#39e581\" stroke=\"black\" points=\"690,-179.5 563,-179.5 563,-111.5 690,-111.5 690,-179.5\"/>\n",
       "<text text-anchor=\"middle\" x=\"626.5\" y=\"-164.3\" font-family=\"Helvetica,sans-Serif\" font-size=\"14.00\">gini = 0.0</text>\n",
       "<text text-anchor=\"middle\" x=\"626.5\" y=\"-149.3\" font-family=\"Helvetica,sans-Serif\" font-size=\"14.00\">samples = 1</text>\n",
       "<text text-anchor=\"middle\" x=\"626.5\" y=\"-134.3\" font-family=\"Helvetica,sans-Serif\" font-size=\"14.00\">value = [0, 1, 0]</text>\n",
       "<text text-anchor=\"middle\" x=\"626.5\" y=\"-119.3\" font-family=\"Helvetica,sans-Serif\" font-size=\"14.00\">class = versicolor</text>\n",
       "</g>\n",
       "<!-- 11&#45;&gt;13 -->\n",
       "<g id=\"edge13\" class=\"edge\">\n",
       "<title>11&#45;&gt;13</title>\n",
       "<path fill=\"none\" stroke=\"black\" d=\"M566.42,-222.91C575.36,-211.54 585.08,-199.18 594.05,-187.77\"/>\n",
       "<polygon fill=\"black\" stroke=\"black\" points=\"596.99,-189.69 600.42,-179.67 591.49,-185.36 596.99,-189.69\"/>\n",
       "</g>\n",
       "</g>\n",
       "</svg>\n"
      ],
      "text/plain": [
       "<graphviz.sources.Source at 0x20fdf220c40>"
      ]
     },
     "execution_count": 31,
     "metadata": {},
     "output_type": "execute_result"
    }
   ],
   "source": [
    "with open('tree.dot') as f:\n",
    "  dot_graph = f.read()\n",
    "graphviz.Source(dot_graph)"
   ]
  },
  {
   "cell_type": "code",
   "execution_count": 33,
   "id": "33f9365f",
   "metadata": {},
   "outputs": [
    {
     "name": "stdout",
     "output_type": "stream",
     "text": [
      "Feature importances:\n",
      "[0.012 0.017 0.574 0.397]\n",
      "sepal length (cm) : 0.012\n",
      "sepal width (cm) : 0.017\n",
      "petal length (cm) : 0.574\n",
      "petal width (cm) : 0.397\n"
     ]
    },
    {
     "data": {
      "text/plain": [
       "<AxesSubplot:>"
      ]
     },
     "execution_count": 33,
     "metadata": {},
     "output_type": "execute_result"
    },
    {
     "data": {
      "image/png": "[encoded data removed]",
      "text/plain": [
       "<Figure size 432x288 with 1 Axes>"
      ]
     },
     "metadata": {
      "needs_background": "light"
     },
     "output_type": "display_data"
    }
   ],
   "source": [
    "import seaborn as sns\n",
    "%matplotlib inline\n",
    "\n",
    "# feature importance 추출 \n",
    "print(\"Feature importances:\\n{0}\".format(np.round(dt_clf.feature_importances_, 3)))\n",
    "\n",
    "# feature별 importance 매핑\n",
    "for name, value in zip(iris.feature_names , dt_clf.feature_importances_):\n",
    "    print('{0} : {1:.3f}'.format(name, value))\n",
    "\n",
    "# feature importance를 column 별로 시각화 하기 \n",
    "sns.barplot(x=dt_clf.feature_importances_ , y=iris.feature_names)"
   ]
  }
 ],
 "metadata": {
  "kernelspec": {
   "display_name": "Python 3 (ipykernel)",
   "language": "python",
   "name": "python3"
  },
  "language_info": {
   "codemirror_mode": {
    "name": "ipython",
    "version": 3
   },
   "file_extension": ".py",
   "mimetype": "text/x-python",
   "name": "python",
   "nbconvert_exporter": "python",
   "pygments_lexer": "ipython3",
   "version": "3.9.5"
  }
 },
 "nbformat": 4,
 "nbformat_minor": 5
}
